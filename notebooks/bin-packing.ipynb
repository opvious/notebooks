{
 "cells": [
  {
   "cell_type": "markdown",
   "id": "b684e857",
   "metadata": {},
   "source": [
    "# Bin packing"
   ]
  },
  {
   "cell_type": "code",
   "execution_count": 1,
   "id": "932cd414",
   "metadata": {},
   "outputs": [],
   "source": [
    "import opvious\n",
    "import opvious.modeling as om\n",
    "\n",
    "client = opvious.Client.from_environment()"
   ]
  },
  {
   "cell_type": "markdown",
   "id": "943d9b31",
   "metadata": {},
   "source": [
    "## Problem formulation"
   ]
  },
  {
   "cell_type": "code",
   "execution_count": 2,
   "id": "e7d077c8",
   "metadata": {},
   "outputs": [
    {
     "data": {
      "text/markdown": [
       "<div style=\"margin-top: 1em; margin-bottom: 1em;\">\n",
       "<details open>\n",
       "<summary style=\"cursor: pointer; text-decoration: underline; text-decoration-style: dotted;\">BinPacking</summary>\n",
       "<div style=\"margin-top: 1em;\">\n",
       "$$\n",
       "\\begin{align*}\n",
       "  \\S^d_\\mathrm{items}&: I \\\\\n",
       "  \\S^p_\\mathrm{weight}&: w \\in \\mathbb{R}_+^{I} \\\\\n",
       "  \\S^p_\\mathrm{binMaxWeight}&: w^\\mathrm{binMax} \\in \\mathbb{R}_+ \\\\\n",
       "  \\S^v_\\mathrm{assigned}&: \\alpha \\in \\{0, 1\\}^{I \\times \\{ 1 \\ldots \\lvert I \\rvert \\}} \\\\\n",
       "  \\S^v_\\mathrm{binUsed}&: \\psi^\\mathrm{bin} \\in \\{0, 1\\}^{\\{ 1 \\ldots \\lvert I \\rvert \\}} \\\\\n",
       "  \\S^o_\\mathrm{minimizeBinsUsed}&: \\min \\sum_{x \\in \\{ 1 \\ldots \\lvert I \\rvert \\}} \\psi^\\mathrm{bin}_{x} \\\\\n",
       "  \\S^c_\\mathrm{eachItemIsAssignedOnce}&: \\forall i \\in I, \\sum_{x \\in \\{ 1 \\ldots \\lvert I \\rvert \\}} \\alpha_{i,x} = 1 \\\\\n",
       "  \\S^c_\\mathrm{binsWithAssignmentsAreUsed}&: \\forall i \\in I, x \\in \\{ 1 \\ldots \\lvert I \\rvert \\}, \\alpha_{i,x} \\leq \\psi^\\mathrm{bin}_{x} \\\\\n",
       "  \\S^c_\\mathrm{binWeightsAreBelowMax}&: \\forall x \\in \\{ 1 \\ldots \\lvert I \\rvert \\}, \\sum_{i \\in I} w_{i} \\alpha_{i,x} \\leq w^\\mathrm{binMax} \\\\\n",
       "\\end{align*}\n",
       "$$\n",
       "</div>\n",
       "</details>\n",
       "</div>"
      ],
      "text/plain": [
       "LocalSpecification(sources=[LocalSpecificationSource(text='$$\\n\\\\begin{align*}\\n  \\\\S^d_\\\\mathrm{items}&: I \\\\\\\\\\n  \\\\S^p_\\\\mathrm{weight}&: w \\\\in \\\\mathbb{R}_+^{I} \\\\\\\\\\n  \\\\S^p_\\\\mathrm{binMaxWeight}&: w^\\\\mathrm{binMax} \\\\in \\\\mathbb{R}_+ \\\\\\\\\\n  \\\\S^v_\\\\mathrm{assigned}&: \\\\alpha \\\\in \\\\{0, 1\\\\}^{I \\\\times \\\\{ 1 \\\\ldots \\\\lvert I \\\\rvert \\\\}} \\\\\\\\\\n  \\\\S^v_\\\\mathrm{binUsed}&: \\\\psi^\\\\mathrm{bin} \\\\in \\\\{0, 1\\\\}^{\\\\{ 1 \\\\ldots \\\\lvert I \\\\rvert \\\\}} \\\\\\\\\\n  \\\\S^o_\\\\mathrm{minimizeBinsUsed}&: \\\\min \\\\sum_{x \\\\in \\\\{ 1 \\\\ldots \\\\lvert I \\\\rvert \\\\}} \\\\psi^\\\\mathrm{bin}_{x} \\\\\\\\\\n  \\\\S^c_\\\\mathrm{eachItemIsAssignedOnce}&: \\\\forall i \\\\in I, \\\\sum_{x \\\\in \\\\{ 1 \\\\ldots \\\\lvert I \\\\rvert \\\\}} \\\\alpha_{i,x} = 1 \\\\\\\\\\n  \\\\S^c_\\\\mathrm{binsWithAssignmentsAreUsed}&: \\\\forall i \\\\in I, x \\\\in \\\\{ 1 \\\\ldots \\\\lvert I \\\\rvert \\\\}, \\\\alpha_{i,x} \\\\leq \\\\psi^\\\\mathrm{bin}_{x} \\\\\\\\\\n  \\\\S^c_\\\\mathrm{binWeightsAreBelowMax}&: \\\\forall x \\\\in \\\\{ 1 \\\\ldots \\\\lvert I \\\\rvert \\\\}, \\\\sum_{i \\\\in I} w_{i} \\\\alpha_{i,x} \\\\leq w^\\\\mathrm{binMax} \\\\\\\\\\n\\\\end{align*}\\n$$', title='BinPacking')], description='Sample bin-packing formulation', annotation=None)"
      ]
     },
     "execution_count": 2,
     "metadata": {},
     "output_type": "execute_result"
    }
   ],
   "source": [
    "class BinPacking(om.Model):\n",
    "    \"\"\"Sample bin-packing formulation\"\"\"\n",
    "\n",
    "    items = om.Dimension()\n",
    "    weight = om.Parameter.non_negative(items)\n",
    "    bins = om.interval(1, om.size(items))\n",
    "    bin_max_weight = om.Parameter.non_negative()\n",
    "\n",
    "    assigned = om.Variable.indicator(items, bins)\n",
    "    bin_used = om.Variable.indicator(bins)\n",
    "    \n",
    "    @om.objective\n",
    "    def minimize_bins_used(self):\n",
    "        return om.total(self.bin_used(b) for b in self.bins)\n",
    "    \n",
    "    @om.constraint\n",
    "    def each_item_is_assigned_once(self):\n",
    "        for i in self.items:\n",
    "            yield om.total(self.assigned(i, b) for b in self.bins) == 1\n",
    "            \n",
    "    @om.constraint\n",
    "    def bins_with_assignments_are_used(self):\n",
    "        for i, b in om.cross(self.items, self.bins):\n",
    "            yield self.assigned(i, b) <= self.bin_used(b)\n",
    "            \n",
    "    @om.constraint\n",
    "    def bin_weights_are_below_max(self):\n",
    "        for b in self.bins:\n",
    "            bin_weight = om.total(self.weight(i) * self.assigned(i, b) for i in self.items)\n",
    "            yield bin_weight <= self.bin_max_weight()\n",
    "            \n",
    "bp = BinPacking()\n",
    "bp.specification()"
   ]
  },
  {
   "cell_type": "markdown",
   "id": "7e1a8819",
   "metadata": {},
   "source": [
    "## Optimal solutions"
   ]
  },
  {
   "cell_type": "code",
   "execution_count": 3,
   "id": "adad2341",
   "metadata": {},
   "outputs": [],
   "source": [
    "async def optimal_assignment(bin_max_weight, item_weights):\n",
    "    \"\"\"Returns the optimal assignment from item name to bin index\"\"\"\n",
    "    res = await client.run_solve(\n",
    "        specification=bp.specification(),\n",
    "        parameters={'weight': item_weights, 'binMaxWeight': bin_max_weight},\n",
    "        assert_feasible=True,\n",
    "    )\n",
    "    df = res.outputs.variable('assigned')\n",
    "    return dict(df.index)"
   ]
  },
  {
   "cell_type": "code",
   "execution_count": 4,
   "id": "337b269c",
   "metadata": {},
   "outputs": [
    {
     "data": {
      "text/plain": [
       "{'light': 2, 'medium': 2, 'heavy': 1}"
      ]
     },
     "execution_count": 4,
     "metadata": {},
     "output_type": "execute_result"
    }
   ],
   "source": [
    "await optimal_assignment(15, {\n",
    "    'light': 5,\n",
    "    'medium': 10,\n",
    "    'heavy': 15,\n",
    "})"
   ]
  },
  {
   "cell_type": "code",
   "execution_count": null,
   "id": "c0f34fbd",
   "metadata": {},
   "outputs": [],
   "source": []
  }
 ],
 "metadata": {
  "kernelspec": {
   "display_name": "Python 3 (ipykernel)",
   "language": "python",
   "name": "python3"
  },
  "language_info": {
   "codemirror_mode": {
    "name": "ipython",
    "version": 3
   },
   "file_extension": ".py",
   "mimetype": "text/x-python",
   "name": "python",
   "nbconvert_exporter": "python",
   "pygments_lexer": "ipython3",
   "version": "3.11.3"
  }
 },
 "nbformat": 4,
 "nbformat_minor": 5
}
