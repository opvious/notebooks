{
  "cells": [
    {
      "cell_type": "code",
      "metadata": {},
      "source": "import sys\nif \"pyodide\" in sys.modules:\n    import piplite\n    await piplite.install('opvious>=0.15.0')",
      "outputs": [],
      "execution_count": 0
    },
    {
      "cell_type": "markdown",
      "id": "ed29c462",
      "metadata": {},
      "source": [
        "# Product allocation"
      ]
    },
    {
      "cell_type": "code",
      "execution_count": 1,
      "id": "89adcc3f",
      "metadata": {},
      "outputs": [],
      "source": [
        "import io\n",
        "import logging\n",
        "import opvious\n",
        "import opvious.modeling as om\n",
        "import pandas as pd\n",
        "\n",
        "logging.basicConfig(level=logging.INFO, format=\"%(asctime)s %(levelname)s %(message)s\", datefmt=\"%H:%M:%S\")\n",
        "\n",
        "client = opvious.Client.default()"
      ]
    },
    {
      "cell_type": "markdown",
      "id": "99ae6e2d",
      "metadata": {},
      "source": [
        "## Model\n",
        "\n",
        "Equivalent LaTeX formulation: https://github.com/opvious/examples/blob/main/sources/product-allocation.md"
      ]
    },
    {
      "cell_type": "code",
      "execution_count": 2,
      "id": "35943dc2",
      "metadata": {},
      "outputs": [
        {
          "data": {
            "text/markdown": "<div style=\"margin-top: 1em; margin-bottom: 1em;\">\n<details open>\n<summary style=\"cursor: pointer; text-decoration: underline; text-decoration-style: dotted;\">ProductAllocation</summary>\n<div style=\"margin-top: 1em;\">\n$$\n\\begin{align*}\n  \\S^d_\\mathrm{products}&: P \\\\\n  \\S^d_\\mathrm{sizes}&: S \\\\\n  \\S^d_\\mathrm{locations}&: L \\\\\n  \\S^d_\\mathrm{tiers}&: T \\\\\n  \\S^p_\\mathrm{supply}&: a^\\mathrm{max} \\in \\mathbb{N}^{P \\times S} \\\\\n  \\S^p_\\mathrm{minAllocation}&: a^\\mathrm{min} \\in \\mathbb{N}^{P} \\\\\n  \\S^p_\\mathrm{maxTotalAllocation}&: a^\\mathrm{maxTotal} \\in \\mathbb{N} \\\\\n  \\S^p_\\mathrm{breadth}&: b \\in \\mathbb{N}^{P} \\\\\n  \\S^p_\\mathrm{demand}&: d \\in \\mathbb{N}^{L \\times P \\times S \\times T} \\\\\n  \\S^p_\\mathrm{value}&: v \\in \\mathbb{R}^{T} \\\\\n  \\S^v_\\mathrm{allocation}&: \\alpha \\in \\{0 \\ldots a^\\mathrm{maxTotal}\\}^{L \\times P \\times S \\times T} \\\\\n  \\S^v_\\mathrm{productAllocated}&: \\alpha^\\mathrm{product} \\in \\{0, 1\\}^{L \\times P} \\\\\n  \\S^c_\\mathrm{productAllocatedActivates}&: \\forall l \\in L, p \\in P, s \\in S, t \\in T, a^\\mathrm{maxTotal} \\alpha^\\mathrm{product}_{l,p} \\geq \\alpha_{l,p,s,t} \\\\\n  \\S^v_\\mathrm{sizeAllocated}&: \\alpha^\\mathrm{size} \\in \\{0, 1\\}^{L \\times P \\times S} \\\\\n  \\S^c_\\mathrm{sizeAllocatedDeactivates}&: \\forall l \\in L, p \\in P, s \\in S, \\alpha^\\mathrm{size}_{l,p,s} \\leq \\sum_{t \\in T} \\alpha_{l,p,s,t} \\\\\n  \\S^c_\\mathrm{allocationFitsWithinDemand}&: \\forall l \\in L, p \\in P, s \\in S, t \\in T, \\alpha_{l,p,s,t} \\leq d_{l,p,s,t} \\\\\n  \\S^c_\\mathrm{allocationFitsWithinSupply}&: \\forall p \\in P, s \\in S, \\sum_{l \\in L, t \\in T} \\alpha_{l,p,s,t} \\leq a^\\mathrm{max}_{p,s} \\\\\n  \\S^c_\\mathrm{totalAllocationFitsWithinMax}&: \\sum_{l \\in L, p \\in P, s \\in S, t \\in T} \\alpha_{l,p,s,t} \\leq a^\\mathrm{maxTotal} \\\\\n  \\S^c_\\mathrm{allocationMeetsProductMin}&: \\forall p \\in P, l \\in L, \\sum_{s \\in S, t \\in T} \\alpha_{l,p,s,t} \\geq a^\\mathrm{min}_{p} \\alpha^\\mathrm{product}_{l,p} \\\\\n  \\S^c_\\mathrm{allocationMeetsProductBreadth}&: \\forall p \\in P, l \\in L, \\sum_{s \\in S} \\alpha^\\mathrm{size}_{l,p,s} \\geq b_{p} \\alpha^\\mathrm{product}_{l,p} \\\\\n  \\S^o_\\mathrm{maximizeValue}&: \\max \\sum_{l \\in L, p \\in P, s \\in S, t \\in T} v_{t} \\alpha_{l,p,s,t} \\\\\n\\end{align*}\n$$\n</div>\n</details>\n</div>",
            "text/plain": "LocalSpecification(sources=[LocalSpecificationSource(text='$$\\n\\\\begin{align*}\\n  \\\\S^d_\\\\mathrm{products}&: P \\\\\\\\\\n  \\\\S^d_\\\\mathrm{sizes}&: S \\\\\\\\\\n  \\\\S^d_\\\\mathrm{locations}&: L \\\\\\\\\\n  \\\\S^d_\\\\mathrm{tiers}&: T \\\\\\\\\\n  \\\\S^p_\\\\mathrm{supply}&: a^\\\\mathrm{max} \\\\in \\\\mathbb{N}^{P \\\\times S} \\\\\\\\\\n  \\\\S^p_\\\\mathrm{minAllocation}&: a^\\\\mathrm{min} \\\\in \\\\mathbb{N}^{P} \\\\\\\\\\n  \\\\S^p_\\\\mathrm{maxTotalAllocation}&: a^\\\\mathrm{maxTotal} \\\\in \\\\mathbb{N} \\\\\\\\\\n  \\\\S^p_\\\\mathrm{breadth}&: b \\\\in \\\\mathbb{N}^{P} \\\\\\\\\\n  \\\\S^p_\\\\mathrm{demand}&: d \\\\in \\\\mathbb{N}^{L \\\\times P \\\\times S \\\\times T} \\\\\\\\\\n  \\\\S^p_\\\\mathrm{value}&: v \\\\in \\\\mathbb{R}^{T} \\\\\\\\\\n  \\\\S^v_\\\\mathrm{allocation}&: \\\\alpha \\\\in \\\\{0 \\\\ldots a^\\\\mathrm{maxTotal}\\\\}^{L \\\\times P \\\\times S \\\\times T} \\\\\\\\\\n  \\\\S^v_\\\\mathrm{productAllocated}&: \\\\alpha^\\\\mathrm{product} \\\\in \\\\{0, 1\\\\}^{L \\\\times P} \\\\\\\\\\n  \\\\S^c_\\\\mathrm{productAllocatedActivates}&: \\\\forall l \\\\in L, p \\\\in P, s \\\\in S, t \\\\in T, a^\\\\mathrm{maxTotal} \\\\alpha^\\\\mathrm{product}_{l,p} \\\\geq \\\\alpha_{l,p,s,t} \\\\\\\\\\n  \\\\S^v_\\\\mathrm{sizeAllocated}&: \\\\alpha^\\\\mathrm{size} \\\\in \\\\{0, 1\\\\}^{L \\\\times P \\\\times S} \\\\\\\\\\n  \\\\S^c_\\\\mathrm{sizeAllocatedDeactivates}&: \\\\forall l \\\\in L, p \\\\in P, s \\\\in S, \\\\alpha^\\\\mathrm{size}_{l,p,s} \\\\leq \\\\sum_{t \\\\in T} \\\\alpha_{l,p,s,t} \\\\\\\\\\n  \\\\S^c_\\\\mathrm{allocationFitsWithinDemand}&: \\\\forall l \\\\in L, p \\\\in P, s \\\\in S, t \\\\in T, \\\\alpha_{l,p,s,t} \\\\leq d_{l,p,s,t} \\\\\\\\\\n  \\\\S^c_\\\\mathrm{allocationFitsWithinSupply}&: \\\\forall p \\\\in P, s \\\\in S, \\\\sum_{l \\\\in L, t \\\\in T} \\\\alpha_{l,p,s,t} \\\\leq a^\\\\mathrm{max}_{p,s} \\\\\\\\\\n  \\\\S^c_\\\\mathrm{totalAllocationFitsWithinMax}&: \\\\sum_{l \\\\in L, p \\\\in P, s \\\\in S, t \\\\in T} \\\\alpha_{l,p,s,t} \\\\leq a^\\\\mathrm{maxTotal} \\\\\\\\\\n  \\\\S^c_\\\\mathrm{allocationMeetsProductMin}&: \\\\forall p \\\\in P, l \\\\in L, \\\\sum_{s \\\\in S, t \\\\in T} \\\\alpha_{l,p,s,t} \\\\geq a^\\\\mathrm{min}_{p} \\\\alpha^\\\\mathrm{product}_{l,p} \\\\\\\\\\n  \\\\S^c_\\\\mathrm{allocationMeetsProductBreadth}&: \\\\forall p \\\\in P, l \\\\in L, \\\\sum_{s \\\\in S} \\\\alpha^\\\\mathrm{size}_{l,p,s} \\\\geq b_{p} \\\\alpha^\\\\mathrm{product}_{l,p} \\\\\\\\\\n  \\\\S^o_\\\\mathrm{maximizeValue}&: \\\\max \\\\sum_{l \\\\in L, p \\\\in P, s \\\\in S, t \\\\in T} v_{t} \\\\alpha_{l,p,s,t} \\\\\\\\\\n\\\\end{align*}\\n$$', title='ProductAllocation')], description=None, annotation=LocalSpecificationAnnotation(issue_count=0, issues={}))"
          },
          "execution_count": 2,
          "metadata": {},
          "output_type": "execute_result"
        }
      ],
      "source": [
        "class ProductAllocation(om.Model):\n",
        "    products = om.Dimension()\n",
        "    sizes = om.Dimension()\n",
        "    locations = om.Dimension()\n",
        "    tiers = om.Dimension()\n",
        "\n",
        "    supply = om.Parameter.natural(products, sizes, name=r\"a^\\mathrm{max}\")\n",
        "    min_allocation = om.Parameter.natural(products)\n",
        "    max_total_allocation = om.Parameter.natural()\n",
        "    breadth = om.Parameter.natural(products)\n",
        "    demand = om.Parameter.natural(locations, products, sizes, tiers)\n",
        "    value = om.Parameter.continuous(tiers)\n",
        "\n",
        "    allocation = om.Variable.natural(*demand.quantifiables(), upper_bound=max_total_allocation())\n",
        "    product_allocated = om.fragments.ActivationVariable(allocation, projection=0b11)\n",
        "    size_allocated = om.fragments.ActivationVariable(allocation, projection=0b111, upper_bound=False, lower_bound=1)\n",
        "        \n",
        "    @om.constraint\n",
        "    def allocation_fits_within_demand(self):\n",
        "        for l, p, s, t in self.locations * self.products * self.sizes * self.tiers:\n",
        "            yield self.allocation(l, p, s, t) <= self.demand(l, p, s, t)\n",
        "            \n",
        "    @om.constraint\n",
        "    def allocation_fits_within_supply(self):\n",
        "        for p, s in self.products * self.sizes:\n",
        "            yield om.total(self.allocation(l, p, s, t) for l, t in self.locations * self.tiers) <= self.supply(p, s)\n",
        "            \n",
        "    @om.constraint\n",
        "    def total_allocation_fits_within_max(self):\n",
        "        total = om.total(\n",
        "            self.allocation(l, p, s, t)\n",
        "            for l, p, s, t in self.locations * self.products * self.sizes * self.tiers\n",
        "        )\n",
        "        yield total <= self.max_total_allocation()\n",
        "        \n",
        "    @om.constraint\n",
        "    def allocation_meets_product_min(self):\n",
        "        for p, l in self.products * self.locations:\n",
        "            alloc = om.total(self.allocation(l, p, s, t) for s, t in self.sizes * self.tiers)\n",
        "            yield alloc >= self.min_allocation(p) * self.product_allocated(l, p)\n",
        "        \n",
        "    @om.constraint\n",
        "    def allocation_meets_product_breadth(self):\n",
        "        for p, l in self.products * self.locations:\n",
        "            breadth = om.total(self.size_allocated(l, p, s) for s in self.sizes)\n",
        "            yield breadth >= self.breadth(p) * self.product_allocated(l, p)\n",
        "\n",
        "    @om.objective\n",
        "    def maximize_value(self):\n",
        "        return om.total(\n",
        "            self.value(t) * self.allocation(l, p, s, t)\n",
        "            for l, p, s, t in self.locations * self.products * self.sizes * self.tiers\n",
        "        )\n",
        "\n",
        "    \n",
        "model = ProductAllocation()\n",
        "await client.annotate_specification(model.specification())"
      ]
    },
    {
      "cell_type": "markdown",
      "id": "fafc3407",
      "metadata": {},
      "source": [
        "## Solution\n",
        "\n",
        "Let's solve the model above on a small dataset."
      ]
    },
    {
      "cell_type": "code",
      "execution_count": 3,
      "id": "fc6c1534",
      "metadata": {},
      "outputs": [
        {
          "data": {
            "text/html": "<div>\n<style scoped>\n    .dataframe tbody tr th:only-of-type {\n        vertical-align: middle;\n    }\n\n    .dataframe tbody tr th {\n        vertical-align: top;\n    }\n\n    .dataframe thead th {\n        text-align: right;\n    }\n</style>\n<table border=\"1\" class=\"dataframe\">\n  <thead>\n    <tr style=\"text-align: right;\">\n      <th></th>\n      <th></th>\n      <th></th>\n      <th></th>\n      <th>demand</th>\n    </tr>\n    <tr>\n      <th>location</th>\n      <th>product</th>\n      <th>size</th>\n      <th>tier</th>\n      <th></th>\n    </tr>\n  </thead>\n  <tbody>\n    <tr>\n      <th rowspan=\"4\" valign=\"top\">Boston</th>\n      <th>hoodie</th>\n      <th>M</th>\n      <th>T1</th>\n      <td>50</td>\n    </tr>\n    <tr>\n      <th rowspan=\"3\" valign=\"top\">shirt</th>\n      <th rowspan=\"2\" valign=\"top\">L</th>\n      <th>T1</th>\n      <td>30</td>\n    </tr>\n    <tr>\n      <th>T2</th>\n      <td>25</td>\n    </tr>\n    <tr>\n      <th>XL</th>\n      <th>T1</th>\n      <td>20</td>\n    </tr>\n    <tr>\n      <th rowspan=\"5\" valign=\"top\">Seattle</th>\n      <th rowspan=\"4\" valign=\"top\">hoodie</th>\n      <th>M</th>\n      <th>T1</th>\n      <td>100</td>\n    </tr>\n    <tr>\n      <th rowspan=\"2\" valign=\"top\">L</th>\n      <th>T1</th>\n      <td>75</td>\n    </tr>\n    <tr>\n      <th>T2</th>\n      <td>50</td>\n    </tr>\n    <tr>\n      <th>XL</th>\n      <th>T1</th>\n      <td>50</td>\n    </tr>\n    <tr>\n      <th>shirt</th>\n      <th>L</th>\n      <th>T1</th>\n      <td>10</td>\n    </tr>\n  </tbody>\n</table>\n</div>",
            "text/plain": "                            demand\nlocation product size tier        \nBoston   hoodie  M    T1        50\n         shirt   L    T1        30\n                      T2        25\n                 XL   T1        20\nSeattle  hoodie  M    T1       100\n                 L    T1        75\n                      T2        50\n                 XL   T1        50\n         shirt   L    T1        10"
          },
          "execution_count": 3,
          "metadata": {},
          "output_type": "execute_result"
        }
      ],
      "source": [
        "demand_df = pd.read_csv(io.StringIO(\"\"\"\n",
        "location,tier,product,size,demand\n",
        "Boston,T1,hoodie,M,50\n",
        "Boston,T1,shirt,L,30\n",
        "Boston,T2,shirt,L,25\n",
        "Boston,T1,shirt,XL,20\n",
        "Seattle,T1,hoodie,M,100\n",
        "Seattle,T1,hoodie,L,75\n",
        "Seattle,T2,hoodie,L,50\n",
        "Seattle,T1,hoodie,XL,50\n",
        "Seattle,T1,shirt,L,10\n",
        "\"\"\")).set_index([\"location\", \"product\", \"size\", \"tier\"])\n",
        "demand_df"
      ]
    },
    {
      "cell_type": "code",
      "execution_count": 4,
      "id": "9cacd452",
      "metadata": {},
      "outputs": [
        {
          "data": {
            "text/html": "<div>\n<style scoped>\n    .dataframe tbody tr th:only-of-type {\n        vertical-align: middle;\n    }\n\n    .dataframe tbody tr th {\n        vertical-align: top;\n    }\n\n    .dataframe thead th {\n        text-align: right;\n    }\n</style>\n<table border=\"1\" class=\"dataframe\">\n  <thead>\n    <tr style=\"text-align: right;\">\n      <th></th>\n      <th></th>\n      <th>supply</th>\n    </tr>\n    <tr>\n      <th>product</th>\n      <th>size</th>\n      <th></th>\n    </tr>\n  </thead>\n  <tbody>\n    <tr>\n      <th rowspan=\"2\" valign=\"top\">hoodie</th>\n      <th>M</th>\n      <td>100</td>\n    </tr>\n    <tr>\n      <th>L</th>\n      <td>50</td>\n    </tr>\n    <tr>\n      <th rowspan=\"2\" valign=\"top\">shirt</th>\n      <th>L</th>\n      <td>50</td>\n    </tr>\n    <tr>\n      <th>XL</th>\n      <td>10</td>\n    </tr>\n  </tbody>\n</table>\n</div>",
            "text/plain": "              supply\nproduct size        \nhoodie  M        100\n        L         50\nshirt   L         50\n        XL        10"
          },
          "execution_count": 4,
          "metadata": {},
          "output_type": "execute_result"
        }
      ],
      "source": [
        "supply_df = pd.read_csv(io.StringIO(\"\"\"\n",
        "product,size,supply\n",
        "hoodie,M,100\n",
        "hoodie,L,50\n",
        "shirt,L,50\n",
        "shirt,XL,10\n",
        "\"\"\")).set_index([\"product\", \"size\"])\n",
        "supply_df"
      ]
    },
    {
      "cell_type": "code",
      "execution_count": 5,
      "id": "90c13efe",
      "metadata": {},
      "outputs": [
        {
          "data": {
            "text/html": "<div>\n<style scoped>\n    .dataframe tbody tr th:only-of-type {\n        vertical-align: middle;\n    }\n\n    .dataframe tbody tr th {\n        vertical-align: top;\n    }\n\n    .dataframe thead th {\n        text-align: right;\n    }\n</style>\n<table border=\"1\" class=\"dataframe\">\n  <thead>\n    <tr style=\"text-align: right;\">\n      <th></th>\n      <th>min_allocation</th>\n      <th>diversity</th>\n    </tr>\n    <tr>\n      <th>product</th>\n      <th></th>\n      <th></th>\n    </tr>\n  </thead>\n  <tbody>\n    <tr>\n      <th>hoodie</th>\n      <td>100</td>\n      <td>2</td>\n    </tr>\n    <tr>\n      <th>shirt</th>\n      <td>10</td>\n      <td>2</td>\n    </tr>\n  </tbody>\n</table>\n</div>",
            "text/plain": "         min_allocation  diversity\nproduct                           \nhoodie              100          2\nshirt                10          2"
          },
          "execution_count": 5,
          "metadata": {},
          "output_type": "execute_result"
        }
      ],
      "source": [
        "product_df = pd.read_csv(io.StringIO(\"\"\"\n",
        "product,min_allocation,diversity\n",
        "hoodie,100,2\n",
        "shirt,10,2\n",
        "\"\"\")).set_index([\"product\"])\n",
        "product_df"
      ]
    },
    {
      "cell_type": "code",
      "execution_count": 6,
      "id": "f66abb7d",
      "metadata": {},
      "outputs": [
        {
          "name": "stderr",
          "output_type": "stream",
          "text": "14:48:21 INFO Validated inputs. [parameters=20]\n14:48:22 INFO Solving problem... [columns=40, rows=75]\n14:48:22 INFO Solve completed with status OPTIMAL. [objective=206]\n"
        }
      ],
      "source": [
        "response = await client.run_solve(\n",
        "    specification=model.specification(),\n",
        "    parameters={\n",
        "        \"demand\": demand_df[\"demand\"],\n",
        "        \"value\": {\"T1\": 1, \"T2\": 0.8},\n",
        "        \"minAllocation\": product_df[\"min_allocation\"],\n",
        "        \"breadth\": product_df[\"diversity\"],\n",
        "        \"supply\": supply_df[\"supply\"],\n",
        "        \"maxTotalAllocation\": 500\n",
        "    },\n",
        "    assert_feasible=True\n",
        ")"
      ]
    },
    {
      "cell_type": "code",
      "execution_count": 7,
      "id": "bdf01ff6",
      "metadata": {},
      "outputs": [
        {
          "data": {
            "text/html": "<div>\n<style scoped>\n    .dataframe tbody tr th:only-of-type {\n        vertical-align: middle;\n    }\n\n    .dataframe tbody tr th {\n        vertical-align: top;\n    }\n\n    .dataframe thead th {\n        text-align: right;\n    }\n</style>\n<table border=\"1\" class=\"dataframe\">\n  <thead>\n    <tr style=\"text-align: right;\">\n      <th></th>\n      <th></th>\n      <th></th>\n      <th></th>\n      <th>value</th>\n    </tr>\n    <tr>\n      <th>locations</th>\n      <th>products</th>\n      <th>sizes</th>\n      <th>tiers</th>\n      <th></th>\n    </tr>\n  </thead>\n  <tbody>\n    <tr>\n      <th rowspan=\"3\" valign=\"top\">Boston</th>\n      <th rowspan=\"3\" valign=\"top\">shirt</th>\n      <th rowspan=\"2\" valign=\"top\">L</th>\n      <th>T1</th>\n      <td>30</td>\n    </tr>\n    <tr>\n      <th>T2</th>\n      <td>20</td>\n    </tr>\n    <tr>\n      <th>XL</th>\n      <th>T1</th>\n      <td>10</td>\n    </tr>\n    <tr>\n      <th rowspan=\"2\" valign=\"top\">Seattle</th>\n      <th rowspan=\"2\" valign=\"top\">hoodie</th>\n      <th>M</th>\n      <th>T1</th>\n      <td>100</td>\n    </tr>\n    <tr>\n      <th>L</th>\n      <th>T1</th>\n      <td>50</td>\n    </tr>\n  </tbody>\n</table>\n</div>",
            "text/plain": "                                value\nlocations products sizes tiers       \nBoston    shirt    L     T1        30\n                         T2        20\n                   XL    T1        10\nSeattle   hoodie   M     T1       100\n                   L     T1        50"
          },
          "execution_count": 7,
          "metadata": {},
          "output_type": "execute_result"
        }
      ],
      "source": [
        "response.outputs.variable(\"allocation\")"
      ]
    },
    {
      "cell_type": "code",
      "execution_count": 8,
      "id": "35e342ac",
      "metadata": {},
      "outputs": [
        {
          "data": {
            "text/html": "<div>\n<style scoped>\n    .dataframe tbody tr th:only-of-type {\n        vertical-align: middle;\n    }\n\n    .dataframe tbody tr th {\n        vertical-align: top;\n    }\n\n    .dataframe thead th {\n        text-align: right;\n    }\n</style>\n<table border=\"1\" class=\"dataframe\">\n  <thead>\n    <tr style=\"text-align: right;\">\n      <th></th>\n      <th>row_count</th>\n      <th>row_sprs</th>\n      <th>column_count</th>\n      <th>column_sprs</th>\n      <th>weight_count</th>\n      <th>weight_min</th>\n      <th>weight_max</th>\n      <th>weight_mean</th>\n      <th>weight_stddev</th>\n      <th>weight_sprs</th>\n      <th>reify_ms</th>\n    </tr>\n    <tr>\n      <th>label</th>\n      <th></th>\n      <th></th>\n      <th></th>\n      <th></th>\n      <th></th>\n      <th></th>\n      <th></th>\n      <th></th>\n      <th></th>\n      <th></th>\n      <th></th>\n    </tr>\n  </thead>\n  <tbody>\n    <tr>\n      <th>allocationFitsWithinDemand</th>\n      <td>24</td>\n      <td>0.0</td>\n      <td>24</td>\n      <td>0.0</td>\n      <td>24</td>\n      <td>1</td>\n      <td>1</td>\n      <td>1.000000</td>\n      <td>0.000000</td>\n      <td>3.178054</td>\n      <td>9</td>\n    </tr>\n    <tr>\n      <th>allocationFitsWithinSupply</th>\n      <td>6</td>\n      <td>0.0</td>\n      <td>24</td>\n      <td>0.0</td>\n      <td>24</td>\n      <td>1</td>\n      <td>1</td>\n      <td>1.000000</td>\n      <td>0.000000</td>\n      <td>1.791759</td>\n      <td>0</td>\n    </tr>\n    <tr>\n      <th>allocationMeetsProductBreadth</th>\n      <td>4</td>\n      <td>0.0</td>\n      <td>16</td>\n      <td>0.0</td>\n      <td>16</td>\n      <td>-2</td>\n      <td>1</td>\n      <td>0.250000</td>\n      <td>1.341641</td>\n      <td>1.386294</td>\n      <td>0</td>\n    </tr>\n    <tr>\n      <th>allocationMeetsProductMin</th>\n      <td>4</td>\n      <td>0.0</td>\n      <td>28</td>\n      <td>0.0</td>\n      <td>28</td>\n      <td>-100</td>\n      <td>1</td>\n      <td>-7.000000</td>\n      <td>26.423895</td>\n      <td>1.386294</td>\n      <td>1</td>\n    </tr>\n    <tr>\n      <th>productAllocatedActivates</th>\n      <td>24</td>\n      <td>0.0</td>\n      <td>28</td>\n      <td>0.0</td>\n      <td>48</td>\n      <td>-1</td>\n      <td>500</td>\n      <td>249.500000</td>\n      <td>253.150867</td>\n      <td>2.639057</td>\n      <td>3</td>\n    </tr>\n    <tr>\n      <th>sizeAllocatedDeactivates</th>\n      <td>12</td>\n      <td>0.0</td>\n      <td>36</td>\n      <td>0.0</td>\n      <td>36</td>\n      <td>-1</td>\n      <td>1</td>\n      <td>-0.333333</td>\n      <td>0.956183</td>\n      <td>2.484907</td>\n      <td>1</td>\n    </tr>\n    <tr>\n      <th>totalAllocationFitsWithinMax</th>\n      <td>1</td>\n      <td>0.0</td>\n      <td>24</td>\n      <td>0.0</td>\n      <td>24</td>\n      <td>1</td>\n      <td>1</td>\n      <td>1.000000</td>\n      <td>0.000000</td>\n      <td>0.000000</td>\n      <td>1</td>\n    </tr>\n  </tbody>\n</table>\n</div>",
            "text/plain": "                               row_count  row_sprs  column_count  column_sprs  \\\nlabel                                                                           \nallocationFitsWithinDemand            24       0.0            24          0.0   \nallocationFitsWithinSupply             6       0.0            24          0.0   \nallocationMeetsProductBreadth          4       0.0            16          0.0   \nallocationMeetsProductMin              4       0.0            28          0.0   \nproductAllocatedActivates             24       0.0            28          0.0   \nsizeAllocatedDeactivates              12       0.0            36          0.0   \ntotalAllocationFitsWithinMax           1       0.0            24          0.0   \n\n                               weight_count  weight_min  weight_max  \\\nlabel                                                                 \nallocationFitsWithinDemand               24           1           1   \nallocationFitsWithinSupply               24           1           1   \nallocationMeetsProductBreadth            16          -2           1   \nallocationMeetsProductMin                28        -100           1   \nproductAllocatedActivates                48          -1         500   \nsizeAllocatedDeactivates                 36          -1           1   \ntotalAllocationFitsWithinMax             24           1           1   \n\n                               weight_mean  weight_stddev  weight_sprs  \\\nlabel                                                                    \nallocationFitsWithinDemand        1.000000       0.000000     3.178054   \nallocationFitsWithinSupply        1.000000       0.000000     1.791759   \nallocationMeetsProductBreadth     0.250000       1.341641     1.386294   \nallocationMeetsProductMin        -7.000000      26.423895     1.386294   \nproductAllocatedActivates       249.500000     253.150867     2.639057   \nsizeAllocatedDeactivates         -0.333333       0.956183     2.484907   \ntotalAllocationFitsWithinMax      1.000000       0.000000     0.000000   \n\n                               reify_ms  \nlabel                                    \nallocationFitsWithinDemand            9  \nallocationFitsWithinSupply            0  \nallocationMeetsProductBreadth         0  \nallocationMeetsProductMin             1  \nproductAllocatedActivates             3  \nsizeAllocatedDeactivates              1  \ntotalAllocationFitsWithinMax          1  "
          },
          "execution_count": 8,
          "metadata": {},
          "output_type": "execute_result"
        }
      ],
      "source": [
        "response.summary.constraints"
      ]
    },
    {
      "cell_type": "code",
      "execution_count": null,
      "id": "cbac1598",
      "metadata": {},
      "outputs": [],
      "source": []
    }
  ],
  "metadata": {
    "kernelspec": {
      "display_name": "Python 3 (ipykernel)",
      "language": "python",
      "name": "python3"
    },
    "language_info": {
      "codemirror_mode": {
        "name": "ipython",
        "version": 3
      },
      "file_extension": ".py",
      "mimetype": "text/x-python",
      "name": "python",
      "nbconvert_exporter": "python",
      "pygments_lexer": "ipython3",
      "version": "3.11.4"
    }
  },
  "nbformat": 4,
  "nbformat_minor": 5
}