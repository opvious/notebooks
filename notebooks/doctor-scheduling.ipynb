{
  "cells": [
    {
      "cell_type": "code",
      "metadata": {},
      "source": "import sys\nif \"pyodide\" in sys.modules:\n    import piplite\n    await piplite.install('opvious>=0.14.0')",
      "outputs": [],
      "execution_count": 0
    },
    {
      "cell_type": "markdown",
      "id": "345b2381",
      "metadata": {},
      "source": [
        "# Modeling\n",
        "\n",
        "We start with a few common model components."
      ]
    },
    {
      "cell_type": "code",
      "execution_count": 2,
      "id": "6159292a",
      "metadata": {},
      "outputs": [
        {
          "data": {
            "text/markdown": [
              "\n<details open>\n<summary style=\"cursor: pointer; text-decoration: underline; text-decoration-style: dotted;\">Common</summary>\n<div style=\"margin-top: 1em;\">\n$$\n\\begin{align*}\n  \\S^p_\\mathrm{horizon}&: h \\in \\mathbb{N} \\\\\n  \\S^d_\\mathrm{doctors}&: I \\\\\n  \\S^a&: T \\doteq \\{ 1 \\ldots h \\} \\\\\n  \\S^d_\\mathrm{shifts}&: K \\\\\n  \\S^v_\\mathrm{assigned}&: \\alpha \\in \\{0, 1\\}^{I \\times T \\times K} \\\\\n  \\S^c_\\mathrm{atMostOneShiftPerDay}&: \\forall i \\in I, t \\in T, \\sum_{k \\in K} \\alpha_{i,t,k} \\leq 1 \\\\\n\\end{align*}\n$$\n</div>\n</details>\n"
            ],
            "text/plain": [
              "LocalSpecificationSource(text='$$\\n\\\\begin{align*}\\n  \\\\S^p_\\\\mathrm{horizon}&: h \\\\in \\\\mathbb{N} \\\\\\\\\\n  \\\\S^d_\\\\mathrm{doctors}&: I \\\\\\\\\\n  \\\\S^a&: T \\\\doteq \\\\{ 1 \\\\ldots h \\\\} \\\\\\\\\\n  \\\\S^d_\\\\mathrm{shifts}&: K \\\\\\\\\\n  \\\\S^v_\\\\mathrm{assigned}&: \\\\alpha \\\\in \\\\{0, 1\\\\}^{I \\\\times T \\\\times K} \\\\\\\\\\n  \\\\S^c_\\\\mathrm{atMostOneShiftPerDay}&: \\\\forall i \\\\in I, t \\\\in T, \\\\sum_{k \\\\in K} \\\\alpha_{i,t,k} \\\\leq 1 \\\\\\\\\\n\\\\end{align*}\\n$$', title='Common')"
            ]
          },
          "execution_count": 2,
          "metadata": {},
          "output_type": "execute_result"
        }
      ],
      "source": [
        "import opvious.modeling as om\n",
        "\n",
        "class Common(om.Model):\n",
        "    horizon = om.Parameter.natural()  # Number of days to schedule for\n",
        "    doctors = om.Dimension(name=\"I\")  # Set of doctors\n",
        "    days = om.interval(1, horizon(), name=\"T\")  # Set of days\n",
        "    shifts = om.Dimension(name=\"K\")  # Set of shifts\n",
        "    assigned = om.Variable.indicator(doctors, days, shifts)  # Shift assignment\n",
        "    \n",
        "    @om.constraint\n",
        "    def at_most_one_shift_per_day(self):\n",
        "        for i, t in self.doctors * self.days:\n",
        "            yield om.total(self.assigned(i, t, k) for k in self.shifts) <= 1\n",
        "    \n",
        "common = Common()\n",
        "common.specification().source()"
      ]
    },
    {
      "cell_type": "markdown",
      "id": "d47a985c",
      "metadata": {},
      "source": [
        "## Consecutive changes\n",
        "\n",
        "One way to model switches is to only count changes when a doctor is assigned different shifts on _consecutive_ days as a switch."
      ]
    },
    {
      "cell_type": "code",
      "execution_count": 3,
      "id": "c950fb63",
      "metadata": {},
      "outputs": [
        {
          "data": {
            "text/markdown": [
              "\n<details open>\n<summary style=\"cursor: pointer; text-decoration: underline; text-decoration-style: dotted;\">SwitchOnConsecutiveShiftChanges</summary>\n<div style=\"margin-top: 1em;\">\n$$\n\\begin{align*}\n  \\S^v_\\mathrm{switched}&: \\sigma \\in \\{0, 1\\}^{I \\times T} \\\\\n  \\S^c_\\mathrm{consecutiveShiftChangeForcesSwitch}&: \\forall i \\in I, t \\in T, k \\in K \\mid t > 1, \\sigma_{i,t} \\geq \\alpha_{i,t,k} + \\sum_{k' \\in K \\mid k' \\neq k} \\alpha_{i,t - 1,k'} - 1 \\\\\n\\end{align*}\n$$\n</div>\n</details>\n"
            ],
            "text/plain": [
              "LocalSpecificationSource(text=\"$$\\n\\\\begin{align*}\\n  \\\\S^v_\\\\mathrm{switched}&: \\\\sigma \\\\in \\\\{0, 1\\\\}^{I \\\\times T} \\\\\\\\\\n  \\\\S^c_\\\\mathrm{consecutiveShiftChangeForcesSwitch}&: \\\\forall i \\\\in I, t \\\\in T, k \\\\in K \\\\mid t > 1, \\\\sigma_{i,t} \\\\geq \\\\alpha_{i,t,k} + \\\\sum_{k' \\\\in K \\\\mid k' \\\\neq k} \\\\alpha_{i,t - 1,k'} - 1 \\\\\\\\\\n\\\\end{align*}\\n$$\", title='SwitchOnConsecutiveShiftChanges')"
            ]
          },
          "execution_count": 3,
          "metadata": {},
          "output_type": "execute_result"
        }
      ],
      "source": [
        "class SwitchOnConsecutiveShiftChanges(om.Model):\n",
        "    def __init__(self):\n",
        "        super().__init__(dependencies=[common])\n",
        "        self.switched = om.Variable.indicator(common.doctors, common.days)\n",
        "        \n",
        "    def assigned_to_other(self, i, t, k):  # 1 if i assigned to a shift different than k on t, 0 otherwise\n",
        "        return om.total(common.assigned(i, t, kk) for kk in common.shifts if kk != k)\n",
        "        \n",
        "    @om.constraint\n",
        "    def consecutive_shift_change_forces_switch(self):\n",
        "        for i, t, k in common.assigned.space():\n",
        "            if t > 1:\n",
        "                yield self.switched(i, t) >= common.assigned(i, t, k) + self.assigned_to_other(i, t-1, k) - 1\n",
        "                    \n",
        "SwitchOnConsecutiveShiftChanges().specification().source()"
      ]
    },
    {
      "cell_type": "markdown",
      "id": "18a8fc7e",
      "metadata": {},
      "source": [
        "## All changes\n",
        "\n",
        "Yet another way to model this is to count all shift changes as switches, including when a doctor starts or ends a shift. In this case, the switch variable is equivalent to the magnitude (absolute value) of assignment changes."
      ]
    },
    {
      "cell_type": "code",
      "execution_count": 4,
      "id": "e044d1c4",
      "metadata": {},
      "outputs": [
        {
          "data": {
            "text/markdown": [
              "\n<details open>\n<summary style=\"cursor: pointer; text-decoration: underline; text-decoration-style: dotted;\">SwitchOnAllShiftChanges</summary>\n<div style=\"margin-top: 1em;\">\n$$\n\\begin{align*}\n  \\S^v_\\mathrm{switched}&: \\sigma \\in \\mathbb{R}_+^{I \\times T} \\\\\n  \\S^c_\\mathrm{switchedLowerBounds}&: \\forall i \\in I, t \\in T, k \\in K, {-\\sigma_{i,t}} \\leq \\alpha_{i,t,k} - \\begin{cases} \\alpha_{i,t - 1,k} \\mid t > 1, \\\\ 0 \\end{cases} \\\\\n  \\S^c_\\mathrm{switchedUpperBounds}&: \\forall i \\in I, t \\in T, k \\in K, \\sigma_{i,t} \\geq \\alpha_{i,t,k} - \\begin{cases} \\alpha_{i,t - 1,k} \\mid t > 1, \\\\ 0 \\end{cases} \\\\\n\\end{align*}\n$$\n</div>\n</details>\n"
            ],
            "text/plain": [
              "LocalSpecificationSource(text='$$\\n\\\\begin{align*}\\n  \\\\S^v_\\\\mathrm{switched}&: \\\\sigma \\\\in \\\\mathbb{R}_+^{I \\\\times T} \\\\\\\\\\n  \\\\S^c_\\\\mathrm{switchedLowerBounds}&: \\\\forall i \\\\in I, t \\\\in T, k \\\\in K, {-\\\\sigma_{i,t}} \\\\leq \\\\alpha_{i,t,k} - \\\\begin{cases} \\\\alpha_{i,t - 1,k} \\\\mid t > 1, \\\\\\\\ 0 \\\\end{cases} \\\\\\\\\\n  \\\\S^c_\\\\mathrm{switchedUpperBounds}&: \\\\forall i \\\\in I, t \\\\in T, k \\\\in K, \\\\sigma_{i,t} \\\\geq \\\\alpha_{i,t,k} - \\\\begin{cases} \\\\alpha_{i,t - 1,k} \\\\mid t > 1, \\\\\\\\ 0 \\\\end{cases} \\\\\\\\\\n\\\\end{align*}\\n$$', title='SwitchOnAllShiftChanges')"
            ]
          },
          "execution_count": 4,
          "metadata": {},
          "output_type": "execute_result"
        }
      ],
      "source": [
        "class SwitchOnAllShiftChanges(om.Model):\n",
        "    def __init__(self):\n",
        "        super().__init__(dependencies=[common])\n",
        "            \n",
        "    @om.fragments.magnitude_variable(*common.assigned.quantifiables(), projection=0b11)\n",
        "    def switched(self, i, t, k):  # 1 if a different switch started, 0 if same shift, -1 if shift ended\n",
        "        return common.assigned(i, t, k) - om.switch((t > 1, common.assigned(i, t-1, k)), 0)\n",
        "                    \n",
        "SwitchOnAllShiftChanges().specification().source()"
      ]
    },
    {
      "cell_type": "markdown",
      "id": "1d376b01",
      "metadata": {},
      "source": [
        "# Solution comparison\n",
        "\n",
        "In this section we compare the two approaches on a small example.\n",
        "\n",
        "Our overall objective will be to minimize the total number of switches while ensuring that there is at least one doctor per shift. We also introduce a parameter allowing doctors to mark themselves as unavailable for a given shift."
      ]
    },
    {
      "cell_type": "code",
      "execution_count": 5,
      "id": "8839ab10",
      "metadata": {},
      "outputs": [
        {
          "data": {
            "text/markdown": [
              "\n<details open>\n<summary style=\"cursor: pointer; text-decoration: underline; text-decoration-style: dotted;\">Scheduling</summary>\n<div style=\"margin-top: 1em;\">\n$$\n\\begin{align*}\n  \\S^p_\\mathrm{unavailable}&: u \\in \\{0, 1\\}^{I \\times T \\times K} \\\\\n  \\S^o_\\mathrm{minimizeSwitches}&: \\min \\sum_{i \\in I, t \\in T} \\sigma_{i,t} \\\\\n  \\S^c_\\mathrm{atLeastOneDoctorPerShift}&: \\forall t \\in T, k \\in K, \\sum_{i \\in I} \\alpha_{i,t,k} \\geq 1 \\\\\n  \\S^c_\\mathrm{onlyAssignedWhenAvailable}&: \\forall i \\in I, t \\in T, k \\in K \\mid u_{i,t,k} \\neq 0, \\alpha_{i,t,k} = 0 \\\\\n\\end{align*}\n$$\n</div>\n</details>\n"
            ],
            "text/plain": [
              "LocalSpecificationSource(text='$$\\n\\\\begin{align*}\\n  \\\\S^p_\\\\mathrm{unavailable}&: u \\\\in \\\\{0, 1\\\\}^{I \\\\times T \\\\times K} \\\\\\\\\\n  \\\\S^o_\\\\mathrm{minimizeSwitches}&: \\\\min \\\\sum_{i \\\\in I, t \\\\in T} \\\\sigma_{i,t} \\\\\\\\\\n  \\\\S^c_\\\\mathrm{atLeastOneDoctorPerShift}&: \\\\forall t \\\\in T, k \\\\in K, \\\\sum_{i \\\\in I} \\\\alpha_{i,t,k} \\\\geq 1 \\\\\\\\\\n  \\\\S^c_\\\\mathrm{onlyAssignedWhenAvailable}&: \\\\forall i \\\\in I, t \\\\in T, k \\\\in K \\\\mid u_{i,t,k} \\\\neq 0, \\\\alpha_{i,t,k} = 0 \\\\\\\\\\n\\\\end{align*}\\n$$', title='Scheduling')"
            ]
          },
          "execution_count": 5,
          "metadata": {},
          "output_type": "execute_result"
        }
      ],
      "source": [
        "class Scheduling(om.Model):\n",
        "    unavailable = om.Parameter.indicator(common.assigned.quantifiables())\n",
        "    \n",
        "    def __init__(self, sm):\n",
        "        super().__init__([sm])\n",
        "        self._sm = sm\n",
        "        \n",
        "    @om.objective\n",
        "    def minimize_switches(self):\n",
        "        return om.total(self._sm.switched(i, t) for i, t in common.doctors * common.days)\n",
        "    \n",
        "    @om.constraint\n",
        "    def at_least_one_doctor_per_shift(self):\n",
        "        for t, k in common.days * common.shifts:\n",
        "            yield om.total(common.assigned(i, t, k) >= 1 for i in common.doctors)\n",
        "            \n",
        "    @om.constraint\n",
        "    def only_assigned_when_available(self):\n",
        "        for i, t, k in common.assigned.space():\n",
        "            if self.unavailable(i, t, k):\n",
        "                yield common.assigned(i, t, k) == 0\n",
        "    \n",
        "Scheduling(SwitchOnAllShiftChanges()).specification().source()"
      ]
    },
    {
      "cell_type": "markdown",
      "id": "f0a863f8",
      "metadata": {},
      "source": [
        "We now just need to create a small wrapper which will trigger a solve on toy data and pretty-print the optimal schedule."
      ]
    },
    {
      "cell_type": "code",
      "execution_count": 9,
      "id": "1d356245",
      "metadata": {},
      "outputs": [],
      "source": [
        "import opvious\n",
        "\n",
        "horizon = 14\n",
        "shifts = ['early', 'midday', 'night']\n",
        "unavailabilities = {\n",
        "    'ann': [(1, 'midday'), (8, 'early'), (8, 'night')],\n",
        "    'bob': [(2, 'night'), (14, 'midday')],\n",
        "    'cat': [(1, 'early'), (10, 'midday'), (10, 'night')],\n",
        "    'dan': [(5, 'midday')],\n",
        "}\n",
        "\n",
        "async def find_optimal_schedule(shifts_model):\n",
        "    \"\"\"Pretty-prints an optimal assignment schedule\"\"\"\n",
        "    client = opvious.Client.default()\n",
        "    res = await client.run_solve(\n",
        "        specification=Scheduling(shifts_model).specification(),\n",
        "        parameters={\n",
        "            'horizon': horizon,\n",
        "            'unavailable': [(d, t, k) for d, arr in unavailabilities.items() for t, k in arr]\n",
        "        },\n",
        "        dimensions={\n",
        "            'doctors': unavailabilities.keys(),\n",
        "            'shifts': shifts,\n",
        "        },\n",
        "        assert_feasible=True,\n",
        "    )\n",
        "    df = res.outputs.variable('assigned')  # Flat assignment dataframe\n",
        "    return (\n",
        "        df.reset_index()\n",
        "            .drop('value', axis=1)\n",
        "            .set_axis(['doctor', 'day', 'shift'], axis=1)\n",
        "            .pivot(index=['day'], columns=['doctor'], values=['shift'])\n",
        "            .fillna('')\n",
        "    )"
      ]
    },
    {
      "cell_type": "markdown",
      "id": "dde66c3a",
      "metadata": {},
      "source": [
        "Running it using the first option, we can see that the doctors change shifts often, but never consecutively. This makes sense since the model isn't penalized for shifts that happen on either side of a break."
      ]
    },
    {
      "cell_type": "code",
      "execution_count": 7,
      "id": "d7f6d618",
      "metadata": {},
      "outputs": [
        {
          "data": {
            "text/html": [
              "<div>\n",
              "<style scoped>\n",
              "    .dataframe tbody tr th:only-of-type {\n",
              "        vertical-align: middle;\n",
              "    }\n",
              "\n",
              "    .dataframe tbody tr th {\n",
              "        vertical-align: top;\n",
              "    }\n",
              "\n",
              "    .dataframe thead tr th {\n",
              "        text-align: left;\n",
              "    }\n",
              "\n",
              "    .dataframe thead tr:last-of-type th {\n",
              "        text-align: right;\n",
              "    }\n",
              "</style>\n",
              "<table border=\"1\" class=\"dataframe\">\n",
              "  <thead>\n",
              "    <tr>\n",
              "      <th></th>\n",
              "      <th colspan=\"4\" halign=\"left\">shift</th>\n",
              "    </tr>\n",
              "    <tr>\n",
              "      <th>doctor</th>\n",
              "      <th>ann</th>\n",
              "      <th>bob</th>\n",
              "      <th>cat</th>\n",
              "      <th>dan</th>\n",
              "    </tr>\n",
              "    <tr>\n",
              "      <th>day</th>\n",
              "      <th></th>\n",
              "      <th></th>\n",
              "      <th></th>\n",
              "      <th></th>\n",
              "    </tr>\n",
              "  </thead>\n",
              "  <tbody>\n",
              "    <tr>\n",
              "      <th>1</th>\n",
              "      <td>night</td>\n",
              "      <td></td>\n",
              "      <td>midday</td>\n",
              "      <td>early</td>\n",
              "    </tr>\n",
              "    <tr>\n",
              "      <th>2</th>\n",
              "      <td>night</td>\n",
              "      <td>early</td>\n",
              "      <td>midday</td>\n",
              "      <td></td>\n",
              "    </tr>\n",
              "    <tr>\n",
              "      <th>3</th>\n",
              "      <td>night</td>\n",
              "      <td>early</td>\n",
              "      <td>midday</td>\n",
              "      <td></td>\n",
              "    </tr>\n",
              "    <tr>\n",
              "      <th>4</th>\n",
              "      <td>night</td>\n",
              "      <td>early</td>\n",
              "      <td>midday</td>\n",
              "      <td></td>\n",
              "    </tr>\n",
              "    <tr>\n",
              "      <th>5</th>\n",
              "      <td>night</td>\n",
              "      <td>early</td>\n",
              "      <td>midday</td>\n",
              "      <td></td>\n",
              "    </tr>\n",
              "    <tr>\n",
              "      <th>6</th>\n",
              "      <td></td>\n",
              "      <td>early</td>\n",
              "      <td>midday</td>\n",
              "      <td>night</td>\n",
              "    </tr>\n",
              "    <tr>\n",
              "      <th>7</th>\n",
              "      <td></td>\n",
              "      <td>early</td>\n",
              "      <td>midday</td>\n",
              "      <td>night</td>\n",
              "    </tr>\n",
              "    <tr>\n",
              "      <th>8</th>\n",
              "      <td></td>\n",
              "      <td>early</td>\n",
              "      <td>midday</td>\n",
              "      <td>night</td>\n",
              "    </tr>\n",
              "    <tr>\n",
              "      <th>9</th>\n",
              "      <td></td>\n",
              "      <td>early</td>\n",
              "      <td>midday</td>\n",
              "      <td>night</td>\n",
              "    </tr>\n",
              "    <tr>\n",
              "      <th>10</th>\n",
              "      <td>midday</td>\n",
              "      <td>early</td>\n",
              "      <td></td>\n",
              "      <td>night</td>\n",
              "    </tr>\n",
              "    <tr>\n",
              "      <th>11</th>\n",
              "      <td></td>\n",
              "      <td>early</td>\n",
              "      <td>midday</td>\n",
              "      <td>night</td>\n",
              "    </tr>\n",
              "    <tr>\n",
              "      <th>12</th>\n",
              "      <td></td>\n",
              "      <td>early</td>\n",
              "      <td>midday</td>\n",
              "      <td>night</td>\n",
              "    </tr>\n",
              "    <tr>\n",
              "      <th>13</th>\n",
              "      <td>midday</td>\n",
              "      <td>early</td>\n",
              "      <td></td>\n",
              "      <td>night</td>\n",
              "    </tr>\n",
              "    <tr>\n",
              "      <th>14</th>\n",
              "      <td>midday</td>\n",
              "      <td>early</td>\n",
              "      <td></td>\n",
              "      <td>night</td>\n",
              "    </tr>\n",
              "  </tbody>\n",
              "</table>\n",
              "</div>"
            ],
            "text/plain": [
              "         shift                      \n",
              "doctor     ann    bob     cat    dan\n",
              "day                                 \n",
              "1        night         midday  early\n",
              "2        night  early  midday       \n",
              "3        night  early  midday       \n",
              "4        night  early  midday       \n",
              "5        night  early  midday       \n",
              "6               early  midday  night\n",
              "7               early  midday  night\n",
              "8               early  midday  night\n",
              "9               early  midday  night\n",
              "10      midday  early          night\n",
              "11              early  midday  night\n",
              "12              early  midday  night\n",
              "13      midday  early          night\n",
              "14      midday  early          night"
            ]
          },
          "execution_count": 7,
          "metadata": {},
          "output_type": "execute_result"
        }
      ],
      "source": [
        "await find_optimal_schedule(SwitchOnConsecutiveShiftChanges())"
      ]
    },
    {
      "cell_type": "markdown",
      "id": "de2fb116",
      "metadata": {},
      "source": [
        "If we use the second option, shift assignments are sticky: the model only changes a doctor's assignment if the doctor is unavailable. (In practice, we could add a constraint which ensures that doctors have a minimum number of days off within a rolling window of days.)"
      ]
    },
    {
      "cell_type": "code",
      "execution_count": 8,
      "id": "1f240f13",
      "metadata": {},
      "outputs": [
        {
          "data": {
            "text/html": [
              "<div>\n",
              "<style scoped>\n",
              "    .dataframe tbody tr th:only-of-type {\n",
              "        vertical-align: middle;\n",
              "    }\n",
              "\n",
              "    .dataframe tbody tr th {\n",
              "        vertical-align: top;\n",
              "    }\n",
              "\n",
              "    .dataframe thead tr th {\n",
              "        text-align: left;\n",
              "    }\n",
              "\n",
              "    .dataframe thead tr:last-of-type th {\n",
              "        text-align: right;\n",
              "    }\n",
              "</style>\n",
              "<table border=\"1\" class=\"dataframe\">\n",
              "  <thead>\n",
              "    <tr>\n",
              "      <th></th>\n",
              "      <th colspan=\"4\" halign=\"left\">shift</th>\n",
              "    </tr>\n",
              "    <tr>\n",
              "      <th>doctor</th>\n",
              "      <th>ann</th>\n",
              "      <th>bob</th>\n",
              "      <th>cat</th>\n",
              "      <th>dan</th>\n",
              "    </tr>\n",
              "    <tr>\n",
              "      <th>day</th>\n",
              "      <th></th>\n",
              "      <th></th>\n",
              "      <th></th>\n",
              "      <th></th>\n",
              "    </tr>\n",
              "  </thead>\n",
              "  <tbody>\n",
              "    <tr>\n",
              "      <th>1</th>\n",
              "      <td></td>\n",
              "      <td>early</td>\n",
              "      <td>midday</td>\n",
              "      <td>night</td>\n",
              "    </tr>\n",
              "    <tr>\n",
              "      <th>2</th>\n",
              "      <td></td>\n",
              "      <td>early</td>\n",
              "      <td>midday</td>\n",
              "      <td>night</td>\n",
              "    </tr>\n",
              "    <tr>\n",
              "      <th>3</th>\n",
              "      <td>midday</td>\n",
              "      <td>early</td>\n",
              "      <td></td>\n",
              "      <td>night</td>\n",
              "    </tr>\n",
              "    <tr>\n",
              "      <th>4</th>\n",
              "      <td>midday</td>\n",
              "      <td>early</td>\n",
              "      <td></td>\n",
              "      <td>night</td>\n",
              "    </tr>\n",
              "    <tr>\n",
              "      <th>5</th>\n",
              "      <td>midday</td>\n",
              "      <td>early</td>\n",
              "      <td></td>\n",
              "      <td>night</td>\n",
              "    </tr>\n",
              "    <tr>\n",
              "      <th>6</th>\n",
              "      <td>midday</td>\n",
              "      <td>early</td>\n",
              "      <td></td>\n",
              "      <td>night</td>\n",
              "    </tr>\n",
              "    <tr>\n",
              "      <th>7</th>\n",
              "      <td>midday</td>\n",
              "      <td>early</td>\n",
              "      <td></td>\n",
              "      <td>night</td>\n",
              "    </tr>\n",
              "    <tr>\n",
              "      <th>8</th>\n",
              "      <td>midday</td>\n",
              "      <td>early</td>\n",
              "      <td></td>\n",
              "      <td>night</td>\n",
              "    </tr>\n",
              "    <tr>\n",
              "      <th>9</th>\n",
              "      <td>midday</td>\n",
              "      <td>early</td>\n",
              "      <td></td>\n",
              "      <td>night</td>\n",
              "    </tr>\n",
              "    <tr>\n",
              "      <th>10</th>\n",
              "      <td>midday</td>\n",
              "      <td>early</td>\n",
              "      <td></td>\n",
              "      <td>night</td>\n",
              "    </tr>\n",
              "    <tr>\n",
              "      <th>11</th>\n",
              "      <td>midday</td>\n",
              "      <td>early</td>\n",
              "      <td></td>\n",
              "      <td>night</td>\n",
              "    </tr>\n",
              "    <tr>\n",
              "      <th>12</th>\n",
              "      <td>midday</td>\n",
              "      <td>early</td>\n",
              "      <td></td>\n",
              "      <td>night</td>\n",
              "    </tr>\n",
              "    <tr>\n",
              "      <th>13</th>\n",
              "      <td>midday</td>\n",
              "      <td>early</td>\n",
              "      <td></td>\n",
              "      <td>night</td>\n",
              "    </tr>\n",
              "    <tr>\n",
              "      <th>14</th>\n",
              "      <td>midday</td>\n",
              "      <td>early</td>\n",
              "      <td></td>\n",
              "      <td>night</td>\n",
              "    </tr>\n",
              "  </tbody>\n",
              "</table>\n",
              "</div>"
            ],
            "text/plain": [
              "         shift                      \n",
              "doctor     ann    bob     cat    dan\n",
              "day                                 \n",
              "1               early  midday  night\n",
              "2               early  midday  night\n",
              "3       midday  early          night\n",
              "4       midday  early          night\n",
              "5       midday  early          night\n",
              "6       midday  early          night\n",
              "7       midday  early          night\n",
              "8       midday  early          night\n",
              "9       midday  early          night\n",
              "10      midday  early          night\n",
              "11      midday  early          night\n",
              "12      midday  early          night\n",
              "13      midday  early          night\n",
              "14      midday  early          night"
            ]
          },
          "execution_count": 8,
          "metadata": {},
          "output_type": "execute_result"
        }
      ],
      "source": [
        "await find_optimal_schedule(SwitchOnAllShiftChanges())"
      ]
    },
    {
      "cell_type": "code",
      "execution_count": null,
      "id": "5469db0d",
      "metadata": {},
      "outputs": [],
      "source": []
    }
  ],
  "metadata": {
    "kernelspec": {
      "display_name": "Python 3 (ipykernel)",
      "language": "python",
      "name": "python3"
    },
    "language_info": {
      "codemirror_mode": {
        "name": "ipython",
        "version": 3
      },
      "file_extension": ".py",
      "mimetype": "text/x-python",
      "name": "python",
      "nbconvert_exporter": "python",
      "pygments_lexer": "ipython3",
      "version": "3.11.4"
    }
  },
  "nbformat": 4,
  "nbformat_minor": 5
}