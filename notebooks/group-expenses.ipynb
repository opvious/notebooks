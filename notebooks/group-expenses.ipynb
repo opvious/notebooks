{
  "cells": [
    {
      "cell_type": "markdown",
      "id": "b684e857",
      "metadata": {},
      "source": [
        "# Group expenses\n",
        "\n",
        "A [mathematical programming](https://en.wikipedia.org/wiki/Mathematical_optimization) approach for settling debts within a group.\n",
        "\n",
        "_The code in this notebook can be executed directly from your browser [here](https://www.opvious.io/examples/retro/notebooks/?path=group-expenses.ipynb)._"
      ]
    },
    {
      "cell_type": "code",
      "execution_count": 1,
      "id": "4de08d3a",
      "metadata": {},
      "outputs": [],
      "source": [
        "%pip install 'opvious>=0.16.1'"
      ]
    },
    {
      "cell_type": "markdown",
      "id": "943d9b31",
      "metadata": {},
      "source": [
        "## Problem formulation\n",
        "\n",
        "We first define our model using `opvious`' [declarative modeling API](https://opvious.readthedocs.io/en/stable/modeling.html)."
      ]
    },
    {
      "cell_type": "code",
      "execution_count": 2,
      "id": "e7d077c8",
      "metadata": {},
      "outputs": [
        {
          "data": {
            "text/html": "<div>\n<style scoped>\n    .dataframe tbody tr th:only-of-type {\n        vertical-align: middle;\n    }\n\n    .dataframe tbody tr th {\n        vertical-align: top;\n    }\n\n    .dataframe thead th {\n        text-align: right;\n    }\n</style>\n<table border=\"1\" class=\"dataframe\">\n  <thead>\n    <tr style=\"text-align: right;\">\n      <th>title</th>\n      <th>GroupExpenses</th>\n    </tr>\n    <tr>\n      <th>category</th>\n      <th></th>\n    </tr>\n  </thead>\n  <tbody>\n    <tr>\n      <th>CONSTRAINT</th>\n      <td>4</td>\n    </tr>\n    <tr>\n      <th>DIMENSION</th>\n      <td>2</td>\n    </tr>\n    <tr>\n      <th>OBJECTIVE</th>\n      <td>2</td>\n    </tr>\n    <tr>\n      <th>PARAMETER</th>\n      <td>3</td>\n    </tr>\n    <tr>\n      <th>VARIABLE</th>\n      <td>3</td>\n    </tr>\n  </tbody>\n</table>\n</div>",
            "text/plain": "title       GroupExpenses\ncategory                 \nCONSTRAINT              4\nDIMENSION               2\nOBJECTIVE               2\nPARAMETER               3\nVARIABLE                3"
          },
          "execution_count": 2,
          "metadata": {},
          "output_type": "execute_result"
        }
      ],
      "source": [
        "import opvious.modeling as om\n",
        "\n",
        "class GroupExpenses(om.Model):\n",
        "    \"\"\"A mixed-integer model for settling debts within a group\n",
        "    \n",
        "    The solution will represent the optimal transfers between group members in order to achieve fairness: each\n",
        "    member will end up having paid a total amount proportional to their involvement in the group's transactions.\n",
        "    \"\"\"\n",
        "    \n",
        "    members = om.Dimension()  # Participants\n",
        "    transactions = om.Dimension()  # Expenses\n",
        "    is_participating = om.Parameter.indicator(transactions, members)  # 1 if a member is involved in a transaction\n",
        "    payment = om.Parameter.non_negative(transactions, members)  # Amount paid by each member per transaction\n",
        "    min_transfer = om.Parameter.non_negative()  # Minimum transfer threshold\n",
        "    \n",
        "    def __init__(self):\n",
        "        super().__init__()\n",
        "        # Amount to be transferred by one group member to another to achieve fairness\n",
        "        self.transfer = om.Variable.non_negative(self.members, self.members, qualifiers=['sender', 'recipient'])\n",
        "        # Indicator variable representing a transfer from one member to another (1 if transfer > 0, 0 otherwise)\n",
        "        self.is_transferring = om.fragments.ActivationVariable(self.transfer, upper_bound=self.total_payments())\n",
        "    \n",
        "    def total_payments(self):\n",
        "        \"\"\"Total amount of money paid, used as upper-bound for transfers\"\"\"\n",
        "        return om.total(self.payment(t, m) for t, m in self.transactions * self.members)\n",
        "    \n",
        "    def fair_payment(self, t, m):\n",
        "        \"\"\"Fair payment in a transaction for a given member\"\"\"\n",
        "        share = self.is_participating(t, m) / om.total(self.is_participating(t, o) for o in self.members)\n",
        "        return share * om.total(self.payment(t, m) for m in self.members)\n",
        "    \n",
        "    @om.constraint\n",
        "    def zero_sum_transfers(self):\n",
        "        \"\"\"After netting transfers, each member should have paid the sum of their fair payments\"\"\"\n",
        "        for m in self.members:\n",
        "            received = om.total(self.transfer(s, m) for s in self.members)\n",
        "            sent = om.total(self.transfer(m, r) for r in self.members)\n",
        "            owed = om.total(self.payment(t, m) - self.fair_payment(t, m) for t in self.transactions)\n",
        "            yield received - sent == owed\n",
        "            \n",
        "    @om.constraint\n",
        "    def transfer_meets_min(self): \n",
        "        \"\"\"Each positive transfer is at least equal to the minimum threshold\"\"\"\n",
        "        for s, r in self.members * self.members:\n",
        "            yield self.transfer(s, r) >= self.is_transferring(s, r) * self.min_transfer()\n",
        "            \n",
        "    @om.objective\n",
        "    def minimize_total_transferred(self):\n",
        "        \"\"\"First objective: minimize the total amount of money transferred between members\"\"\"\n",
        "        return om.total(self.transfer(s, r) for s, r in self.members * self.members)\n",
        "    \n",
        "    @om.fragments.magnitude_variable(members, projection=0, lower_bound=False)\n",
        "    def max_transfers_sent(self, m):\n",
        "        \"\"\"Number of transfers sent by each member\"\"\"\n",
        "        return om.total(self.is_transferring(m, r) for r in self.members)\n",
        "    \n",
        "    @om.objective\n",
        "    def minimize_max_transfers_sent(self):\n",
        "        \"\"\"Second objective: minimize the maximum number of transfers sent by any member\"\"\"\n",
        "        return self.max_transfers_sent()\n",
        "\n",
        "\n",
        "model = GroupExpenses()\n",
        "model.definition_counts().T # Summary of the model's components"
      ]
    },
    {
      "cell_type": "markdown",
      "id": "43d96b97",
      "metadata": {},
      "source": [
        "For the mathematically inclined, models can generate their LaTeX specification."
      ]
    },
    {
      "cell_type": "code",
      "execution_count": 3,
      "id": "4a2768cf",
      "metadata": {},
      "outputs": [
        {
          "data": {
            "text/markdown": "<div style=\"margin-top: 1em; margin-bottom: 1em;\">\n<details open>\n<summary style=\"cursor: pointer; text-decoration: underline; text-decoration-style: dotted;\">GroupExpenses</summary>\n<div style=\"margin-top: 1em;\">\n$$\n\\begin{align*}\n  \\S^v_\\mathrm{transfer[sender,recipient]}&: \\tau \\in \\mathbb{R}_+^{M \\times M} \\\\\n  \\S^v_\\mathrm{isTransferring}&: \\tau^\\mathrm{is} \\in \\{0, 1\\}^{M \\times M} \\\\\n  \\S^c_\\mathrm{isTransferringActivates}&: \\forall m, m' \\in M, \\sum_{t \\in T, m'' \\in M} p_{t,m''} \\tau^\\mathrm{is}_{m,m'} \\geq \\tau_{m,m'} \\\\\n  \\S^d_\\mathrm{members}&: M \\\\\n  \\S^d_\\mathrm{transactions}&: T \\\\\n  \\S^p_\\mathrm{isParticipating}&: p^\\mathrm{is} \\in \\{0, 1\\}^{T \\times M} \\\\\n  \\S^p_\\mathrm{payment}&: p \\in \\mathbb{R}_+^{T \\times M} \\\\\n  \\S^p_\\mathrm{minTransfer}&: t^\\mathrm{min} \\in \\mathbb{R}_+ \\\\\n  \\S^c_\\mathrm{zeroSumTransfers}&: \\forall m \\in M, \\sum_{m' \\in M} \\tau_{m',m} - \\sum_{m' \\in M} \\tau_{m,m'} = \\sum_{t \\in T} \\left(p_{t,m} - \\frac{p^\\mathrm{is}_{t,m}}{\\sum_{m' \\in M} p^\\mathrm{is}_{t,m'}} \\sum_{m' \\in M} p_{t,m'}\\right) \\\\\n  \\S^c_\\mathrm{transferMeetsMin}&: \\forall m, m' \\in M, \\tau_{m,m'} \\geq \\tau^\\mathrm{is}_{m,m'} t^\\mathrm{min} \\\\\n  \\S^o_\\mathrm{minimizeTotalTransferred}&: \\min \\sum_{m, m' \\in M} \\tau_{m,m'} \\\\\n  \\S^v_\\mathrm{maxTransfersSent}&: \\sigma^\\mathrm{maxTransfers} \\in \\mathbb{R}_+ \\\\\n  \\S^c_\\mathrm{maxTransfersSentUpperBounds}&: \\forall m \\in M, \\sigma^\\mathrm{maxTransfers} \\geq \\sum_{m' \\in M} \\tau^\\mathrm{is}_{m,m'} \\\\\n  \\S^o_\\mathrm{minimizeMaxTransfersSent}&: \\min \\sigma^\\mathrm{maxTransfers} \\\\\n\\end{align*}\n$$\n</div>\n</details>\n</div>",
            "text/plain": "LocalSpecification(sources=[LocalSpecificationSource(text=\"$$\\n\\\\begin{align*}\\n  \\\\S^v_\\\\mathrm{transfer[sender,recipient]}&: \\\\tau \\\\in \\\\mathbb{R}_+^{M \\\\times M} \\\\\\\\\\n  \\\\S^v_\\\\mathrm{isTransferring}&: \\\\tau^\\\\mathrm{is} \\\\in \\\\{0, 1\\\\}^{M \\\\times M} \\\\\\\\\\n  \\\\S^c_\\\\mathrm{isTransferringActivates}&: \\\\forall m, m' \\\\in M, \\\\sum_{t \\\\in T, m'' \\\\in M} p_{t,m''} \\\\tau^\\\\mathrm{is}_{m,m'} \\\\geq \\\\tau_{m,m'} \\\\\\\\\\n  \\\\S^d_\\\\mathrm{members}&: M \\\\\\\\\\n  \\\\S^d_\\\\mathrm{transactions}&: T \\\\\\\\\\n  \\\\S^p_\\\\mathrm{isParticipating}&: p^\\\\mathrm{is} \\\\in \\\\{0, 1\\\\}^{T \\\\times M} \\\\\\\\\\n  \\\\S^p_\\\\mathrm{payment}&: p \\\\in \\\\mathbb{R}_+^{T \\\\times M} \\\\\\\\\\n  \\\\S^p_\\\\mathrm{minTransfer}&: t^\\\\mathrm{min} \\\\in \\\\mathbb{R}_+ \\\\\\\\\\n  \\\\S^c_\\\\mathrm{zeroSumTransfers}&: \\\\forall m \\\\in M, \\\\sum_{m' \\\\in M} \\\\tau_{m',m} - \\\\sum_{m' \\\\in M} \\\\tau_{m,m'} = \\\\sum_{t \\\\in T} \\\\left(p_{t,m} - \\\\frac{p^\\\\mathrm{is}_{t,m}}{\\\\sum_{m' \\\\in M} p^\\\\mathrm{is}_{t,m'}} \\\\sum_{m' \\\\in M} p_{t,m'}\\\\right) \\\\\\\\\\n  \\\\S^c_\\\\mathrm{transferMeetsMin}&: \\\\forall m, m' \\\\in M, \\\\tau_{m,m'} \\\\geq \\\\tau^\\\\mathrm{is}_{m,m'} t^\\\\mathrm{min} \\\\\\\\\\n  \\\\S^o_\\\\mathrm{minimizeTotalTransferred}&: \\\\min \\\\sum_{m, m' \\\\in M} \\\\tau_{m,m'} \\\\\\\\\\n  \\\\S^v_\\\\mathrm{maxTransfersSent}&: \\\\sigma^\\\\mathrm{maxTransfers} \\\\in \\\\mathbb{R}_+ \\\\\\\\\\n  \\\\S^c_\\\\mathrm{maxTransfersSentUpperBounds}&: \\\\forall m \\\\in M, \\\\sigma^\\\\mathrm{maxTransfers} \\\\geq \\\\sum_{m' \\\\in M} \\\\tau^\\\\mathrm{is}_{m,m'} \\\\\\\\\\n  \\\\S^o_\\\\mathrm{minimizeMaxTransfersSent}&: \\\\min \\\\sigma^\\\\mathrm{maxTransfers} \\\\\\\\\\n\\\\end{align*}\\n$$\", title='GroupExpenses')], description=\"A mixed-integer model for settling debts within a group\\n    \\n    The solution will represent the optimal transfers between group members in order to achieve fairness: each\\n    member will end up having paid a total amount proportional to their involvement in the group's transactions.\\n    \", annotation=None)"
          },
          "execution_count": 3,
          "metadata": {},
          "output_type": "execute_result"
        }
      ],
      "source": [
        "model.specification()"
      ]
    },
    {
      "cell_type": "markdown",
      "id": "7e1a8819",
      "metadata": {},
      "source": [
        "## Application\n",
        "\n",
        "We wrap the formulation defined above into a simple function which returns the optimal transfers given input data.\n",
        "\n",
        "A few things to note:\n",
        "\n",
        "+ Solves run remotely--no local solver installation required--and can be configured via `opvious` [client](https://opvious.readthedocs.io/en/stable/overview.html#creating-a-client) instances.\n",
        "+ We leverage `pandas` utilities directly thanks to the SDK's native support for dataframes.\n",
        "+ We specify a custom [multi-objective strategy](https://opvious.readthedocs.io/en/stable/strategies.html) to efficiently pick a robust optimal solution."
      ]
    },
    {
      "cell_type": "code",
      "execution_count": 4,
      "id": "adad2341",
      "metadata": {},
      "outputs": [],
      "source": [
        "import opvious\n",
        "\n",
        "_client = opvious.Client.default()  # Opvious API client\n",
        "\n",
        "async def compute_optimal_transfers(payments, min_transfer=10, tolerance=0.1):\n",
        "    \"\"\"Computes optimal transfers to settle expenses fairly within a group\n",
        "    \n",
        "    Args:\n",
        "        payments: Dataframe of payments indexed by transaction where each column is a group member.\n",
        "            Each member with a non-zero payment will be considered a participant in the transaction.\n",
        "        min_transfer: Minimum individual transfer amount.\n",
        "        tolerance: Relative slack bound on the total amount of money transferred during settlement\n",
        "            used to minimize the number of outbound transfers for any one member. For example, the\n",
        "            default value of 0.1 will allow transfering up to 10% more overall.\n",
        "    \"\"\"\n",
        "    se = payments.stack()['payment']\n",
        "    res = await _client.run_solve(\n",
        "        specification=model.specification(),\n",
        "        parameters={\n",
        "            'minTransfer': min_transfer,\n",
        "            'payment': se,\n",
        "            'isParticipating': (se > 0).astype(int),\n",
        "        },\n",
        "        strategy=opvious.SolveStrategy(  # Multi-objective strategy\n",
        "            epsilon_constraints=[\n",
        "                # Within tolerance of the smallest total transfer amount\n",
        "                opvious.EpsilonConstraint('minimizeTotalTransferred', relative_tolerance=tolerance),\n",
        "                # Using the smallest possible number of transfers per member\n",
        "                opvious.EpsilonConstraint('minimizeMaxTransfersSent'),\n",
        "            ],\n",
        "            target='minimizeTotalTransferred',  # Final target: minimize total transfer amount\n",
        "        ),\n",
        "        assert_feasible=True,\n",
        "    )\n",
        "    return res.outputs.variable('transfer').unstack(level=1).fillna(0).round(2)"
      ]
    },
    {
      "cell_type": "markdown",
      "id": "764ca2ad",
      "metadata": {},
      "source": [
        "## Testing\n",
        "\n",
        "We validate our implementation by generating some representative test data."
      ]
    },
    {
      "cell_type": "code",
      "execution_count": 5,
      "id": "9d79fa40",
      "metadata": {
        "scrolled": true
      },
      "outputs": [
        {
          "data": {
            "text/html": "<div>\n<style scoped>\n    .dataframe tbody tr th:only-of-type {\n        vertical-align: middle;\n    }\n\n    .dataframe tbody tr th {\n        vertical-align: top;\n    }\n\n    .dataframe thead tr th {\n        text-align: left;\n    }\n\n    .dataframe thead tr:last-of-type th {\n        text-align: right;\n    }\n</style>\n<table border=\"1\" class=\"dataframe\">\n  <thead>\n    <tr>\n      <th></th>\n      <th colspan=\"9\" halign=\"left\">payment</th>\n    </tr>\n    <tr>\n      <th>name</th>\n      <th>ava</th>\n      <th>emma</th>\n      <th>isabella</th>\n      <th>liam</th>\n      <th>lucas</th>\n      <th>mason</th>\n      <th>mia</th>\n      <th>noah</th>\n      <th>sophia</th>\n    </tr>\n    <tr>\n      <th>transaction</th>\n      <th></th>\n      <th></th>\n      <th></th>\n      <th></th>\n      <th></th>\n      <th></th>\n      <th></th>\n      <th></th>\n      <th></th>\n    </tr>\n  </thead>\n  <tbody>\n    <tr>\n      <th>t01</th>\n      <td>9.68</td>\n      <td>45.85</td>\n      <td>0.00</td>\n      <td>0.0</td>\n      <td>0.00</td>\n      <td>81.06</td>\n      <td>0.00</td>\n      <td>93.5</td>\n      <td>45.33</td>\n    </tr>\n    <tr>\n      <th>t02</th>\n      <td>0.00</td>\n      <td>0.00</td>\n      <td>97.90</td>\n      <td>0.0</td>\n      <td>2.89</td>\n      <td>0.10</td>\n      <td>0.00</td>\n      <td>0.0</td>\n      <td>0.00</td>\n    </tr>\n    <tr>\n      <th>t03</th>\n      <td>10.18</td>\n      <td>0.00</td>\n      <td>15.99</td>\n      <td>0.0</td>\n      <td>0.00</td>\n      <td>33.39</td>\n      <td>85.45</td>\n      <td>0.0</td>\n      <td>0.00</td>\n    </tr>\n    <tr>\n      <th>t04</th>\n      <td>0.00</td>\n      <td>96.55</td>\n      <td>7.79</td>\n      <td>0.0</td>\n      <td>0.00</td>\n      <td>0.00</td>\n      <td>0.00</td>\n      <td>0.0</td>\n      <td>14.50</td>\n    </tr>\n    <tr>\n      <th>t05</th>\n      <td>83.16</td>\n      <td>0.00</td>\n      <td>0.00</td>\n      <td>0.0</td>\n      <td>20.19</td>\n      <td>0.00</td>\n      <td>27.69</td>\n      <td>11.2</td>\n      <td>11.38</td>\n    </tr>\n  </tbody>\n</table>\n</div>",
            "text/plain": "            payment                                                       \nname            ava   emma isabella liam  lucas  mason    mia  noah sophia\ntransaction                                                               \nt01            9.68  45.85     0.00  0.0   0.00  81.06   0.00  93.5  45.33\nt02            0.00   0.00    97.90  0.0   2.89   0.10   0.00   0.0   0.00\nt03           10.18   0.00    15.99  0.0   0.00  33.39  85.45   0.0   0.00\nt04            0.00  96.55     7.79  0.0   0.00   0.00   0.00   0.0  14.50\nt05           83.16   0.00     0.00  0.0  20.19   0.00  27.69  11.2  11.38"
          },
          "execution_count": 110,
          "metadata": {},
          "output_type": "execute_result"
        }
      ],
      "source": [
        "import numpy as np\n",
        "import pandas as pd\n",
        "\n",
        "_names = [\"emma\", \"noah\", \"ava\", \"liam\", \"isabella\", \"sophia\", \"mason\", \"mia\", \"lucas\"]\n",
        "\n",
        "def generate_random_payments(count=25, seed=35):\n",
        "    \"\"\"Generates a random dataframe of non-negative payments\"\"\"\n",
        "    rng = np.random.default_rng(seed)\n",
        "    tuples = []\n",
        "    for i in range(count):\n",
        "        tid = f't{i+1:02}'\n",
        "        for name in _names:\n",
        "            if rng.integers(2):\n",
        "                continue\n",
        "            tuples.append({\n",
        "                'transaction': tid, \n",
        "                'name': name, \n",
        "                'payment': round(100 * rng.random(), 2),\n",
        "            })\n",
        "    df = pd.DataFrame(tuples).set_index(['transaction', 'name'])\n",
        "    return df.unstack().fillna(0)\n",
        "\n",
        "payments_df = generate_random_payments()\n",
        "payments_df.head()"
      ]
    },
    {
      "cell_type": "markdown",
      "id": "a10eb47a",
      "metadata": {},
      "source": [
        "Using the default tolerance of 10%, we get the following optimals transfers:"
      ]
    },
    {
      "cell_type": "code",
      "execution_count": 6,
      "id": "13e7121e",
      "metadata": {},
      "outputs": [
        {
          "name": "stderr",
          "output_type": "stream",
          "text": "INFO:opvious.client.handlers:Validated inputs. [parameters=451]\nINFO:opvious.client.handlers:Solving problem... [columns=163, rows=180]\nINFO:opvious.client.handlers:Solve in progress... [iterations=0, gap=inf]\nINFO:opvious.client.handlers:Solve in progress... [iterations=23, gap=inf]\nINFO:opvious.client.handlers:Solve in progress... [iterations=107, gap=87.57%]\nINFO:opvious.client.handlers:Solve in progress... [iterations=234, gap=10.13%]\nINFO:opvious.client.handlers:Added epsilon constraint. [objective_value=156.9327857142862]\nINFO:opvious.client.handlers:Solve in progress... [iterations=1256, gap=0.0%]\nINFO:opvious.client.handlers:Solve in progress... [iterations=0, gap=inf]\nINFO:opvious.client.handlers:Solve in progress... [iterations=73, gap=inf]\nINFO:opvious.client.handlers:Solve in progress... [iterations=350, gap=66.67%]\nINFO:opvious.client.handlers:Solve in progress... [iterations=24084, gap=50.0%]\nINFO:opvious.client.handlers:Added epsilon constraint. [objective_value=2]\nINFO:opvious.client.handlers:Solve in progress... [iterations=0, gap=inf]\nINFO:opvious.client.handlers:Solve in progress... [iterations=19, gap=inf]\nINFO:opvious.client.handlers:Solve in progress... [iterations=1304, gap=7.37%]\nINFO:opvious.client.handlers:Solve in progress... [iterations=1692, gap=7.37%]\nINFO:opvious.client.handlers:Solve in progress... [iterations=1805, gap=7.37%]\nINFO:opvious.client.handlers:Solve in progress... [iterations=2821, gap=6.26%]\nINFO:opvious.client.handlers:Solve in progress... [iterations=25936, gap=5.59%]\nINFO:opvious.client.handlers:Solve in progress... [iterations=32800, gap=3.25%]\nINFO:opvious.client.handlers:Solve completed with status OPTIMAL. [objective=166.21678571428163]\n"
        },
        {
          "data": {
            "text/html": "<div>\n<style scoped>\n    .dataframe tbody tr th:only-of-type {\n        vertical-align: middle;\n    }\n\n    .dataframe tbody tr th {\n        vertical-align: top;\n    }\n\n    .dataframe thead tr th {\n        text-align: left;\n    }\n\n    .dataframe thead tr:last-of-type th {\n        text-align: right;\n    }\n</style>\n<table border=\"1\" class=\"dataframe\">\n  <thead>\n    <tr>\n      <th></th>\n      <th colspan=\"6\" halign=\"left\">value</th>\n    </tr>\n    <tr>\n      <th>recipient</th>\n      <th>ava</th>\n      <th>emma</th>\n      <th>isabella</th>\n      <th>liam</th>\n      <th>mia</th>\n      <th>noah</th>\n    </tr>\n    <tr>\n      <th>sender</th>\n      <th></th>\n      <th></th>\n      <th></th>\n      <th></th>\n      <th></th>\n      <th></th>\n    </tr>\n  </thead>\n  <tbody>\n    <tr>\n      <th>ava</th>\n      <td>0.00</td>\n      <td>0.0</td>\n      <td>0.00</td>\n      <td>0.00</td>\n      <td>0.00</td>\n      <td>16.85</td>\n    </tr>\n    <tr>\n      <th>isabella</th>\n      <td>11.07</td>\n      <td>0.0</td>\n      <td>0.00</td>\n      <td>0.00</td>\n      <td>11.75</td>\n      <td>0.00</td>\n    </tr>\n    <tr>\n      <th>lucas</th>\n      <td>0.00</td>\n      <td>0.0</td>\n      <td>0.00</td>\n      <td>0.00</td>\n      <td>13.28</td>\n      <td>0.00</td>\n    </tr>\n    <tr>\n      <th>mason</th>\n      <td>0.00</td>\n      <td>0.0</td>\n      <td>18.22</td>\n      <td>40.81</td>\n      <td>0.00</td>\n      <td>0.00</td>\n    </tr>\n    <tr>\n      <th>sophia</th>\n      <td>0.00</td>\n      <td>38.8</td>\n      <td>0.00</td>\n      <td>0.00</td>\n      <td>15.44</td>\n      <td>0.00</td>\n    </tr>\n  </tbody>\n</table>\n</div>",
            "text/plain": "           value                                    \nrecipient    ava  emma isabella   liam    mia   noah\nsender                                              \nava         0.00   0.0     0.00   0.00   0.00  16.85\nisabella   11.07   0.0     0.00   0.00  11.75   0.00\nlucas       0.00   0.0     0.00   0.00  13.28   0.00\nmason       0.00   0.0    18.22  40.81   0.00   0.00\nsophia      0.00  38.8     0.00   0.00  15.44   0.00"
          },
          "execution_count": 111,
          "metadata": {},
          "output_type": "execute_result"
        }
      ],
      "source": [
        "await compute_optimal_transfers(payments_df)"
      ]
    },
    {
      "cell_type": "markdown",
      "id": "2f9779b9",
      "metadata": {},
      "source": [
        "In the solution above, the total amount of money transferred comes up to ~$166 and each person sends at most 2 transfers (Isabella, Mason, and Sophia send 2; Ava, Lucas send 1).\n",
        "\n",
        "Let's see what happens if we reduce the tolerance to 0, forcing the solution to focus on minimizing total transfer amount."
      ]
    },
    {
      "cell_type": "code",
      "execution_count": 7,
      "id": "6d150c34",
      "metadata": {},
      "outputs": [
        {
          "name": "stderr",
          "output_type": "stream",
          "text": "INFO:opvious.client.handlers:Validated inputs. [parameters=451]\nINFO:opvious.client.handlers:Solving problem... [columns=163, rows=180]\nINFO:opvious.client.handlers:Solve in progress... [iterations=0, gap=inf]\nINFO:opvious.client.handlers:Solve in progress... [iterations=23, gap=inf]\nINFO:opvious.client.handlers:Solve in progress... [iterations=107, gap=87.57%]\nINFO:opvious.client.handlers:Solve in progress... [iterations=234, gap=10.13%]\nINFO:opvious.client.handlers:Solve in progress... [iterations=1256, gap=0.0%]\nINFO:opvious.client.handlers:Added epsilon constraint. [objective_value=156.9327857142862]\nINFO:opvious.client.handlers:Solve in progress... [iterations=0, gap=inf]\nINFO:opvious.client.handlers:Solve in progress... [iterations=61, gap=inf]\nINFO:opvious.client.handlers:Solve in progress... [iterations=676, gap=50.0%]\nINFO:opvious.client.handlers:Added epsilon constraint. [objective_value=4]\nINFO:opvious.client.handlers:Solve in progress... [iterations=0, gap=inf]\nINFO:opvious.client.handlers:Solve in progress... [iterations=20, gap=inf]\nINFO:opvious.client.handlers:Solve in progress... [iterations=433, gap=0.0%]\nINFO:opvious.client.handlers:Solve completed with status OPTIMAL. [objective=156.9327857142862]\n"
        },
        {
          "data": {
            "text/html": "<div>\n<style scoped>\n    .dataframe tbody tr th:only-of-type {\n        vertical-align: middle;\n    }\n\n    .dataframe tbody tr th {\n        vertical-align: top;\n    }\n\n    .dataframe thead tr th {\n        text-align: left;\n    }\n\n    .dataframe thead tr:last-of-type th {\n        text-align: right;\n    }\n</style>\n<table border=\"1\" class=\"dataframe\">\n  <thead>\n    <tr>\n      <th></th>\n      <th colspan=\"6\" halign=\"left\">value</th>\n    </tr>\n    <tr>\n      <th>recipient</th>\n      <th>ava</th>\n      <th>emma</th>\n      <th>isabella</th>\n      <th>liam</th>\n      <th>mia</th>\n      <th>noah</th>\n    </tr>\n    <tr>\n      <th>sender</th>\n      <th></th>\n      <th></th>\n      <th></th>\n      <th></th>\n      <th></th>\n      <th></th>\n    </tr>\n  </thead>\n  <tbody>\n    <tr>\n      <th>ava</th>\n      <td>0.0</td>\n      <td>15.79</td>\n      <td>0.0</td>\n      <td>0.00</td>\n      <td>0.00</td>\n      <td>0.00</td>\n    </tr>\n    <tr>\n      <th>isabella</th>\n      <td>0.0</td>\n      <td>0.00</td>\n      <td>0.0</td>\n      <td>14.60</td>\n      <td>0.00</td>\n      <td>0.00</td>\n    </tr>\n    <tr>\n      <th>lucas</th>\n      <td>0.0</td>\n      <td>0.00</td>\n      <td>0.0</td>\n      <td>13.28</td>\n      <td>0.00</td>\n      <td>0.00</td>\n    </tr>\n    <tr>\n      <th>mason</th>\n      <td>0.0</td>\n      <td>0.00</td>\n      <td>10.0</td>\n      <td>12.93</td>\n      <td>19.24</td>\n      <td>16.85</td>\n    </tr>\n    <tr>\n      <th>sophia</th>\n      <td>10.0</td>\n      <td>23.01</td>\n      <td>0.0</td>\n      <td>0.00</td>\n      <td>21.23</td>\n      <td>0.00</td>\n    </tr>\n  </tbody>\n</table>\n</div>",
            "text/plain": "          value                                     \nrecipient   ava   emma isabella   liam    mia   noah\nsender                                              \nava         0.0  15.79      0.0   0.00   0.00   0.00\nisabella    0.0   0.00      0.0  14.60   0.00   0.00\nlucas       0.0   0.00      0.0  13.28   0.00   0.00\nmason       0.0   0.00     10.0  12.93  19.24  16.85\nsophia     10.0  23.01      0.0   0.00  21.23   0.00"
          },
          "execution_count": 112,
          "metadata": {},
          "output_type": "execute_result"
        }
      ],
      "source": [
        "await compute_optimal_transfers(payments_df, tolerance=0)"
      ]
    },
    {
      "cell_type": "markdown",
      "id": "428ed845",
      "metadata": {},
      "source": [
        "As expected the total transfer amount is lower (~$157), however our other objective has increased: Mason sends four transfers!\n",
        "\n",
        "Let's try increasing the tolerance instead to find a solution where each person sends at most a single transfer."
      ]
    },
    {
      "cell_type": "code",
      "execution_count": 8,
      "id": "5bfbf5d9",
      "metadata": {},
      "outputs": [
        {
          "name": "stderr",
          "output_type": "stream",
          "text": "INFO:opvious.client.handlers:Validated inputs. [parameters=451]\nINFO:opvious.client.handlers:Solving problem... [columns=163, rows=180]\nINFO:opvious.client.handlers:Solve in progress... [iterations=0, gap=inf]\nINFO:opvious.client.handlers:Solve in progress... [iterations=23, gap=inf]\nINFO:opvious.client.handlers:Solve in progress... [iterations=107, gap=87.57%]\nINFO:opvious.client.handlers:Solve in progress... [iterations=234, gap=10.13%]\nINFO:opvious.client.handlers:Solve in progress... [iterations=1256, gap=0.0%]\nINFO:opvious.client.handlers:Added epsilon constraint. [objective_value=156.9327857142862]\nINFO:opvious.client.handlers:Solve in progress... [iterations=0, gap=inf]\nINFO:opvious.client.handlers:Solve in progress... [iterations=63, gap=inf]\nINFO:opvious.client.handlers:Solve in progress... [iterations=276, gap=50.0%]\nINFO:opvious.client.handlers:Solve in progress... [iterations=7943, gap=0.0%]\nINFO:opvious.client.handlers:Added epsilon constraint. [objective_value=1]\nINFO:opvious.client.handlers:Solve in progress... [iterations=0, gap=inf]\nINFO:opvious.client.handlers:Solve in progress... [iterations=19, gap=inf]\nINFO:opvious.client.handlers:Solve in progress... [iterations=555, gap=16.69%]\nINFO:opvious.client.handlers:Solve in progress... [iterations=4138, gap=15.59%]\nINFO:opvious.client.handlers:Solve in progress... [iterations=21498, gap=8.09%]\nINFO:opvious.client.handlers:Solve completed with status OPTIMAL. [objective=204.08666666666616]\n"
        },
        {
          "data": {
            "text/html": "<div>\n<style scoped>\n    .dataframe tbody tr th:only-of-type {\n        vertical-align: middle;\n    }\n\n    .dataframe tbody tr th {\n        vertical-align: top;\n    }\n\n    .dataframe thead tr th {\n        text-align: left;\n    }\n\n    .dataframe thead tr:last-of-type th {\n        text-align: right;\n    }\n</style>\n<table border=\"1\" class=\"dataframe\">\n  <thead>\n    <tr>\n      <th></th>\n      <th colspan=\"6\" halign=\"left\">value</th>\n    </tr>\n    <tr>\n      <th>recipient</th>\n      <th>ava</th>\n      <th>emma</th>\n      <th>isabella</th>\n      <th>liam</th>\n      <th>mia</th>\n      <th>noah</th>\n    </tr>\n    <tr>\n      <th>sender</th>\n      <th></th>\n      <th></th>\n      <th></th>\n      <th></th>\n      <th></th>\n      <th></th>\n    </tr>\n  </thead>\n  <tbody>\n    <tr>\n      <th>ava</th>\n      <td>0.00</td>\n      <td>20.58</td>\n      <td>0.00</td>\n      <td>0.00</td>\n      <td>0.00</td>\n      <td>0.00</td>\n    </tr>\n    <tr>\n      <th>isabella</th>\n      <td>14.79</td>\n      <td>0.00</td>\n      <td>0.00</td>\n      <td>0.00</td>\n      <td>0.00</td>\n      <td>0.00</td>\n    </tr>\n    <tr>\n      <th>liam</th>\n      <td>0.00</td>\n      <td>18.22</td>\n      <td>0.00</td>\n      <td>0.00</td>\n      <td>0.00</td>\n      <td>0.00</td>\n    </tr>\n    <tr>\n      <th>lucas</th>\n      <td>0.00</td>\n      <td>0.00</td>\n      <td>0.00</td>\n      <td>0.00</td>\n      <td>0.00</td>\n      <td>13.28</td>\n    </tr>\n    <tr>\n      <th>mason</th>\n      <td>0.00</td>\n      <td>0.00</td>\n      <td>0.00</td>\n      <td>59.03</td>\n      <td>0.00</td>\n      <td>0.00</td>\n    </tr>\n    <tr>\n      <th>mia</th>\n      <td>0.00</td>\n      <td>0.00</td>\n      <td>0.00</td>\n      <td>0.00</td>\n      <td>0.00</td>\n      <td>13.76</td>\n    </tr>\n    <tr>\n      <th>noah</th>\n      <td>0.00</td>\n      <td>0.00</td>\n      <td>10.19</td>\n      <td>0.00</td>\n      <td>0.00</td>\n      <td>0.00</td>\n    </tr>\n    <tr>\n      <th>sophia</th>\n      <td>0.00</td>\n      <td>0.00</td>\n      <td>0.00</td>\n      <td>0.00</td>\n      <td>54.24</td>\n      <td>0.00</td>\n    </tr>\n  </tbody>\n</table>\n</div>",
            "text/plain": "           value                                     \nrecipient    ava   emma isabella   liam    mia   noah\nsender                                               \nava         0.00  20.58     0.00   0.00   0.00   0.00\nisabella   14.79   0.00     0.00   0.00   0.00   0.00\nliam        0.00  18.22     0.00   0.00   0.00   0.00\nlucas       0.00   0.00     0.00   0.00   0.00  13.28\nmason       0.00   0.00     0.00  59.03   0.00   0.00\nmia         0.00   0.00     0.00   0.00   0.00  13.76\nnoah        0.00   0.00    10.19   0.00   0.00   0.00\nsophia      0.00   0.00     0.00   0.00  54.24   0.00"
          },
          "execution_count": 117,
          "metadata": {},
          "output_type": "execute_result"
        }
      ],
      "source": [
        "await compute_optimal_transfers(payments_df, tolerance=0.35)"
      ]
    },
    {
      "cell_type": "markdown",
      "id": "ed652c60",
      "metadata": {},
      "source": [
        "## Next steps\n",
        "\n",
        "This notebook showed how [Opvious](https://www.opvious.io) can be used to define and apply optimization to concrete data, highlighting a few key features along the way (declarative modeling, remote solving, multi-objective support).\n",
        "\n",
        "Check out the [SDK's documentation](https://opvious.readthedocs.io) to learn more or give one of the following extension ideas a try!\n",
        "\n",
        "+ The formulation above assumes that all members involved in a transaction have equal share. How can we extend it to support arbitrary shares?\n",
        "+ Which other multi-objective strategies would make sense and how would their solutions compare to the one above?\n",
        "+ How can we extend the model to handle prior settlements (for example if Liam had already transferred some money to Noah)?"
      ]
    },
    {
      "cell_type": "code",
      "execution_count": 9,
      "id": "b2b32b31",
      "metadata": {},
      "outputs": [],
      "source": []
    }
  ],
  "metadata": {
    "kernelspec": {
      "display_name": "Python 3 (ipykernel)",
      "language": "python",
      "name": "python3"
    },
    "language_info": {
      "codemirror_mode": {
        "name": "ipython",
        "version": 3
      },
      "file_extension": ".py",
      "mimetype": "text/x-python",
      "name": "python",
      "nbconvert_exporter": "python",
      "pygments_lexer": "ipython3",
      "version": "3.11.4"
    }
  },
  "nbformat": 4,
  "nbformat_minor": 5
}