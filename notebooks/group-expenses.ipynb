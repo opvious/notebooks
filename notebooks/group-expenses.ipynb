{
  "cells": [
    {
      "cell_type": "markdown",
      "id": "b684e857",
      "metadata": {},
      "source": [
        "# Group expenses"
      ]
    },
    {
      "cell_type": "code",
      "execution_count": 1,
      "id": "4de08d3a",
      "metadata": {},
      "outputs": [],
      "source": [
        "%pip install 'opvious>=0.16.0'"
      ]
    },
    {
      "cell_type": "markdown",
      "id": "943d9b31",
      "metadata": {},
      "source": [
        "## Problem formulation"
      ]
    },
    {
      "cell_type": "code",
      "execution_count": 2,
      "id": "e7d077c8",
      "metadata": {},
      "outputs": [
        {
          "data": {
            "text/html": "<div>\n<style scoped>\n    .dataframe tbody tr th:only-of-type {\n        vertical-align: middle;\n    }\n\n    .dataframe tbody tr th {\n        vertical-align: top;\n    }\n\n    .dataframe thead th {\n        text-align: right;\n    }\n</style>\n<table border=\"1\" class=\"dataframe\">\n  <thead>\n    <tr style=\"text-align: right;\">\n      <th>title</th>\n      <th>GroupExpenses</th>\n    </tr>\n    <tr>\n      <th>category</th>\n      <th></th>\n    </tr>\n  </thead>\n  <tbody>\n    <tr>\n      <th>CONSTRAINT</th>\n      <td>4</td>\n    </tr>\n    <tr>\n      <th>DIMENSION</th>\n      <td>2</td>\n    </tr>\n    <tr>\n      <th>OBJECTIVE</th>\n      <td>2</td>\n    </tr>\n    <tr>\n      <th>PARAMETER</th>\n      <td>2</td>\n    </tr>\n    <tr>\n      <th>VARIABLE</th>\n      <td>3</td>\n    </tr>\n  </tbody>\n</table>\n</div>",
            "text/plain": "title       GroupExpenses\ncategory                 \nCONSTRAINT              4\nDIMENSION               2\nOBJECTIVE               2\nPARAMETER               2\nVARIABLE                3"
          },
          "execution_count": 77,
          "metadata": {},
          "output_type": "execute_result"
        }
      ],
      "source": [
        "import opvious.modeling as om\n",
        "\n",
        "class GroupExpenses(om.Model):\n",
        "    \"\"\"A mixed-integer model for finding the optimal way to settle debts within a group\"\"\"\n",
        "    \n",
        "    members = om.Dimension()  # Participants\n",
        "    transactions = om.Dimension()  # Expenses\n",
        "    payment = om.Parameter.non_negative(transactions, members)  # Amount paid so far by each member\n",
        "    min_transfer = om.Parameter.non_negative()  # Minimum transfer threshold\n",
        "    \n",
        "    def __init__(self):\n",
        "        super().__init__()\n",
        "        # Additional amount to be paid from one member to another to achieve fairness\n",
        "        self.transfer = om.Variable.non_negative(self.members, self.members, qualifiers=['sender', 'recipient'])\n",
        "        # Indicator variable representing a transfer from one member to another (1 if transfer > 0, 0 otherwise)\n",
        "        self.is_transferring = om.fragments.ActivationVariable(self.transfer, upper_bound=self.total_payments())\n",
        "    \n",
        "    def total_payments(self):\n",
        "        \"\"\"Total amount of money paid, used as upper-bound for transfers\"\"\"\n",
        "        return om.total(self.payment(t, m) for t, m in self.transactions * self.members)\n",
        "    \n",
        "    def fair_payment(self, t):\n",
        "        \"\"\"Fair payment per member for a transaction\"\"\"\n",
        "        return om.total(self.payment(t, m) for m in self.members) / om.size(self.members)\n",
        "    \n",
        "    @om.constraint\n",
        "    def zero_sum_transfers(self):\n",
        "        \"\"\"After netting transfers, each member should have paid the sum of their fair payments\"\"\"\n",
        "        for m in self.members:\n",
        "            received = om.total(self.transfer(s, m) for s in self.members)\n",
        "            sent = om.total(self.transfer(m, r) for r in self.members)\n",
        "            owed = om.total(self.payment(t, m) - self.fair_payment(t) for t in self.transactions)\n",
        "            yield received - sent == owed\n",
        "            \n",
        "    @om.constraint\n",
        "    def transfer_meets_min(self): \n",
        "        \"\"\"Each positive transfer is at least equal to the minimum threshold\"\"\"\n",
        "        for s, r in self.members * self.members:\n",
        "            yield self.transfer(s, r) >= self.is_transferring(s, r) * self.min_transfer()\n",
        "            \n",
        "    @om.objective\n",
        "    def minimize_total_transferred(self):\n",
        "        \"\"\"First objective: minimize the total amount of money transferred between members\"\"\"\n",
        "        return om.total(self.transfer(s, r) for s, r in self.members * self.members)\n",
        "    \n",
        "    @om.fragments.magnitude_variable(members, projection=0, lower_bound=False)\n",
        "    def max_transfers_sent(self, m):\n",
        "        \"\"\"Number of transfers sent by each member\"\"\"\n",
        "        return om.total(self.is_transferring(m, r) for r in self.members)\n",
        "    \n",
        "    @om.objective\n",
        "    def minimize_max_transfers_sent(self):\n",
        "        \"\"\"Second objective: minimize the maximum number of transfers sent by any member\"\"\"\n",
        "        return self.max_transfers_sent()\n",
        "\n",
        "\n",
        "model = GroupExpenses()\n",
        "model.definition_counts().T # Summary of the model's components"
      ]
    },
    {
      "cell_type": "markdown",
      "id": "43d96b97",
      "metadata": {},
      "source": [
        "For the mathematically inclined, models can generate their LaTeX specification."
      ]
    },
    {
      "cell_type": "code",
      "execution_count": 3,
      "id": "4a2768cf",
      "metadata": {},
      "outputs": [
        {
          "data": {
            "text/markdown": "<div style=\"margin-top: 1em; margin-bottom: 1em;\">\n<details open>\n<summary style=\"cursor: pointer; text-decoration: underline; text-decoration-style: dotted;\">GroupExpenses</summary>\n<div style=\"margin-top: 1em;\">\n$$\n\\begin{align*}\n  \\S^v_\\mathrm{transfer[sender,recipient]}&: \\tau \\in \\mathbb{R}_+^{M \\times M} \\\\\n  \\S^v_\\mathrm{isTransferring}&: \\tau^\\mathrm{is} \\in \\{0, 1\\}^{M \\times M} \\\\\n  \\S^c_\\mathrm{isTransferringActivates}&: \\forall m, m' \\in M, \\sum_{t \\in T, m'' \\in M} p_{t,m''} \\tau^\\mathrm{is}_{m,m'} \\geq \\tau_{m,m'} \\\\\n  \\S^d_\\mathrm{members}&: M \\\\\n  \\S^d_\\mathrm{transactions}&: T \\\\\n  \\S^p_\\mathrm{payment}&: p \\in \\mathbb{R}_+^{T \\times M} \\\\\n  \\S^p_\\mathrm{minTransfer}&: t^\\mathrm{min} \\in \\mathbb{R}_+ \\\\\n  \\S^c_\\mathrm{zeroSumTransfers}&: \\forall m \\in M, \\sum_{m' \\in M} \\tau_{m',m} - \\sum_{m' \\in M} \\tau_{m,m'} = \\sum_{t \\in T} \\left(p_{t,m} - \\frac{\\sum_{m' \\in M} p_{t,m'}}{\\# M}\\right) \\\\\n  \\S^c_\\mathrm{transferMeetsMin}&: \\forall m, m' \\in M, \\tau_{m,m'} \\geq \\tau^\\mathrm{is}_{m,m'} t^\\mathrm{min} \\\\\n  \\S^o_\\mathrm{minimizeTotalTransferred}&: \\min \\sum_{m, m' \\in M} \\tau_{m,m'} \\\\\n  \\S^v_\\mathrm{maxTransfersSent}&: \\sigma^\\mathrm{maxTransfers} \\in \\mathbb{R}_+ \\\\\n  \\S^c_\\mathrm{maxTransfersSentUpperBounds}&: \\forall m \\in M, \\sigma^\\mathrm{maxTransfers} \\geq \\sum_{m' \\in M} \\tau^\\mathrm{is}_{m,m'} \\\\\n  \\S^o_\\mathrm{minimizeMaxTransfersSent}&: \\min \\sigma^\\mathrm{maxTransfers} \\\\\n\\end{align*}\n$$\n</div>\n</details>\n</div>",
            "text/plain": "LocalSpecification(sources=[LocalSpecificationSource(text=\"$$\\n\\\\begin{align*}\\n  \\\\S^v_\\\\mathrm{transfer[sender,recipient]}&: \\\\tau \\\\in \\\\mathbb{R}_+^{M \\\\times M} \\\\\\\\\\n  \\\\S^v_\\\\mathrm{isTransferring}&: \\\\tau^\\\\mathrm{is} \\\\in \\\\{0, 1\\\\}^{M \\\\times M} \\\\\\\\\\n  \\\\S^c_\\\\mathrm{isTransferringActivates}&: \\\\forall m, m' \\\\in M, \\\\sum_{t \\\\in T, m'' \\\\in M} p_{t,m''} \\\\tau^\\\\mathrm{is}_{m,m'} \\\\geq \\\\tau_{m,m'} \\\\\\\\\\n  \\\\S^d_\\\\mathrm{members}&: M \\\\\\\\\\n  \\\\S^d_\\\\mathrm{transactions}&: T \\\\\\\\\\n  \\\\S^p_\\\\mathrm{payment}&: p \\\\in \\\\mathbb{R}_+^{T \\\\times M} \\\\\\\\\\n  \\\\S^p_\\\\mathrm{minTransfer}&: t^\\\\mathrm{min} \\\\in \\\\mathbb{R}_+ \\\\\\\\\\n  \\\\S^c_\\\\mathrm{zeroSumTransfers}&: \\\\forall m \\\\in M, \\\\sum_{m' \\\\in M} \\\\tau_{m',m} - \\\\sum_{m' \\\\in M} \\\\tau_{m,m'} = \\\\sum_{t \\\\in T} \\\\left(p_{t,m} - \\\\frac{\\\\sum_{m' \\\\in M} p_{t,m'}}{\\\\# M}\\\\right) \\\\\\\\\\n  \\\\S^c_\\\\mathrm{transferMeetsMin}&: \\\\forall m, m' \\\\in M, \\\\tau_{m,m'} \\\\geq \\\\tau^\\\\mathrm{is}_{m,m'} t^\\\\mathrm{min} \\\\\\\\\\n  \\\\S^o_\\\\mathrm{minimizeTotalTransferred}&: \\\\min \\\\sum_{m, m' \\\\in M} \\\\tau_{m,m'} \\\\\\\\\\n  \\\\S^v_\\\\mathrm{maxTransfersSent}&: \\\\sigma^\\\\mathrm{maxTransfers} \\\\in \\\\mathbb{R}_+ \\\\\\\\\\n  \\\\S^c_\\\\mathrm{maxTransfersSentUpperBounds}&: \\\\forall m \\\\in M, \\\\sigma^\\\\mathrm{maxTransfers} \\\\geq \\\\sum_{m' \\\\in M} \\\\tau^\\\\mathrm{is}_{m,m'} \\\\\\\\\\n  \\\\S^o_\\\\mathrm{minimizeMaxTransfersSent}&: \\\\min \\\\sigma^\\\\mathrm{maxTransfers} \\\\\\\\\\n\\\\end{align*}\\n$$\", title='GroupExpenses')], description='A mixed-integer model for finding the optimal way to settle debts within a group', annotation=None)"
          },
          "execution_count": 78,
          "metadata": {},
          "output_type": "execute_result"
        }
      ],
      "source": [
        "model.specification()"
      ]
    },
    {
      "cell_type": "markdown",
      "id": "7e1a8819",
      "metadata": {},
      "source": [
        "## Application"
      ]
    },
    {
      "cell_type": "code",
      "execution_count": 4,
      "id": "adad2341",
      "metadata": {},
      "outputs": [],
      "source": [
        "import opvious\n",
        "\n",
        "_client = opvious.Client.default()\n",
        "\n",
        "async def optimal_transfers(payments, min_transfer=0, tolerance=0.1):\n",
        "    \"\"\"Compute optimal transfers\"\"\"\n",
        "    res = await _client.run_solve(\n",
        "        specification=model.specification(),\n",
        "        parameters={'payment': payments.stack()['payment'], 'minTransfer': min_transfer},\n",
        "        strategy=opvious.SolveStrategy(  # Multi-objective strategy\n",
        "            epsilon_constraints=[\n",
        "                # Within tolerance of the smallest total transfer amount\n",
        "                opvious.EpsilonConstraint('minimizeTotalTransferred', relative_tolerance=tolerance),\n",
        "                # Using the smallest possible number of transfers per member\n",
        "                opvious.EpsilonConstraint('minimizeMaxTransfersSent'),\n",
        "            ],\n",
        "            target='minimizeTotalTransferred',  # Final target: minimize total transfer amount\n",
        "        ),\n",
        "        assert_feasible=True,\n",
        "    )\n",
        "    return res.outputs.variable('transfer').unstack(level=1).fillna(0)"
      ]
    },
    {
      "cell_type": "markdown",
      "id": "764ca2ad",
      "metadata": {},
      "source": [
        "## Testing"
      ]
    },
    {
      "cell_type": "code",
      "execution_count": 5,
      "id": "9d79fa40",
      "metadata": {},
      "outputs": [
        {
          "data": {
            "text/html": "<div>\n<style scoped>\n    .dataframe tbody tr th:only-of-type {\n        vertical-align: middle;\n    }\n\n    .dataframe tbody tr th {\n        vertical-align: top;\n    }\n\n    .dataframe thead tr th {\n        text-align: left;\n    }\n\n    .dataframe thead tr:last-of-type th {\n        text-align: right;\n    }\n</style>\n<table border=\"1\" class=\"dataframe\">\n  <thead>\n    <tr>\n      <th></th>\n      <th colspan=\"10\" halign=\"left\">payment</th>\n    </tr>\n    <tr>\n      <th>name</th>\n      <th>amelia</th>\n      <th>ava</th>\n      <th>emma</th>\n      <th>isabella</th>\n      <th>liam</th>\n      <th>lucas</th>\n      <th>mason</th>\n      <th>mia</th>\n      <th>noah</th>\n      <th>sophia</th>\n    </tr>\n    <tr>\n      <th>transaction</th>\n      <th></th>\n      <th></th>\n      <th></th>\n      <th></th>\n      <th></th>\n      <th></th>\n      <th></th>\n      <th></th>\n      <th></th>\n      <th></th>\n    </tr>\n  </thead>\n  <tbody>\n    <tr>\n      <th>t01</th>\n      <td>80.24</td>\n      <td>0.00</td>\n      <td>0.00</td>\n      <td>0.00</td>\n      <td>9.41</td>\n      <td>0.00</td>\n      <td>87.46</td>\n      <td>85.40</td>\n      <td>0.00</td>\n      <td>62.15</td>\n    </tr>\n    <tr>\n      <th>t02</th>\n      <td>0.00</td>\n      <td>95.86</td>\n      <td>69.56</td>\n      <td>66.33</td>\n      <td>0.00</td>\n      <td>29.93</td>\n      <td>39.49</td>\n      <td>27.80</td>\n      <td>15.50</td>\n      <td>0.00</td>\n    </tr>\n    <tr>\n      <th>t03</th>\n      <td>0.00</td>\n      <td>13.87</td>\n      <td>0.00</td>\n      <td>41.36</td>\n      <td>38.47</td>\n      <td>0.00</td>\n      <td>0.00</td>\n      <td>0.00</td>\n      <td>0.00</td>\n      <td>0.00</td>\n    </tr>\n    <tr>\n      <th>t04</th>\n      <td>0.00</td>\n      <td>0.00</td>\n      <td>0.00</td>\n      <td>14.89</td>\n      <td>0.00</td>\n      <td>96.19</td>\n      <td>86.77</td>\n      <td>0.00</td>\n      <td>72.99</td>\n      <td>0.00</td>\n    </tr>\n    <tr>\n      <th>t05</th>\n      <td>0.00</td>\n      <td>0.00</td>\n      <td>0.00</td>\n      <td>0.00</td>\n      <td>5.80</td>\n      <td>0.00</td>\n      <td>0.00</td>\n      <td>0.00</td>\n      <td>0.00</td>\n      <td>0.00</td>\n    </tr>\n    <tr>\n      <th>t06</th>\n      <td>31.91</td>\n      <td>98.92</td>\n      <td>94.57</td>\n      <td>76.46</td>\n      <td>73.58</td>\n      <td>0.00</td>\n      <td>66.66</td>\n      <td>0.00</td>\n      <td>38.71</td>\n      <td>0.00</td>\n    </tr>\n    <tr>\n      <th>t07</th>\n      <td>16.09</td>\n      <td>20.13</td>\n      <td>0.00</td>\n      <td>61.43</td>\n      <td>19.68</td>\n      <td>0.00</td>\n      <td>95.59</td>\n      <td>0.00</td>\n      <td>0.00</td>\n      <td>50.31</td>\n    </tr>\n    <tr>\n      <th>t08</th>\n      <td>53.80</td>\n      <td>65.37</td>\n      <td>0.00</td>\n      <td>87.86</td>\n      <td>7.57</td>\n      <td>8.07</td>\n      <td>0.00</td>\n      <td>92.50</td>\n      <td>0.00</td>\n      <td>43.37</td>\n    </tr>\n    <tr>\n      <th>t09</th>\n      <td>0.00</td>\n      <td>30.14</td>\n      <td>8.33</td>\n      <td>0.00</td>\n      <td>0.00</td>\n      <td>58.71</td>\n      <td>0.00</td>\n      <td>71.64</td>\n      <td>0.00</td>\n      <td>0.00</td>\n    </tr>\n    <tr>\n      <th>t10</th>\n      <td>0.00</td>\n      <td>85.21</td>\n      <td>80.83</td>\n      <td>0.00</td>\n      <td>0.00</td>\n      <td>51.47</td>\n      <td>0.00</td>\n      <td>98.71</td>\n      <td>31.98</td>\n      <td>0.00</td>\n    </tr>\n    <tr>\n      <th>t11</th>\n      <td>62.75</td>\n      <td>43.65</td>\n      <td>30.62</td>\n      <td>66.43</td>\n      <td>30.35</td>\n      <td>69.67</td>\n      <td>62.13</td>\n      <td>40.25</td>\n      <td>0.00</td>\n      <td>47.44</td>\n    </tr>\n    <tr>\n      <th>t12</th>\n      <td>0.00</td>\n      <td>82.03</td>\n      <td>32.63</td>\n      <td>0.00</td>\n      <td>0.00</td>\n      <td>5.82</td>\n      <td>0.00</td>\n      <td>0.00</td>\n      <td>0.00</td>\n      <td>35.52</td>\n    </tr>\n    <tr>\n      <th>t13</th>\n      <td>95.32</td>\n      <td>94.01</td>\n      <td>45.25</td>\n      <td>0.00</td>\n      <td>0.00</td>\n      <td>72.72</td>\n      <td>0.00</td>\n      <td>0.00</td>\n      <td>0.00</td>\n      <td>84.39</td>\n    </tr>\n    <tr>\n      <th>t14</th>\n      <td>0.00</td>\n      <td>43.56</td>\n      <td>32.75</td>\n      <td>0.00</td>\n      <td>0.00</td>\n      <td>0.00</td>\n      <td>6.34</td>\n      <td>5.46</td>\n      <td>0.00</td>\n      <td>70.42</td>\n    </tr>\n    <tr>\n      <th>t15</th>\n      <td>72.38</td>\n      <td>0.00</td>\n      <td>65.15</td>\n      <td>7.22</td>\n      <td>0.00</td>\n      <td>60.43</td>\n      <td>88.12</td>\n      <td>68.27</td>\n      <td>28.18</td>\n      <td>0.00</td>\n    </tr>\n  </tbody>\n</table>\n</div>",
            "text/plain": "            payment                                                            \\\nname         amelia    ava   emma isabella   liam  lucas  mason    mia   noah   \ntransaction                                                                     \nt01           80.24   0.00   0.00     0.00   9.41   0.00  87.46  85.40   0.00   \nt02            0.00  95.86  69.56    66.33   0.00  29.93  39.49  27.80  15.50   \nt03            0.00  13.87   0.00    41.36  38.47   0.00   0.00   0.00   0.00   \nt04            0.00   0.00   0.00    14.89   0.00  96.19  86.77   0.00  72.99   \nt05            0.00   0.00   0.00     0.00   5.80   0.00   0.00   0.00   0.00   \nt06           31.91  98.92  94.57    76.46  73.58   0.00  66.66   0.00  38.71   \nt07           16.09  20.13   0.00    61.43  19.68   0.00  95.59   0.00   0.00   \nt08           53.80  65.37   0.00    87.86   7.57   8.07   0.00  92.50   0.00   \nt09            0.00  30.14   8.33     0.00   0.00  58.71   0.00  71.64   0.00   \nt10            0.00  85.21  80.83     0.00   0.00  51.47   0.00  98.71  31.98   \nt11           62.75  43.65  30.62    66.43  30.35  69.67  62.13  40.25   0.00   \nt12            0.00  82.03  32.63     0.00   0.00   5.82   0.00   0.00   0.00   \nt13           95.32  94.01  45.25     0.00   0.00  72.72   0.00   0.00   0.00   \nt14            0.00  43.56  32.75     0.00   0.00   0.00   6.34   5.46   0.00   \nt15           72.38   0.00  65.15     7.22   0.00  60.43  88.12  68.27  28.18   \n\n                    \nname        sophia  \ntransaction         \nt01          62.15  \nt02           0.00  \nt03           0.00  \nt04           0.00  \nt05           0.00  \nt06           0.00  \nt07          50.31  \nt08          43.37  \nt09           0.00  \nt10           0.00  \nt11          47.44  \nt12          35.52  \nt13          84.39  \nt14          70.42  \nt15           0.00  "
          },
          "execution_count": 163,
          "metadata": {},
          "output_type": "execute_result"
        }
      ],
      "source": [
        "import numpy as np\n",
        "import pandas as pd\n",
        "\n",
        "_names = [\"emma\", \"noah\", \"ava\", \"liam\", \"isabella\", \"sophia\", \"mason\", \"mia\", \"lucas\", \"amelia\"]\n",
        "\n",
        "def random_data(count=15, seed=16):\n",
        "    rng = np.random.default_rng(seed)\n",
        "    tuples = []\n",
        "    for i in range(count):\n",
        "        tid = f't{i+1:02}'\n",
        "        for name in _names:\n",
        "            if rng.integers(2):\n",
        "                continue\n",
        "            tuples.append({\n",
        "                'transaction': tid, \n",
        "                'name': name, \n",
        "                'payment': round(100 * rng.random(), 2),\n",
        "            })\n",
        "    df = pd.DataFrame(tuples).set_index(['transaction', 'name'])\n",
        "    return df.unstack().fillna(0)\n",
        "\n",
        "df = random_data()\n",
        "df"
      ]
    },
    {
      "cell_type": "code",
      "execution_count": 6,
      "id": "ba363819",
      "metadata": {},
      "outputs": [
        {
          "data": {
            "text/html": "<div>\n<style scoped>\n    .dataframe tbody tr th:only-of-type {\n        vertical-align: middle;\n    }\n\n    .dataframe tbody tr th {\n        vertical-align: top;\n    }\n\n    .dataframe thead tr th {\n        text-align: left;\n    }\n\n    .dataframe thead tr:last-of-type th {\n        text-align: right;\n    }\n</style>\n<table border=\"1\" class=\"dataframe\">\n  <thead>\n    <tr>\n      <th></th>\n      <th colspan=\"7\" halign=\"left\">value</th>\n    </tr>\n    <tr>\n      <th>recipient</th>\n      <th>amelia</th>\n      <th>ava</th>\n      <th>emma</th>\n      <th>isabella</th>\n      <th>lucas</th>\n      <th>mason</th>\n      <th>mia</th>\n    </tr>\n    <tr>\n      <th>sender</th>\n      <th></th>\n      <th></th>\n      <th></th>\n      <th></th>\n      <th></th>\n      <th></th>\n      <th></th>\n    </tr>\n  </thead>\n  <tbody>\n    <tr>\n      <th>amelia</th>\n      <td>0.0</td>\n      <td>0.000</td>\n      <td>0.000</td>\n      <td>0.000</td>\n      <td>0.000</td>\n      <td>18.343</td>\n      <td>0.000</td>\n    </tr>\n    <tr>\n      <th>isabella</th>\n      <td>10.0</td>\n      <td>0.000</td>\n      <td>0.000</td>\n      <td>0.000</td>\n      <td>0.000</td>\n      <td>0.000</td>\n      <td>0.000</td>\n    </tr>\n    <tr>\n      <th>liam</th>\n      <td>0.0</td>\n      <td>150.685</td>\n      <td>0.000</td>\n      <td>0.000</td>\n      <td>32.177</td>\n      <td>0.000</td>\n      <td>53.111</td>\n    </tr>\n    <tr>\n      <th>noah</th>\n      <td>0.0</td>\n      <td>101.232</td>\n      <td>38.857</td>\n      <td>0.000</td>\n      <td>0.000</td>\n      <td>93.384</td>\n      <td>0.000</td>\n    </tr>\n    <tr>\n      <th>sophia</th>\n      <td>0.0</td>\n      <td>0.000</td>\n      <td>0.000</td>\n      <td>11.147</td>\n      <td>0.000</td>\n      <td>0.000</td>\n      <td>16.086</td>\n    </tr>\n  </tbody>\n</table>\n</div>",
            "text/plain": "           value                                                  \nrecipient amelia      ava    emma isabella   lucas   mason     mia\nsender                                                            \namelia       0.0    0.000   0.000    0.000   0.000  18.343   0.000\nisabella    10.0    0.000   0.000    0.000   0.000   0.000   0.000\nliam         0.0  150.685   0.000    0.000  32.177   0.000  53.111\nnoah         0.0  101.232  38.857    0.000   0.000  93.384   0.000\nsophia       0.0    0.000   0.000   11.147   0.000   0.000  16.086"
          },
          "execution_count": 166,
          "metadata": {},
          "output_type": "execute_result"
        }
      ],
      "source": [
        "odf = await optimal_transfers(df, min_transfer=10, tolerance=0)\n",
        "odf"
      ]
    },
    {
      "cell_type": "markdown",
      "id": "ed652c60",
      "metadata": {},
      "source": [
        "Next steps:\n",
        "\n",
        "+ Partial group transactions (formulated [here](https://github.com/opvious/examples/blob/main/sources/group-expenses.md) for example)\n",
        "+ Different objective ordering\n",
        "+ "
      ]
    },
    {
      "cell_type": "code",
      "execution_count": 7,
      "id": "44e3b3a0",
      "metadata": {},
      "outputs": [],
      "source": []
    }
  ],
  "metadata": {
    "kernelspec": {
      "display_name": "Python 3 (ipykernel)",
      "language": "python",
      "name": "python3"
    },
    "language_info": {
      "codemirror_mode": {
        "name": "ipython",
        "version": 3
      },
      "file_extension": ".py",
      "mimetype": "text/x-python",
      "name": "python",
      "nbconvert_exporter": "python",
      "pygments_lexer": "ipython3",
      "version": "3.11.4"
    }
  },
  "nbformat": 4,
  "nbformat_minor": 5,
  "execution_count": 7
}