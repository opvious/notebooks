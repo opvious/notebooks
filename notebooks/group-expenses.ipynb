{
  "cells": [
    {
      "cell_type": "markdown",
      "id": "b684e857",
      "metadata": {},
      "source": [
        "# Group expenses"
      ]
    },
    {
      "cell_type": "code",
      "execution_count": 1,
      "id": "4de08d3a",
      "metadata": {},
      "outputs": [],
      "source": [
        "%pip install 'opvious>=0.16.1'"
      ]
    },
    {
      "cell_type": "markdown",
      "id": "943d9b31",
      "metadata": {},
      "source": [
        "## Problem formulation\n",
        "\n",
        "Let's formulate "
      ]
    },
    {
      "cell_type": "code",
      "execution_count": 2,
      "id": "e7d077c8",
      "metadata": {},
      "outputs": [
        {
          "data": {
            "text/html": "<div>\n<style scoped>\n    .dataframe tbody tr th:only-of-type {\n        vertical-align: middle;\n    }\n\n    .dataframe tbody tr th {\n        vertical-align: top;\n    }\n\n    .dataframe thead th {\n        text-align: right;\n    }\n</style>\n<table border=\"1\" class=\"dataframe\">\n  <thead>\n    <tr style=\"text-align: right;\">\n      <th>title</th>\n      <th>GroupExpenses</th>\n    </tr>\n    <tr>\n      <th>category</th>\n      <th></th>\n    </tr>\n  </thead>\n  <tbody>\n    <tr>\n      <th>CONSTRAINT</th>\n      <td>4</td>\n    </tr>\n    <tr>\n      <th>DIMENSION</th>\n      <td>2</td>\n    </tr>\n    <tr>\n      <th>OBJECTIVE</th>\n      <td>2</td>\n    </tr>\n    <tr>\n      <th>PARAMETER</th>\n      <td>3</td>\n    </tr>\n    <tr>\n      <th>VARIABLE</th>\n      <td>3</td>\n    </tr>\n  </tbody>\n</table>\n</div>",
            "text/plain": "title       GroupExpenses\ncategory                 \nCONSTRAINT              4\nDIMENSION               2\nOBJECTIVE               2\nPARAMETER               3\nVARIABLE                3"
          },
          "execution_count": 2,
          "metadata": {},
          "output_type": "execute_result"
        }
      ],
      "source": [
        "import opvious.modeling as om\n",
        "\n",
        "class GroupExpenses(om.Model):\n",
        "    \"\"\"A mixed-integer model for finding the optimal way to settle debts within a group\"\"\"\n",
        "    \n",
        "    members = om.Dimension()  # Participants\n",
        "    transactions = om.Dimension()  # Expenses\n",
        "    is_participating = om.Parameter.indicator(transactions, members)  # 1 if a member is involved in a transaction\n",
        "    payment = om.Parameter.non_negative(transactions, members)  # Amount paid by each member in a transaction\n",
        "    min_transfer = om.Parameter.non_negative()  # Minimum transfer threshold\n",
        "    \n",
        "    def __init__(self):\n",
        "        super().__init__()\n",
        "        # Additional amount to be paid from one member to another to achieve fairness\n",
        "        self.transfer = om.Variable.non_negative(self.members, self.members, qualifiers=['sender', 'recipient'])\n",
        "        # Indicator variable representing a transfer from one member to another (1 if transfer > 0, 0 otherwise)\n",
        "        self.is_transferring = om.fragments.ActivationVariable(self.transfer, upper_bound=self.total_payments())\n",
        "    \n",
        "    def total_payments(self):\n",
        "        \"\"\"Total amount of money paid, used as upper-bound for transfers\"\"\"\n",
        "        return om.total(self.payment(t, m) for t, m in self.transactions * self.members)\n",
        "    \n",
        "    def fair_payment(self, t, m):\n",
        "        \"\"\"Fair payment in a transaction for a given member\"\"\"\n",
        "        share = self.is_participating(t, m) / om.total(self.is_participating(t, o) for o in self.members)\n",
        "        return share * om.total(self.payment(t, m) for m in self.members)\n",
        "    \n",
        "    @om.constraint\n",
        "    def zero_sum_transfers(self):\n",
        "        \"\"\"After netting transfers, each member should have paid the sum of their fair payments\"\"\"\n",
        "        for m in self.members:\n",
        "            received = om.total(self.transfer(s, m) for s in self.members)\n",
        "            sent = om.total(self.transfer(m, r) for r in self.members)\n",
        "            owed = om.total(self.payment(t, m) - self.fair_payment(t, m) for t in self.transactions)\n",
        "            yield received - sent == owed\n",
        "            \n",
        "    @om.constraint\n",
        "    def transfer_meets_min(self): \n",
        "        \"\"\"Each positive transfer is at least equal to the minimum threshold\"\"\"\n",
        "        for s, r in self.members * self.members:\n",
        "            yield self.transfer(s, r) >= self.is_transferring(s, r) * self.min_transfer()\n",
        "            \n",
        "    @om.objective\n",
        "    def minimize_total_transferred(self):\n",
        "        \"\"\"First objective: minimize the total amount of money transferred between members\"\"\"\n",
        "        return om.total(self.transfer(s, r) for s, r in self.members * self.members)\n",
        "    \n",
        "    @om.fragments.magnitude_variable(members, projection=0, lower_bound=False)\n",
        "    def max_transfers_sent(self, m):\n",
        "        \"\"\"Number of transfers sent by each member\"\"\"\n",
        "        return om.total(self.is_transferring(m, r) for r in self.members)\n",
        "    \n",
        "    @om.objective\n",
        "    def minimize_max_transfers_sent(self):\n",
        "        \"\"\"Second objective: minimize the maximum number of transfers sent by any member\"\"\"\n",
        "        return self.max_transfers_sent()\n",
        "\n",
        "\n",
        "model = GroupExpenses()\n",
        "model.definition_counts().T # Summary of the model's components"
      ]
    },
    {
      "cell_type": "markdown",
      "id": "43d96b97",
      "metadata": {},
      "source": [
        "For the mathematically inclined, models can generate their LaTeX specification."
      ]
    },
    {
      "cell_type": "code",
      "execution_count": 3,
      "id": "4a2768cf",
      "metadata": {},
      "outputs": [
        {
          "data": {
            "text/markdown": "<div style=\"margin-top: 1em; margin-bottom: 1em;\">\n<details open>\n<summary style=\"cursor: pointer; text-decoration: underline; text-decoration-style: dotted;\">GroupExpenses</summary>\n<div style=\"margin-top: 1em;\">\n$$\n\\begin{align*}\n  \\S^v_\\mathrm{transfer[sender,recipient]}&: \\tau \\in \\mathbb{R}_+^{M \\times M} \\\\\n  \\S^v_\\mathrm{isTransferring}&: \\tau^\\mathrm{is} \\in \\{0, 1\\}^{M \\times M} \\\\\n  \\S^c_\\mathrm{isTransferringActivates}&: \\forall m, m' \\in M, \\sum_{t \\in T, m'' \\in M} p_{t,m''} \\tau^\\mathrm{is}_{m,m'} \\geq \\tau_{m,m'} \\\\\n  \\S^d_\\mathrm{members}&: M \\\\\n  \\S^d_\\mathrm{transactions}&: T \\\\\n  \\S^p_\\mathrm{isParticipating}&: p^\\mathrm{is} \\in \\{0, 1\\}^{T \\times M} \\\\\n  \\S^p_\\mathrm{payment}&: p \\in \\mathbb{R}_+^{T \\times M} \\\\\n  \\S^p_\\mathrm{minTransfer}&: t^\\mathrm{min} \\in \\mathbb{R}_+ \\\\\n  \\S^c_\\mathrm{zeroSumTransfers}&: \\forall m \\in M, \\sum_{m' \\in M} \\tau_{m',m} - \\sum_{m' \\in M} \\tau_{m,m'} = \\sum_{t \\in T} \\left(p_{t,m} - \\frac{p^\\mathrm{is}_{t,m}}{\\sum_{m' \\in M} p^\\mathrm{is}_{t,m'}} \\sum_{m' \\in M} p_{t,m'}\\right) \\\\\n  \\S^c_\\mathrm{transferMeetsMin}&: \\forall m, m' \\in M, \\tau_{m,m'} \\geq \\tau^\\mathrm{is}_{m,m'} t^\\mathrm{min} \\\\\n  \\S^o_\\mathrm{minimizeTotalTransferred}&: \\min \\sum_{m, m' \\in M} \\tau_{m,m'} \\\\\n  \\S^v_\\mathrm{maxTransfersSent}&: \\sigma^\\mathrm{maxTransfers} \\in \\mathbb{R}_+ \\\\\n  \\S^c_\\mathrm{maxTransfersSentUpperBounds}&: \\forall m \\in M, \\sigma^\\mathrm{maxTransfers} \\geq \\sum_{m' \\in M} \\tau^\\mathrm{is}_{m,m'} \\\\\n  \\S^o_\\mathrm{minimizeMaxTransfersSent}&: \\min \\sigma^\\mathrm{maxTransfers} \\\\\n\\end{align*}\n$$\n</div>\n</details>\n</div>",
            "text/plain": "LocalSpecification(sources=[LocalSpecificationSource(text=\"$$\\n\\\\begin{align*}\\n  \\\\S^v_\\\\mathrm{transfer[sender,recipient]}&: \\\\tau \\\\in \\\\mathbb{R}_+^{M \\\\times M} \\\\\\\\\\n  \\\\S^v_\\\\mathrm{isTransferring}&: \\\\tau^\\\\mathrm{is} \\\\in \\\\{0, 1\\\\}^{M \\\\times M} \\\\\\\\\\n  \\\\S^c_\\\\mathrm{isTransferringActivates}&: \\\\forall m, m' \\\\in M, \\\\sum_{t \\\\in T, m'' \\\\in M} p_{t,m''} \\\\tau^\\\\mathrm{is}_{m,m'} \\\\geq \\\\tau_{m,m'} \\\\\\\\\\n  \\\\S^d_\\\\mathrm{members}&: M \\\\\\\\\\n  \\\\S^d_\\\\mathrm{transactions}&: T \\\\\\\\\\n  \\\\S^p_\\\\mathrm{isParticipating}&: p^\\\\mathrm{is} \\\\in \\\\{0, 1\\\\}^{T \\\\times M} \\\\\\\\\\n  \\\\S^p_\\\\mathrm{payment}&: p \\\\in \\\\mathbb{R}_+^{T \\\\times M} \\\\\\\\\\n  \\\\S^p_\\\\mathrm{minTransfer}&: t^\\\\mathrm{min} \\\\in \\\\mathbb{R}_+ \\\\\\\\\\n  \\\\S^c_\\\\mathrm{zeroSumTransfers}&: \\\\forall m \\\\in M, \\\\sum_{m' \\\\in M} \\\\tau_{m',m} - \\\\sum_{m' \\\\in M} \\\\tau_{m,m'} = \\\\sum_{t \\\\in T} \\\\left(p_{t,m} - \\\\frac{p^\\\\mathrm{is}_{t,m}}{\\\\sum_{m' \\\\in M} p^\\\\mathrm{is}_{t,m'}} \\\\sum_{m' \\\\in M} p_{t,m'}\\\\right) \\\\\\\\\\n  \\\\S^c_\\\\mathrm{transferMeetsMin}&: \\\\forall m, m' \\\\in M, \\\\tau_{m,m'} \\\\geq \\\\tau^\\\\mathrm{is}_{m,m'} t^\\\\mathrm{min} \\\\\\\\\\n  \\\\S^o_\\\\mathrm{minimizeTotalTransferred}&: \\\\min \\\\sum_{m, m' \\\\in M} \\\\tau_{m,m'} \\\\\\\\\\n  \\\\S^v_\\\\mathrm{maxTransfersSent}&: \\\\sigma^\\\\mathrm{maxTransfers} \\\\in \\\\mathbb{R}_+ \\\\\\\\\\n  \\\\S^c_\\\\mathrm{maxTransfersSentUpperBounds}&: \\\\forall m \\\\in M, \\\\sigma^\\\\mathrm{maxTransfers} \\\\geq \\\\sum_{m' \\\\in M} \\\\tau^\\\\mathrm{is}_{m,m'} \\\\\\\\\\n  \\\\S^o_\\\\mathrm{minimizeMaxTransfersSent}&: \\\\min \\\\sigma^\\\\mathrm{maxTransfers} \\\\\\\\\\n\\\\end{align*}\\n$$\", title='GroupExpenses')], description='A mixed-integer model for finding the optimal way to settle debts within a group', annotation=None)"
          },
          "execution_count": 3,
          "metadata": {},
          "output_type": "execute_result"
        }
      ],
      "source": [
        "model.specification()"
      ]
    },
    {
      "cell_type": "markdown",
      "id": "7e1a8819",
      "metadata": {},
      "source": [
        "## Application"
      ]
    },
    {
      "cell_type": "code",
      "execution_count": 4,
      "id": "adad2341",
      "metadata": {},
      "outputs": [],
      "source": [
        "import opvious\n",
        "\n",
        "_client = opvious.Client.default()\n",
        "\n",
        "async def optimal_transfers(payments, min_transfer=10, tolerance=0.1):\n",
        "    \"\"\"Computes optimal transfers to settle expenses fairly within a group\n",
        "    \n",
        "    Args:\n",
        "        payments: Dataframe of payments indexed by transaction where each column is a group member.\n",
        "            Each member with a non-zero payment will be considered a participant in the transaction.\n",
        "        min_transfer: Minimum transfer amount during settlement.\n",
        "        tolerance: Relative slack bound on the total amount of money transferred during settlement\n",
        "            used to minimize the number of outbound transfers for any one member. For example, the\n",
        "            default value of 0.1 will allow transfering up to 10% more overall.\n",
        "    \"\"\"\n",
        "    se = payments.stack()['payment']\n",
        "    res = await _client.run_solve(\n",
        "        specification=model.specification(),\n",
        "        parameters={\n",
        "            'minTransfer': min_transfer,\n",
        "            'payment': se,\n",
        "            'isParticipating': (se > 0).astype(int),\n",
        "        },\n",
        "        strategy=opvious.SolveStrategy(  # Multi-objective strategy\n",
        "            epsilon_constraints=[\n",
        "                # Within tolerance of the smallest total transfer amount\n",
        "                opvious.EpsilonConstraint('minimizeTotalTransferred', relative_tolerance=tolerance),\n",
        "                # Using the smallest possible number of transfers per member\n",
        "                opvious.EpsilonConstraint('minimizeMaxTransfersSent'),\n",
        "            ],\n",
        "            target='minimizeTotalTransferred',  # Final target: minimize total transfer amount\n",
        "        ),\n",
        "        assert_feasible=True,\n",
        "    )\n",
        "    return res.outputs.variable('transfer').unstack(level=1).fillna(0).round(2)"
      ]
    },
    {
      "cell_type": "markdown",
      "id": "764ca2ad",
      "metadata": {},
      "source": [
        "## Testing"
      ]
    },
    {
      "cell_type": "code",
      "execution_count": 5,
      "id": "9d79fa40",
      "metadata": {},
      "outputs": [
        {
          "data": {
            "text/html": "<div>\n<style scoped>\n    .dataframe tbody tr th:only-of-type {\n        vertical-align: middle;\n    }\n\n    .dataframe tbody tr th {\n        vertical-align: top;\n    }\n\n    .dataframe thead tr th {\n        text-align: left;\n    }\n\n    .dataframe thead tr:last-of-type th {\n        text-align: right;\n    }\n</style>\n<table border=\"1\" class=\"dataframe\">\n  <thead>\n    <tr>\n      <th></th>\n      <th colspan=\"10\" halign=\"left\">payment</th>\n    </tr>\n    <tr>\n      <th>name</th>\n      <th>amelia</th>\n      <th>ava</th>\n      <th>emma</th>\n      <th>isabella</th>\n      <th>liam</th>\n      <th>lucas</th>\n      <th>mason</th>\n      <th>mia</th>\n      <th>noah</th>\n      <th>sophia</th>\n    </tr>\n    <tr>\n      <th>transaction</th>\n      <th></th>\n      <th></th>\n      <th></th>\n      <th></th>\n      <th></th>\n      <th></th>\n      <th></th>\n      <th></th>\n      <th></th>\n      <th></th>\n    </tr>\n  </thead>\n  <tbody>\n    <tr>\n      <th>t01</th>\n      <td>80.24</td>\n      <td>0.00</td>\n      <td>0.00</td>\n      <td>0.00</td>\n      <td>9.41</td>\n      <td>0.00</td>\n      <td>87.46</td>\n      <td>85.4</td>\n      <td>0.00</td>\n      <td>62.15</td>\n    </tr>\n    <tr>\n      <th>t02</th>\n      <td>0.00</td>\n      <td>95.86</td>\n      <td>69.56</td>\n      <td>66.33</td>\n      <td>0.00</td>\n      <td>29.93</td>\n      <td>39.49</td>\n      <td>27.8</td>\n      <td>15.50</td>\n      <td>0.00</td>\n    </tr>\n    <tr>\n      <th>t03</th>\n      <td>0.00</td>\n      <td>13.87</td>\n      <td>0.00</td>\n      <td>41.36</td>\n      <td>38.47</td>\n      <td>0.00</td>\n      <td>0.00</td>\n      <td>0.0</td>\n      <td>0.00</td>\n      <td>0.00</td>\n    </tr>\n    <tr>\n      <th>t04</th>\n      <td>0.00</td>\n      <td>0.00</td>\n      <td>0.00</td>\n      <td>14.89</td>\n      <td>0.00</td>\n      <td>96.19</td>\n      <td>86.77</td>\n      <td>0.0</td>\n      <td>72.99</td>\n      <td>0.00</td>\n    </tr>\n    <tr>\n      <th>t05</th>\n      <td>0.00</td>\n      <td>0.00</td>\n      <td>0.00</td>\n      <td>0.00</td>\n      <td>5.80</td>\n      <td>0.00</td>\n      <td>0.00</td>\n      <td>0.0</td>\n      <td>0.00</td>\n      <td>0.00</td>\n    </tr>\n  </tbody>\n</table>\n</div>",
            "text/plain": "            payment                                                           \\\nname         amelia    ava   emma isabella   liam  lucas  mason   mia   noah   \ntransaction                                                                    \nt01           80.24   0.00   0.00     0.00   9.41   0.00  87.46  85.4   0.00   \nt02            0.00  95.86  69.56    66.33   0.00  29.93  39.49  27.8  15.50   \nt03            0.00  13.87   0.00    41.36  38.47   0.00   0.00   0.0   0.00   \nt04            0.00   0.00   0.00    14.89   0.00  96.19  86.77   0.0  72.99   \nt05            0.00   0.00   0.00     0.00   5.80   0.00   0.00   0.0   0.00   \n\n                    \nname        sophia  \ntransaction         \nt01          62.15  \nt02           0.00  \nt03           0.00  \nt04           0.00  \nt05           0.00  "
          },
          "execution_count": 37,
          "metadata": {},
          "output_type": "execute_result"
        }
      ],
      "source": [
        "import numpy as np\n",
        "import pandas as pd\n",
        "\n",
        "_names = [\"emma\", \"noah\", \"ava\", \"liam\", \"isabella\", \"sophia\", \"mason\", \"mia\", \"lucas\", \"amelia\"]\n",
        "\n",
        "def random_data(count=100, seed=16):\n",
        "    rng = np.random.default_rng(seed)\n",
        "    tuples = []\n",
        "    for i in range(count):\n",
        "        tid = f't{i+1:02}'\n",
        "        for name in _names:\n",
        "            if rng.integers(2):\n",
        "                continue\n",
        "            tuples.append({\n",
        "                'transaction': tid, \n",
        "                'name': name, \n",
        "                'payment': round(100 * rng.random(), 2),\n",
        "            })\n",
        "    df = pd.DataFrame(tuples).set_index(['transaction', 'name'])\n",
        "    return df.unstack().fillna(0)\n",
        "\n",
        "df = random_data()\n",
        "df.head()"
      ]
    },
    {
      "cell_type": "code",
      "execution_count": 6,
      "id": "13e7121e",
      "metadata": {},
      "outputs": [
        {
          "name": "stderr",
          "output_type": "stream",
          "text": "INFO:opvious.client.handlers:Validated inputs. [parameters=2001]\nINFO:opvious.client.handlers:Solving problem... [columns=201, rows=220]\nINFO:opvious.client.handlers:Solve in progress... [iterations=0, gap=inf]\nINFO:opvious.client.handlers:Solve in progress... [iterations=24, gap=inf]\nINFO:opvious.client.handlers:Solve in progress... [iterations=96, gap=13.77%]\nINFO:opvious.client.handlers:Solve in progress... [iterations=331, gap=0.0%]\nINFO:opvious.client.handlers:Added epsilon constraint. [objective_value=1190.0525515873019]\nINFO:opvious.client.handlers:Solve in progress... [iterations=0, gap=inf]\nINFO:opvious.client.handlers:Solve in progress... [iterations=71, gap=inf]\nINFO:opvious.client.handlers:Added epsilon constraint. [objective_value=1]\nINFO:opvious.client.handlers:Solve in progress... [iterations=0, gap=inf]\nINFO:opvious.client.handlers:Solve in progress... [iterations=20, gap=inf]\nINFO:opvious.client.handlers:Solve in progress... [iterations=831, gap=12.86%]\nINFO:opvious.client.handlers:Solve in progress... [iterations=4519, gap=12.86%]\nINFO:opvious.client.handlers:Solve in progress... [iterations=10750, gap=12.83%]\nINFO:opvious.client.handlers:Solve in progress... [iterations=10775, gap=3.78%]\nINFO:opvious.client.handlers:Solve in progress... [iterations=11290, gap=3.37%]\nINFO:opvious.client.handlers:Solve in progress... [iterations=11481, gap=3.18%]\nINFO:opvious.client.handlers:Solve completed with status OPTIMAL. [objective=1442.3499563492073]\n"
        },
        {
          "data": {
            "text/html": "<div>\n<style scoped>\n    .dataframe tbody tr th:only-of-type {\n        vertical-align: middle;\n    }\n\n    .dataframe tbody tr th {\n        vertical-align: top;\n    }\n\n    .dataframe thead tr th {\n        text-align: left;\n    }\n\n    .dataframe thead tr:last-of-type th {\n        text-align: right;\n    }\n</style>\n<table border=\"1\" class=\"dataframe\">\n  <thead>\n    <tr>\n      <th></th>\n      <th colspan=\"6\" halign=\"left\">value</th>\n    </tr>\n    <tr>\n      <th>recipient</th>\n      <th>emma</th>\n      <th>isabella</th>\n      <th>liam</th>\n      <th>lucas</th>\n      <th>mason</th>\n      <th>sophia</th>\n    </tr>\n    <tr>\n      <th>sender</th>\n      <th></th>\n      <th></th>\n      <th></th>\n      <th></th>\n      <th></th>\n      <th></th>\n    </tr>\n  </thead>\n  <tbody>\n    <tr>\n      <th>amelia</th>\n      <td>0.00</td>\n      <td>0.00</td>\n      <td>0.00</td>\n      <td>31.02</td>\n      <td>0.00</td>\n      <td>0.0</td>\n    </tr>\n    <tr>\n      <th>ava</th>\n      <td>0.00</td>\n      <td>0.00</td>\n      <td>0.00</td>\n      <td>0.00</td>\n      <td>0.00</td>\n      <td>481.2</td>\n    </tr>\n    <tr>\n      <th>emma</th>\n      <td>0.00</td>\n      <td>19.97</td>\n      <td>0.00</td>\n      <td>0.00</td>\n      <td>0.00</td>\n      <td>0.0</td>\n    </tr>\n    <tr>\n      <th>liam</th>\n      <td>0.00</td>\n      <td>14.06</td>\n      <td>0.00</td>\n      <td>0.00</td>\n      <td>0.00</td>\n      <td>0.0</td>\n    </tr>\n    <tr>\n      <th>lucas</th>\n      <td>0.00</td>\n      <td>11.85</td>\n      <td>0.00</td>\n      <td>0.00</td>\n      <td>0.00</td>\n      <td>0.0</td>\n    </tr>\n    <tr>\n      <th>mason</th>\n      <td>0.00</td>\n      <td>142.47</td>\n      <td>0.00</td>\n      <td>0.00</td>\n      <td>0.00</td>\n      <td>0.0</td>\n    </tr>\n    <tr>\n      <th>mia</th>\n      <td>125.52</td>\n      <td>0.00</td>\n      <td>0.00</td>\n      <td>0.00</td>\n      <td>0.00</td>\n      <td>0.0</td>\n    </tr>\n    <tr>\n      <th>noah</th>\n      <td>0.00</td>\n      <td>0.00</td>\n      <td>0.00</td>\n      <td>0.00</td>\n      <td>552.31</td>\n      <td>0.0</td>\n    </tr>\n    <tr>\n      <th>sophia</th>\n      <td>0.00</td>\n      <td>0.00</td>\n      <td>63.94</td>\n      <td>0.00</td>\n      <td>0.00</td>\n      <td>0.0</td>\n    </tr>\n  </tbody>\n</table>\n</div>",
            "text/plain": "            value                                      \nrecipient    emma isabella   liam  lucas   mason sophia\nsender                                                 \namelia       0.00     0.00   0.00  31.02    0.00    0.0\nava          0.00     0.00   0.00   0.00    0.00  481.2\nemma         0.00    19.97   0.00   0.00    0.00    0.0\nliam         0.00    14.06   0.00   0.00    0.00    0.0\nlucas        0.00    11.85   0.00   0.00    0.00    0.0\nmason        0.00   142.47   0.00   0.00    0.00    0.0\nmia        125.52     0.00   0.00   0.00    0.00    0.0\nnoah         0.00     0.00   0.00   0.00  552.31    0.0\nsophia       0.00     0.00  63.94   0.00    0.00    0.0"
          },
          "execution_count": 45,
          "metadata": {},
          "output_type": "execute_result"
        }
      ],
      "source": [
        "odf = await optimal_transfers(df, tolerance=0.25)\n",
        "odf"
      ]
    },
    {
      "cell_type": "markdown",
      "id": "ed652c60",
      "metadata": {},
      "source": [
        "Next steps:\n",
        "\n",
        "+ Partial group transactions (formulated [here](https://github.com/opvious/examples/blob/main/sources/group-expenses.md) for example)\n",
        "+ Different objective ordering\n",
        "+ "
      ]
    },
    {
      "cell_type": "code",
      "execution_count": 7,
      "id": "44e3b3a0",
      "metadata": {},
      "outputs": [],
      "source": [
        "import logging\n",
        "logging.basicConfig(level=logging.DEBUG)"
      ]
    },
    {
      "cell_type": "code",
      "execution_count": 8,
      "id": "e00d6bf0",
      "metadata": {},
      "outputs": [],
      "source": [
        "logging.getLogger().setLevel(level=logging.INFO)"
      ]
    },
    {
      "cell_type": "code",
      "execution_count": 9,
      "id": "c6b8d732",
      "metadata": {},
      "outputs": [],
      "source": []
    }
  ],
  "metadata": {
    "kernelspec": {
      "display_name": "Python 3 (ipykernel)",
      "language": "python",
      "name": "python3"
    },
    "language_info": {
      "codemirror_mode": {
        "name": "ipython",
        "version": 3
      },
      "file_extension": ".py",
      "mimetype": "text/x-python",
      "name": "python",
      "nbconvert_exporter": "python",
      "pygments_lexer": "ipython3",
      "version": "3.11.4"
    }
  },
  "nbformat": 4,
  "nbformat_minor": 5
}