{
  "cells": [
    {
      "cell_type": "markdown",
      "id": "dc8d0415",
      "metadata": {},
      "source": [
        "# Portfolio selection"
      ]
    },
    {
      "cell_type": "code",
      "execution_count": 1,
      "id": "ccc87c44",
      "metadata": {},
      "outputs": [],
      "source": [
        "%pip install 'opvious>=0.16.8' yfinance"
      ]
    },
    {
      "cell_type": "markdown",
      "id": "41e5f6e1",
      "metadata": {},
      "source": [
        "## Formulation\n",
        "\n",
        "LaTeX equivalent: https://github.com/opvious/examples/blob/main/sources/portfolio-selection.md"
      ]
    },
    {
      "cell_type": "code",
      "execution_count": 2,
      "id": "e58572dd",
      "metadata": {},
      "outputs": [
        {
          "data": {
            "text/markdown": "<div style=\"margin-top: 1em; margin-bottom: 1em;\">\n<details open>\n<summary style=\"cursor: pointer; text-decoration: underline; text-decoration-style: dotted;\">PortfolioSelection</summary>\n<div style=\"margin-top: 1em;\">\n$$\n\\begin{align*}\n  \\S^d_\\mathrm{assets}&: A \\\\\n  \\S^d_\\mathrm{groups}&: G \\\\\n  \\S^p_\\mathrm{covariance}&: c \\in \\mathbb{R}^{A \\times A} \\\\\n  \\S^p_\\mathrm{expectedReturn}&: r^\\mathrm{expected} \\in \\mathbb{R}^{A} \\\\\n  \\S^p_\\mathrm{minimumReturn}&: r^\\mathrm{minimum} \\in \\mathbb{R} \\\\\n  \\S^p_\\mathrm{membership}&: m \\in \\{0, 1\\}^{A \\times G} \\\\\n  \\S^p_\\mathrm{minimumAllocation}&: a^\\mathrm{minimum} \\in [0, 1]^{G} \\\\\n  \\S^v_\\mathrm{allocation}&: \\alpha \\in [0, 1]^{A} \\\\\n  \\S^o_\\mathrm{minimizeRisk}&: \\min \\sum_{a, a' \\in A} c_{a,a'} \\alpha_{a} \\alpha_{a'} \\\\\n  \\S^c_\\mathrm{expectedReturnAboveMinimum}&: \\sum_{a \\in A} r^\\mathrm{expected}_{a} \\alpha_{a} \\geq r^\\mathrm{minimum} \\\\\n  \\S^c_\\mathrm{allocationIsTotal}&: \\sum_{a \\in A} \\alpha_{a} = 1 \\\\\n  \\S^c_\\mathrm{groupAllocationAboveMinimum}&: \\forall g \\in G, \\sum_{a \\in A} m_{a,g} \\alpha_{a} \\geq a^\\mathrm{minimum}_{g} \\\\\n\\end{align*}\n$$\n</div>\n</details>\n</div>",
            "text/plain": "LocalSpecification(sources=[LocalSpecificationSource(text=\"$$\\n\\\\begin{align*}\\n  \\\\S^d_\\\\mathrm{assets}&: A \\\\\\\\\\n  \\\\S^d_\\\\mathrm{groups}&: G \\\\\\\\\\n  \\\\S^p_\\\\mathrm{covariance}&: c \\\\in \\\\mathbb{R}^{A \\\\times A} \\\\\\\\\\n  \\\\S^p_\\\\mathrm{expectedReturn}&: r^\\\\mathrm{expected} \\\\in \\\\mathbb{R}^{A} \\\\\\\\\\n  \\\\S^p_\\\\mathrm{minimumReturn}&: r^\\\\mathrm{minimum} \\\\in \\\\mathbb{R} \\\\\\\\\\n  \\\\S^p_\\\\mathrm{membership}&: m \\\\in \\\\{0, 1\\\\}^{A \\\\times G} \\\\\\\\\\n  \\\\S^p_\\\\mathrm{minimumAllocation}&: a^\\\\mathrm{minimum} \\\\in [0, 1]^{G} \\\\\\\\\\n  \\\\S^v_\\\\mathrm{allocation}&: \\\\alpha \\\\in [0, 1]^{A} \\\\\\\\\\n  \\\\S^o_\\\\mathrm{minimizeRisk}&: \\\\min \\\\sum_{a, a' \\\\in A} c_{a,a'} \\\\alpha_{a} \\\\alpha_{a'} \\\\\\\\\\n  \\\\S^c_\\\\mathrm{expectedReturnAboveMinimum}&: \\\\sum_{a \\\\in A} r^\\\\mathrm{expected}_{a} \\\\alpha_{a} \\\\geq r^\\\\mathrm{minimum} \\\\\\\\\\n  \\\\S^c_\\\\mathrm{allocationIsTotal}&: \\\\sum_{a \\\\in A} \\\\alpha_{a} = 1 \\\\\\\\\\n  \\\\S^c_\\\\mathrm{groupAllocationAboveMinimum}&: \\\\forall g \\\\in G, \\\\sum_{a \\\\in A} m_{a,g} \\\\alpha_{a} \\\\geq a^\\\\mathrm{minimum}_{g} \\\\\\\\\\n\\\\end{align*}\\n$$\", title='PortfolioSelection')], description=None, annotation=None)"
          },
          "execution_count": 10,
          "metadata": {},
          "output_type": "execute_result"
        }
      ],
      "source": [
        "import opvious.modeling as om\n",
        "\n",
        "class PortfolioSelection(om.Model):\n",
        "    assets = om.Dimension()\n",
        "    groups = om.Dimension()\n",
        "    covariance = om.Parameter.continuous(assets, assets)\n",
        "    expected_return = om.Parameter.continuous(assets)\n",
        "    minimum_return = om.Parameter.continuous()\n",
        "    membership = om.Parameter.indicator(assets, groups)\n",
        "    minimum_allocation = om.Parameter.unit(groups)\n",
        "    allocation = om.Variable.unit(assets)\n",
        "    \n",
        "    @om.objective\n",
        "    def minimize_risk(self):\n",
        "        return om.total(\n",
        "            self.covariance(l, r) * self.allocation(l) * self.allocation(r)\n",
        "            for l, r in self.assets * self.assets\n",
        "        )\n",
        "    \n",
        "    @om.constraint\n",
        "    def expected_return_above_minimum(self):\n",
        "        yield om.total(self.expected_return(a) * self.allocation(a) for a in self.assets) >= self.minimum_return()\n",
        "        \n",
        "    @om.constraint\n",
        "    def allocation_is_total(self):\n",
        "        yield self.allocation.total() == 1\n",
        "        \n",
        "    @om.constraint\n",
        "    def group_allocation_above_minimum(self):\n",
        "        for g in self.groups:\n",
        "            group_allocation = om.total(self.membership(a, g) * self.allocation(a) for a in self.assets)\n",
        "            yield group_allocation >= self.minimum_allocation(g)\n",
        "    \n",
        "\n",
        "model = PortfolioSelection()\n",
        "model.specification()"
      ]
    },
    {
      "cell_type": "markdown",
      "id": "c2e770a9",
      "metadata": {},
      "source": [
        "## Download input data\n",
        "\n",
        "We gather tickers from Wikipedia and recent performance data via `yfinance`."
      ]
    },
    {
      "cell_type": "code",
      "execution_count": 3,
      "id": "ea401265",
      "metadata": {},
      "outputs": [
        {
          "data": {
            "text/html": "<div>\n<style scoped>\n    .dataframe tbody tr th:only-of-type {\n        vertical-align: middle;\n    }\n\n    .dataframe tbody tr th {\n        vertical-align: top;\n    }\n\n    .dataframe thead th {\n        text-align: right;\n    }\n</style>\n<table border=\"1\" class=\"dataframe\">\n  <thead>\n    <tr style=\"text-align: right;\">\n      <th></th>\n      <th>Symbol</th>\n      <th>Security</th>\n      <th>GICS Sector</th>\n      <th>GICS Sub-Industry</th>\n      <th>Headquarters Location</th>\n      <th>Date added</th>\n      <th>CIK</th>\n      <th>Founded</th>\n    </tr>\n  </thead>\n  <tbody>\n    <tr>\n      <th>0</th>\n      <td>MMM</td>\n      <td>3M</td>\n      <td>Industrials</td>\n      <td>Industrial Conglomerates</td>\n      <td>Saint Paul, Minnesota</td>\n      <td>1957-03-04</td>\n      <td>66740</td>\n      <td>1902</td>\n    </tr>\n    <tr>\n      <th>1</th>\n      <td>AOS</td>\n      <td>A. O. Smith</td>\n      <td>Industrials</td>\n      <td>Building Products</td>\n      <td>Milwaukee, Wisconsin</td>\n      <td>2017-07-26</td>\n      <td>91142</td>\n      <td>1916</td>\n    </tr>\n    <tr>\n      <th>2</th>\n      <td>ABT</td>\n      <td>Abbott</td>\n      <td>Health Care</td>\n      <td>Health Care Equipment</td>\n      <td>North Chicago, Illinois</td>\n      <td>1957-03-04</td>\n      <td>1800</td>\n      <td>1888</td>\n    </tr>\n    <tr>\n      <th>3</th>\n      <td>ABBV</td>\n      <td>AbbVie</td>\n      <td>Health Care</td>\n      <td>Pharmaceuticals</td>\n      <td>North Chicago, Illinois</td>\n      <td>2012-12-31</td>\n      <td>1551152</td>\n      <td>2013 (1888)</td>\n    </tr>\n    <tr>\n      <th>4</th>\n      <td>ACN</td>\n      <td>Accenture</td>\n      <td>Information Technology</td>\n      <td>IT Consulting &amp; Other Services</td>\n      <td>Dublin, Ireland</td>\n      <td>2011-07-06</td>\n      <td>1467373</td>\n      <td>1989</td>\n    </tr>\n  </tbody>\n</table>\n</div>",
            "text/plain": "  Symbol     Security             GICS Sector               GICS Sub-Industry  \\\n0    MMM           3M             Industrials        Industrial Conglomerates   \n1    AOS  A. O. Smith             Industrials               Building Products   \n2    ABT       Abbott             Health Care           Health Care Equipment   \n3   ABBV       AbbVie             Health Care                 Pharmaceuticals   \n4    ACN    Accenture  Information Technology  IT Consulting & Other Services   \n\n     Headquarters Location  Date added      CIK      Founded  \n0    Saint Paul, Minnesota  1957-03-04    66740         1902  \n1     Milwaukee, Wisconsin  2017-07-26    91142         1916  \n2  North Chicago, Illinois  1957-03-04     1800         1888  \n3  North Chicago, Illinois  2012-12-31  1551152  2013 (1888)  \n4          Dublin, Ireland  2011-07-06  1467373         1989  "
          },
          "execution_count": 5,
          "metadata": {},
          "output_type": "execute_result"
        }
      ],
      "source": [
        "import pandas as pd\n",
        "import yfinance as yf\n",
        "\n",
        "tickers_df = pd.read_html('https://en.wikipedia.org/wiki/List_of_S%26P_500_companies')[0]\n",
        "tickers_df.head()"
      ]
    },
    {
      "cell_type": "code",
      "execution_count": 4,
      "id": "ffe11545",
      "metadata": {},
      "outputs": [
        {
          "name": "stdout",
          "output_type": "stream",
          "text": "[*********************100%***********************]  10 of 10 completed\n"
        },
        {
          "data": {
            "text/html": "<div>\n<style scoped>\n    .dataframe tbody tr th:only-of-type {\n        vertical-align: middle;\n    }\n\n    .dataframe tbody tr th {\n        vertical-align: top;\n    }\n\n    .dataframe thead th {\n        text-align: right;\n    }\n</style>\n<table border=\"1\" class=\"dataframe\">\n  <thead>\n    <tr style=\"text-align: right;\">\n      <th></th>\n      <th>AAP</th>\n      <th>ABBV</th>\n      <th>ABT</th>\n      <th>ACN</th>\n      <th>ADBE</th>\n      <th>ADM</th>\n      <th>ADP</th>\n      <th>AOS</th>\n      <th>ATVI</th>\n      <th>MMM</th>\n    </tr>\n    <tr>\n      <th>Date</th>\n      <th></th>\n      <th></th>\n      <th></th>\n      <th></th>\n      <th></th>\n      <th></th>\n      <th></th>\n      <th></th>\n      <th></th>\n      <th></th>\n    </tr>\n  </thead>\n  <tbody>\n    <tr>\n      <th>2022-02-01</th>\n      <td>-0.116755</td>\n      <td>0.090682</td>\n      <td>-0.050326</td>\n      <td>-0.103911</td>\n      <td>-0.124686</td>\n      <td>0.046000</td>\n      <td>-0.008391</td>\n      <td>-0.099266</td>\n      <td>0.031515</td>\n      <td>-0.104626</td>\n    </tr>\n    <tr>\n      <th>2022-03-01</th>\n      <td>0.012128</td>\n      <td>0.097042</td>\n      <td>-0.018737</td>\n      <td>0.067116</td>\n      <td>-0.025787</td>\n      <td>0.156653</td>\n      <td>0.112991</td>\n      <td>-0.068387</td>\n      <td>-0.017055</td>\n      <td>0.011229</td>\n    </tr>\n    <tr>\n      <th>2022-04-01</th>\n      <td>-0.028395</td>\n      <td>-0.093948</td>\n      <td>-0.041061</td>\n      <td>-0.109332</td>\n      <td>-0.130964</td>\n      <td>-0.007755</td>\n      <td>-0.036356</td>\n      <td>-0.085459</td>\n      <td>-0.056298</td>\n      <td>-0.031300</td>\n    </tr>\n    <tr>\n      <th>2022-05-01</th>\n      <td>-0.048940</td>\n      <td>0.011863</td>\n      <td>0.039015</td>\n      <td>-0.003367</td>\n      <td>0.051850</td>\n      <td>0.014069</td>\n      <td>0.021817</td>\n      <td>0.033525</td>\n      <td>0.036282</td>\n      <td>0.035154</td>\n    </tr>\n    <tr>\n      <th>2022-06-01</th>\n      <td>-0.088328</td>\n      <td>0.039289</td>\n      <td>-0.075004</td>\n      <td>-0.069724</td>\n      <td>-0.121062</td>\n      <td>-0.141624</td>\n      <td>-0.057863</td>\n      <td>-0.090486</td>\n      <td>-0.000257</td>\n      <td>-0.124404</td>\n    </tr>\n  </tbody>\n</table>\n</div>",
            "text/plain": "                 AAP      ABBV       ABT       ACN      ADBE       ADM  \\\nDate                                                                     \n2022-02-01 -0.116755  0.090682 -0.050326 -0.103911 -0.124686  0.046000   \n2022-03-01  0.012128  0.097042 -0.018737  0.067116 -0.025787  0.156653   \n2022-04-01 -0.028395 -0.093948 -0.041061 -0.109332 -0.130964 -0.007755   \n2022-05-01 -0.048940  0.011863  0.039015 -0.003367  0.051850  0.014069   \n2022-06-01 -0.088328  0.039289 -0.075004 -0.069724 -0.121062 -0.141624   \n\n                 ADP       AOS      ATVI       MMM  \nDate                                                \n2022-02-01 -0.008391 -0.099266  0.031515 -0.104626  \n2022-03-01  0.112991 -0.068387 -0.017055  0.011229  \n2022-04-01 -0.036356 -0.085459 -0.056298 -0.031300  \n2022-05-01  0.021817  0.033525  0.036282  0.035154  \n2022-06-01 -0.057863 -0.090486 -0.000257 -0.124404  "
          },
          "execution_count": 6,
          "metadata": {},
          "output_type": "execute_result"
        }
      ],
      "source": [
        "values_df = yf.download(tickers=list(tickers_df['Symbol'])[:10], start='2022-1-1', interval='1mo')['Adj Close']\n",
        "returns_df = values_df.head(100).dropna(axis=1).pct_change().dropna(axis=0, how='all')\n",
        "returns_df.head()"
      ]
    },
    {
      "cell_type": "markdown",
      "id": "1c6d20e8",
      "metadata": {},
      "source": [
        "## Find the optimal allocation\n",
        "\n",
        "Asset groups are left as exercise to the reader."
      ]
    },
    {
      "cell_type": "code",
      "execution_count": 5,
      "id": "071df5b7",
      "metadata": {},
      "outputs": [],
      "source": [
        "import opvious\n",
        "\n",
        "async def optimal_allocation(returns):\n",
        "    \"\"\"Returns an optimal allocation of assets given the input returns\"\"\"\n",
        "    response = await opvious.Client.default().run_solve(\n",
        "        specification=model.specification(),\n",
        "        parameters={\n",
        "            'covariance': returns.cov().stack(),\n",
        "            'expectedReturn': returns.mean(),\n",
        "            'minimumReturn': 0.005,\n",
        "            'membership': {},\n",
        "            'minimumAllocation': {},\n",
        "        },\n",
        "        assert_feasible=True,\n",
        "    )\n",
        "    allocation = response.outputs.variable('allocation')\n",
        "    return allocation.reset_index(names=['ticker']).join(\n",
        "        returns_df.agg(['mean', 'var']).T,\n",
        "        on='ticker',\n",
        "        validate='one_to_one'\n",
        "    ).sort_values(by=['value'], ascending=False)"
      ]
    },
    {
      "cell_type": "code",
      "execution_count": 6,
      "id": "c9d8ddd7",
      "metadata": {},
      "outputs": [
        {
          "data": {
            "text/html": "<div>\n<style scoped>\n    .dataframe tbody tr th:only-of-type {\n        vertical-align: middle;\n    }\n\n    .dataframe tbody tr th {\n        vertical-align: top;\n    }\n\n    .dataframe thead th {\n        text-align: right;\n    }\n</style>\n<table border=\"1\" class=\"dataframe\">\n  <thead>\n    <tr style=\"text-align: right;\">\n      <th></th>\n      <th>ticker</th>\n      <th>value</th>\n      <th>dual_value</th>\n      <th>mean</th>\n      <th>var</th>\n    </tr>\n  </thead>\n  <tbody>\n    <tr>\n      <th>8</th>\n      <td>ATVI</td>\n      <td>0.376580</td>\n      <td>0.000000</td>\n      <td>0.010637</td>\n      <td>0.002763</td>\n    </tr>\n    <tr>\n      <th>2</th>\n      <td>ABT</td>\n      <td>0.250834</td>\n      <td>0.000000</td>\n      <td>-0.006823</td>\n      <td>0.002986</td>\n    </tr>\n    <tr>\n      <th>1</th>\n      <td>ABBV</td>\n      <td>0.174755</td>\n      <td>0.000000</td>\n      <td>0.005739</td>\n      <td>0.004506</td>\n    </tr>\n    <tr>\n      <th>6</th>\n      <td>ADP</td>\n      <td>0.112706</td>\n      <td>0.000000</td>\n      <td>0.011491</td>\n      <td>0.004885</td>\n    </tr>\n    <tr>\n      <th>5</th>\n      <td>ADM</td>\n      <td>0.046515</td>\n      <td>0.000000</td>\n      <td>0.009587</td>\n      <td>0.008085</td>\n    </tr>\n    <tr>\n      <th>3</th>\n      <td>ACN</td>\n      <td>0.038610</td>\n      <td>0.000000</td>\n      <td>-0.000985</td>\n      <td>0.006266</td>\n    </tr>\n    <tr>\n      <th>0</th>\n      <td>AAP</td>\n      <td>0.000000</td>\n      <td>0.000201</td>\n      <td>-0.051938</td>\n      <td>0.018287</td>\n    </tr>\n    <tr>\n      <th>4</th>\n      <td>ADBE</td>\n      <td>0.000000</td>\n      <td>0.001142</td>\n      <td>0.007467</td>\n      <td>0.016619</td>\n    </tr>\n    <tr>\n      <th>7</th>\n      <td>AOS</td>\n      <td>0.000000</td>\n      <td>0.000059</td>\n      <td>0.006102</td>\n      <td>0.010581</td>\n    </tr>\n    <tr>\n      <th>9</th>\n      <td>MMM</td>\n      <td>0.000000</td>\n      <td>0.000475</td>\n      <td>-0.019526</td>\n      <td>0.006524</td>\n    </tr>\n  </tbody>\n</table>\n</div>",
            "text/plain": "  ticker     value  dual_value      mean       var\n8   ATVI  0.376580    0.000000  0.010637  0.002763\n2    ABT  0.250834    0.000000 -0.006823  0.002986\n1   ABBV  0.174755    0.000000  0.005739  0.004506\n6    ADP  0.112706    0.000000  0.011491  0.004885\n5    ADM  0.046515    0.000000  0.009587  0.008085\n3    ACN  0.038610    0.000000 -0.000985  0.006266\n0    AAP  0.000000    0.000201 -0.051938  0.018287\n4   ADBE  0.000000    0.001142  0.007467  0.016619\n7    AOS  0.000000    0.000059  0.006102  0.010581\n9    MMM  0.000000    0.000475 -0.019526  0.006524"
          },
          "execution_count": 14,
          "metadata": {},
          "output_type": "execute_result"
        }
      ],
      "source": [
        "await optimal_allocation(returns_df)"
      ]
    },
    {
      "cell_type": "code",
      "execution_count": 7,
      "id": "60fb053e",
      "metadata": {},
      "outputs": [],
      "source": []
    }
  ],
  "metadata": {
    "kernelspec": {
      "display_name": "Python 3 (ipykernel)",
      "language": "python",
      "name": "python3"
    },
    "language_info": {
      "codemirror_mode": {
        "name": "ipython",
        "version": 3
      },
      "file_extension": ".py",
      "mimetype": "text/x-python",
      "name": "python",
      "nbconvert_exporter": "python",
      "pygments_lexer": "ipython3",
      "version": "3.11.4"
    }
  },
  "nbformat": 4,
  "nbformat_minor": 5
}