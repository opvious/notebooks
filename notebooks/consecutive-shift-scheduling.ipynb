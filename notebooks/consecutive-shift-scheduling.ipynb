{
  "cells": [
    {
      "cell_type": "markdown",
      "id": "4070080c",
      "metadata": {},
      "source": [
        "# Consecutive shift scheduling\n",
        "\n",
        "Formulation: https://github.com/opvious/examples/blob/main/sources/consecutive-shift-scheduling.md\n",
        "\n",
        "The formulation must be registered before preparing the optimization attempt below. You can do so with the [CLI](https://www.npmjs.com/package/opvious-cli) for example:\n",
        "\n",
        "```sh\n",
        "opvious formulation register \\\n",
        "  https://raw.githubusercontent.com/opvious/examples/main/sources/consecutive-shift-scheduling.md\n",
        "```"
      ]
    },
    {
      "cell_type": "code",
      "execution_count": 1,
      "id": "8810afaa",
      "metadata": {},
      "outputs": [],
      "source": [
        "%pip install 'opvious>=0.16.0'"
      ]
    },
    {
      "cell_type": "code",
      "execution_count": 2,
      "id": "08513f87",
      "metadata": {},
      "outputs": [
        {
          "name": "stderr",
          "output_type": "stream",
          "text": "09:34:02 INFO Validated inputs. [parameters=10]\n09:34:03 INFO Attempt is running... [elapsed=147 milliseconds]\n09:34:03 INFO Attempt is running... [elapsed=405 milliseconds]\n09:34:04 INFO Attempt is running... [elapsed=a second, gap=inf, cuts=0, iterations=560]\n09:34:04 INFO Attempt is running... [elapsed=a second, gap=inf, cuts=0, iterations=560]\n09:34:07 INFO Attempt is running... [elapsed=4 seconds, gap=inf, cuts=0, iterations=560]\n09:34:08 INFO Attempt is running... [elapsed=5 seconds, gap=inf, cuts=0, iterations=560]\n09:34:12 INFO Attempt completed with status OPTIMAL. [objective=315.0000000000001]\n"
        }
      ],
      "source": [
        "import logging\n",
        "import opvious\n",
        "\n",
        "logging.basicConfig(level=logging.INFO, format=\"%(asctime)s %(levelname)s %(message)s\", datefmt=\"%H:%M:%S\")\n",
        "\n",
        "client = opvious.Client.default()\n",
        "\n",
        "attempt = await client.start_attempt(\n",
        "    specification=opvious.FormulationSpecification(\"consecutive-shift-scheduling\"),\n",
        "    parameters={\n",
        "        \"horizon\": 21,\n",
        "        \"resource\": {\"open\": 3, \"close\": 2},\n",
        "        \"level\": {chr(65+i): i for i in range(7)}, # A, B, C, ...\n",
        "    },\n",
        ")\n",
        "\n",
        "await client.wait_for_outcome(attempt, assert_feasible=True)\n",
        "outputs = await client.fetch_attempt_outputs(attempt)"
      ]
    },
    {
      "cell_type": "code",
      "execution_count": 3,
      "id": "08003201",
      "metadata": {},
      "outputs": [
        {
          "data": {
            "text/html": "<div>\n<style scoped>\n    .dataframe tbody tr th:only-of-type {\n        vertical-align: middle;\n    }\n\n    .dataframe tbody tr th {\n        vertical-align: top;\n    }\n\n    .dataframe thead tr th {\n        text-align: left;\n    }\n\n    .dataframe thead tr:last-of-type th {\n        text-align: right;\n    }\n</style>\n<table border=\"1\" class=\"dataframe\">\n  <thead>\n    <tr>\n      <th></th>\n      <th colspan=\"7\" halign=\"left\">shift</th>\n    </tr>\n    <tr>\n      <th>employee</th>\n      <th>A</th>\n      <th>B</th>\n      <th>C</th>\n      <th>D</th>\n      <th>E</th>\n      <th>F</th>\n      <th>G</th>\n    </tr>\n    <tr>\n      <th>day</th>\n      <th></th>\n      <th></th>\n      <th></th>\n      <th></th>\n      <th></th>\n      <th></th>\n      <th></th>\n    </tr>\n  </thead>\n  <tbody>\n    <tr>\n      <th>1</th>\n      <td>close</td>\n      <td></td>\n      <td>close</td>\n      <td>open</td>\n      <td>open</td>\n      <td></td>\n      <td>open</td>\n    </tr>\n    <tr>\n      <th>2</th>\n      <td>close</td>\n      <td>close</td>\n      <td></td>\n      <td>open</td>\n      <td>open</td>\n      <td></td>\n      <td>open</td>\n    </tr>\n    <tr>\n      <th>3</th>\n      <td></td>\n      <td>close</td>\n      <td></td>\n      <td>open</td>\n      <td>open</td>\n      <td>close</td>\n      <td>open</td>\n    </tr>\n    <tr>\n      <th>4</th>\n      <td></td>\n      <td>close</td>\n      <td>open</td>\n      <td></td>\n      <td>open</td>\n      <td>close</td>\n      <td>open</td>\n    </tr>\n    <tr>\n      <th>5</th>\n      <td>open</td>\n      <td>close</td>\n      <td>open</td>\n      <td></td>\n      <td>open</td>\n      <td>close</td>\n      <td></td>\n    </tr>\n    <tr>\n      <th>6</th>\n      <td>open</td>\n      <td>close</td>\n      <td>open</td>\n      <td>open</td>\n      <td></td>\n      <td>close</td>\n      <td></td>\n    </tr>\n    <tr>\n      <th>7</th>\n      <td>open</td>\n      <td></td>\n      <td>open</td>\n      <td>open</td>\n      <td></td>\n      <td>close</td>\n      <td>close</td>\n    </tr>\n    <tr>\n      <th>8</th>\n      <td>open</td>\n      <td></td>\n      <td>open</td>\n      <td>open</td>\n      <td>close</td>\n      <td></td>\n      <td>close</td>\n    </tr>\n    <tr>\n      <th>9</th>\n      <td>open</td>\n      <td>open</td>\n      <td></td>\n      <td>open</td>\n      <td>close</td>\n      <td></td>\n      <td>close</td>\n    </tr>\n    <tr>\n      <th>10</th>\n      <td></td>\n      <td>open</td>\n      <td></td>\n      <td>open</td>\n      <td>close</td>\n      <td>open</td>\n      <td>close</td>\n    </tr>\n    <tr>\n      <th>11</th>\n      <td></td>\n      <td>open</td>\n      <td>open</td>\n      <td></td>\n      <td>close</td>\n      <td>open</td>\n      <td>close</td>\n    </tr>\n    <tr>\n      <th>12</th>\n      <td>close</td>\n      <td>open</td>\n      <td>open</td>\n      <td></td>\n      <td>close</td>\n      <td>open</td>\n      <td></td>\n    </tr>\n    <tr>\n      <th>13</th>\n      <td>close</td>\n      <td>open</td>\n      <td>open</td>\n      <td>close</td>\n      <td></td>\n      <td>open</td>\n      <td></td>\n    </tr>\n    <tr>\n      <th>14</th>\n      <td>close</td>\n      <td></td>\n      <td>open</td>\n      <td>close</td>\n      <td></td>\n      <td>open</td>\n      <td>open</td>\n    </tr>\n    <tr>\n      <th>15</th>\n      <td>close</td>\n      <td></td>\n      <td>open</td>\n      <td>close</td>\n      <td>open</td>\n      <td></td>\n      <td>open</td>\n    </tr>\n    <tr>\n      <th>16</th>\n      <td>close</td>\n      <td>open</td>\n      <td></td>\n      <td>close</td>\n      <td>open</td>\n      <td></td>\n      <td>open</td>\n    </tr>\n    <tr>\n      <th>17</th>\n      <td></td>\n      <td>open</td>\n      <td></td>\n      <td>close</td>\n      <td>open</td>\n      <td>close</td>\n      <td>open</td>\n    </tr>\n    <tr>\n      <th>18</th>\n      <td></td>\n      <td>open</td>\n      <td>close</td>\n      <td></td>\n      <td>open</td>\n      <td>close</td>\n      <td>open</td>\n    </tr>\n    <tr>\n      <th>19</th>\n      <td>open</td>\n      <td>open</td>\n      <td>close</td>\n      <td></td>\n      <td>open</td>\n      <td>close</td>\n      <td></td>\n    </tr>\n    <tr>\n      <th>20</th>\n      <td>open</td>\n      <td>open</td>\n      <td>close</td>\n      <td>open</td>\n      <td></td>\n      <td>close</td>\n      <td></td>\n    </tr>\n    <tr>\n      <th>21</th>\n      <td>open</td>\n      <td></td>\n      <td>close</td>\n      <td>open</td>\n      <td></td>\n      <td>close</td>\n      <td>open</td>\n    </tr>\n  </tbody>\n</table>\n</div>",
            "text/plain": "          shift                                          \nemployee      A      B      C      D      E      F      G\nday                                                      \n1         close         close   open   open          open\n2         close  close          open   open          open\n3                close          open   open  close   open\n4                close   open          open  close   open\n5          open  close   open          open  close       \n6          open  close   open   open         close       \n7          open          open   open         close  close\n8          open          open   open  close         close\n9          open   open          open  close         close\n10                open          open  close   open  close\n11                open   open         close   open  close\n12        close   open   open         close   open       \n13        close   open   open  close          open       \n14        close          open  close          open   open\n15        close          open  close   open          open\n16        close   open         close   open          open\n17                open         close   open  close   open\n18                open  close          open  close   open\n19         open   open  close          open  close       \n20         open   open  close   open         close       \n21         open         close   open         close   open"
          },
          "execution_count": 9,
          "metadata": {},
          "output_type": "execute_result"
        }
      ],
      "source": [
        "schedule = outputs.variable(\"schedule\")\n",
        "schedule.reset_index().pivot(index=[\"day\"], columns=[\"employee\"], values=[\"shift\"]).fillna(\"\")"
      ]
    },
    {
      "cell_type": "code",
      "execution_count": 4,
      "id": "766f3086",
      "metadata": {},
      "outputs": [],
      "source": []
    }
  ],
  "metadata": {
    "kernelspec": {
      "display_name": "Python 3 (ipykernel)",
      "language": "python",
      "name": "python3"
    },
    "language_info": {
      "codemirror_mode": {
        "name": "ipython",
        "version": 3
      },
      "file_extension": ".py",
      "mimetype": "text/x-python",
      "name": "python",
      "nbconvert_exporter": "python",
      "pygments_lexer": "ipython3",
      "version": "3.11.4"
    }
  },
  "nbformat": 4,
  "nbformat_minor": 5
}