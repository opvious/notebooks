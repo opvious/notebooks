{
 "cells": [
  {
   "cell_type": "markdown",
   "id": "39078097",
   "metadata": {},
   "source": [
    "# Welcome!\n",
    "\n",
    "In this notebook..."
   ]
  },
  {
   "cell_type": "code",
   "execution_count": 1,
   "id": "d5a782a8",
   "metadata": {},
   "outputs": [
    {
     "name": "stdout",
     "output_type": "stream",
     "text": [
      "Requirement already satisfied: opvious in /Users/mtth/Code/opvious/examples/venv/lib/python3.11/site-packages (0.16.8)\n",
      "Requirement already satisfied: backoff<3.0,>=2.2 in /Users/mtth/Code/opvious/examples/venv/lib/python3.11/site-packages (from opvious) (2.2.1)\n",
      "Requirement already satisfied: humanize<5.0.0,>=4.4.0 in /Users/mtth/Code/opvious/examples/venv/lib/python3.11/site-packages (from opvious) (4.6.0)\n",
      "Requirement already satisfied: importnb<2024.0.0,>=2023.1.7 in /Users/mtth/Code/opvious/examples/venv/lib/python3.11/site-packages (from opvious) (2023.1.7)\n",
      "Requirement already satisfied: numpy>=1.21 in /Users/mtth/Code/opvious/examples/venv/lib/python3.11/site-packages (from opvious) (1.24.2)\n",
      "Requirement already satisfied: pandas<2.0,>=1.4 in /Users/mtth/Code/opvious/examples/venv/lib/python3.11/site-packages (from opvious) (1.5.3)\n",
      "Requirement already satisfied: python-dateutil>=2.8.1 in /Users/mtth/Code/opvious/examples/venv/lib/python3.11/site-packages (from pandas<2.0,>=1.4->opvious) (2.8.2)\n",
      "Requirement already satisfied: pytz>=2020.1 in /Users/mtth/Code/opvious/examples/venv/lib/python3.11/site-packages (from pandas<2.0,>=1.4->opvious) (2023.3)\n",
      "Requirement already satisfied: six>=1.5 in /Users/mtth/Code/opvious/examples/venv/lib/python3.11/site-packages (from python-dateutil>=2.8.1->pandas<2.0,>=1.4->opvious) (1.16.0)\n",
      "\n",
      "\u001b[1m[\u001b[0m\u001b[34;49mnotice\u001b[0m\u001b[1;39;49m]\u001b[0m\u001b[39;49m A new release of pip available: \u001b[0m\u001b[31;49m22.3.1\u001b[0m\u001b[39;49m -> \u001b[0m\u001b[32;49m23.2\u001b[0m\n",
      "\u001b[1m[\u001b[0m\u001b[34;49mnotice\u001b[0m\u001b[1;39;49m]\u001b[0m\u001b[39;49m To update, run: \u001b[0m\u001b[32;49mpip install --upgrade pip\u001b[0m\n",
      "Note: you may need to restart the kernel to use updated packages.\n"
     ]
    }
   ],
   "source": [
    "%pip install opvious"
   ]
  },
  {
   "cell_type": "markdown",
   "id": "99c8d038",
   "metadata": {},
   "source": [
    "+ Platform components\n",
    "\n",
    "+ Install Python SDK\n",
    "+ Create an optimization model\n",
    "  + definitions\n",
    "  + annotations\n",
    "+ Show how to solve\n",
    "  + using client\n",
    "  + uploading formulation, then using cURL\n",
    "  + long-running solves, queue\n",
    "+ Local API server\n",
    "  + Starting one\n",
    "  + Configuring client"
   ]
  },
  {
   "cell_type": "code",
   "execution_count": 6,
   "id": "87d57714",
   "metadata": {},
   "outputs": [],
   "source": [
    "import opvious.modeling as om\n",
    "\n",
    "class BinPacking(om.Model):\n",
    "    items = om.Dimension()  # All items to bin\n",
    "    weight = om.Parameter.non_negative(items)  # Weight per item\n",
    "    bins = om.interval(1, om.size(items), name=\"B\")  # Available bins\n",
    "    max_weight = om.Parameter.non_negative()  # Maximum weight for each bin\n",
    "    assigned = om.Variable.indicator(bins, items)  # Bin to item assignment\n",
    "    used = om.fragments.ActivationVariable(assigned, projection=1)  # 1 if a bin is used\n",
    "\n",
    "    @om.constraint\n",
    "    def each_item_is_assigned_once(self):\n",
    "        for i in self.items:\n",
    "            yield om.total(self.assigned(b, i) for b in self.bins) == 1\n",
    "\n",
    "    @om.constraint\n",
    "    def bin_weights_are_below_max(self):\n",
    "        for b in self.bins:\n",
    "            bin_weight = om.total(self.weight(i) * self.assigned(b, i) for i in self.items)\n",
    "            yield bin_weight <= self.max_weight()\n",
    "\n",
    "    @om.objective\n",
    "    def minimize_bins_used(self):\n",
    "        return om.total(self.used(b) for b in self.bins)"
   ]
  },
  {
   "cell_type": "code",
   "execution_count": 8,
   "id": "29e53f25",
   "metadata": {},
   "outputs": [
    {
     "data": {
      "text/markdown": [
       "<div style=\"margin-top: 1em; margin-bottom: 1em;\">\n",
       "<details open>\n",
       "<summary style=\"cursor: pointer; text-decoration: underline; text-decoration-style: dotted;\">BinPacking</summary>\n",
       "<div style=\"margin-top: 1em;\">\n",
       "$$\n",
       "\\begin{align*}\n",
       "  \\S^d_\\mathrm{items}&: I \\\\\n",
       "  \\S^p_\\mathrm{weight}&: w \\in \\mathbb{R}_+^{I} \\\\\n",
       "  \\S^a&: B \\doteq \\{ 1 \\ldots \\# I \\} \\\\\n",
       "  \\S^p_\\mathrm{maxWeight}&: w^\\mathrm{max} \\in \\mathbb{R}_+ \\\\\n",
       "  \\S^v_\\mathrm{assigned}&: \\alpha \\in \\{0, 1\\}^{B \\times I} \\\\\n",
       "  \\S^v_\\mathrm{used}&: \\psi \\in \\{0, 1\\}^{B} \\\\\n",
       "  \\S^c_\\mathrm{usedActivates}&: \\forall b \\in B, i \\in I, \\psi_{b} \\geq \\alpha_{b,i} \\\\\n",
       "  \\S^c_\\mathrm{eachItemIsAssignedOnce}&: \\forall i \\in I, \\sum_{b \\in B} \\alpha_{b,i} = 1 \\\\\n",
       "  \\S^c_\\mathrm{binWeightsAreBelowMax}&: \\forall b \\in B, \\sum_{i \\in I} w_{i} \\alpha_{b,i} \\leq w^\\mathrm{max} \\\\\n",
       "  \\S^o_\\mathrm{minimizeBinsUsed}&: \\min \\sum_{b \\in B} \\psi_{b} \\\\\n",
       "\\end{align*}\n",
       "$$\n",
       "</div>\n",
       "</details>\n",
       "</div>"
      ],
      "text/plain": [
       "LocalSpecification(sources=[LocalSpecificationSource(text='$$\\n\\\\begin{align*}\\n  \\\\S^d_\\\\mathrm{items}&: I \\\\\\\\\\n  \\\\S^p_\\\\mathrm{weight}&: w \\\\in \\\\mathbb{R}_+^{I} \\\\\\\\\\n  \\\\S^a&: B \\\\doteq \\\\{ 1 \\\\ldots \\\\# I \\\\} \\\\\\\\\\n  \\\\S^p_\\\\mathrm{maxWeight}&: w^\\\\mathrm{max} \\\\in \\\\mathbb{R}_+ \\\\\\\\\\n  \\\\S^v_\\\\mathrm{assigned}&: \\\\alpha \\\\in \\\\{0, 1\\\\}^{B \\\\times I} \\\\\\\\\\n  \\\\S^v_\\\\mathrm{used}&: \\\\psi \\\\in \\\\{0, 1\\\\}^{B} \\\\\\\\\\n  \\\\S^c_\\\\mathrm{usedActivates}&: \\\\forall b \\\\in B, i \\\\in I, \\\\psi_{b} \\\\geq \\\\alpha_{b,i} \\\\\\\\\\n  \\\\S^c_\\\\mathrm{eachItemIsAssignedOnce}&: \\\\forall i \\\\in I, \\\\sum_{b \\\\in B} \\\\alpha_{b,i} = 1 \\\\\\\\\\n  \\\\S^c_\\\\mathrm{binWeightsAreBelowMax}&: \\\\forall b \\\\in B, \\\\sum_{i \\\\in I} w_{i} \\\\alpha_{b,i} \\\\leq w^\\\\mathrm{max} \\\\\\\\\\n  \\\\S^o_\\\\mathrm{minimizeBinsUsed}&: \\\\min \\\\sum_{b \\\\in B} \\\\psi_{b} \\\\\\\\\\n\\\\end{align*}\\n$$', title='BinPacking')], description=None, annotation=None)"
      ]
     },
     "execution_count": 8,
     "metadata": {},
     "output_type": "execute_result"
    }
   ],
   "source": [
    "BinPacking().specification()"
   ]
  },
  {
   "cell_type": "code",
   "execution_count": null,
   "id": "4ed1667e",
   "metadata": {},
   "outputs": [],
   "source": [
    "import opvious.modeling as om\n",
    "\n",
    "class BudgetAllocation(om.Model):\n",
    "    projects = om.Dimension()\n",
    "    budget = om.Parameter.non_negative()\n",
    "    cost = om.Parameter.non_negative(projects)\n",
    "    value = om.Parameter.non_negative(projects)\n",
    "    selected = om.Variable.indicator(projects)\n",
    "\n",
    "    @om.constraint\n",
    "    def within_budget(self):\n",
    "        yield om.total(self.selected(p) * self.cost(p) for p in self.projects) <= self.budget()\n",
    "\n",
    "    @om.objective\n",
    "    def maximize_value(self):\n",
    "        return om.total(self.selected(p) * self.value(p) for p in self.projects)\n",
    "    \n",
    "model = BudgetAllocation()"
   ]
  },
  {
   "cell_type": "code",
   "execution_count": null,
   "id": "4e935b9b",
   "metadata": {},
   "outputs": [],
   "source": []
  }
 ],
 "metadata": {
  "kernelspec": {
   "display_name": "Python 3 (ipykernel)",
   "language": "python",
   "name": "python3"
  },
  "language_info": {
   "codemirror_mode": {
    "name": "ipython",
    "version": 3
   },
   "file_extension": ".py",
   "mimetype": "text/x-python",
   "name": "python",
   "nbconvert_exporter": "python",
   "pygments_lexer": "ipython3",
   "version": "3.11.4"
  }
 },
 "nbformat": 4,
 "nbformat_minor": 5
}
