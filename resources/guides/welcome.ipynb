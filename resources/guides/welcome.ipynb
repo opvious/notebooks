{
 "cells": [
  {
   "cell_type": "markdown",
   "id": "39078097",
   "metadata": {},
   "source": [
    "# Welcome!\n",
    "\n",
    "In this notebook..."
   ]
  },
  {
   "cell_type": "code",
   "execution_count": 1,
   "id": "d5a782a8",
   "metadata": {},
   "outputs": [
    {
     "name": "stdout",
     "output_type": "stream",
     "text": [
      "Requirement already satisfied: opvious in /Users/mtth/Code/opvious/examples/venv/lib/python3.11/site-packages (0.16.8)\n",
      "Requirement already satisfied: backoff<3.0,>=2.2 in /Users/mtth/Code/opvious/examples/venv/lib/python3.11/site-packages (from opvious) (2.2.1)\n",
      "Requirement already satisfied: humanize<5.0.0,>=4.4.0 in /Users/mtth/Code/opvious/examples/venv/lib/python3.11/site-packages (from opvious) (4.6.0)\n",
      "Requirement already satisfied: importnb<2024.0.0,>=2023.1.7 in /Users/mtth/Code/opvious/examples/venv/lib/python3.11/site-packages (from opvious) (2023.1.7)\n",
      "Requirement already satisfied: numpy>=1.21 in /Users/mtth/Code/opvious/examples/venv/lib/python3.11/site-packages (from opvious) (1.24.2)\n",
      "Requirement already satisfied: pandas<2.0,>=1.4 in /Users/mtth/Code/opvious/examples/venv/lib/python3.11/site-packages (from opvious) (1.5.3)\n",
      "Requirement already satisfied: python-dateutil>=2.8.1 in /Users/mtth/Code/opvious/examples/venv/lib/python3.11/site-packages (from pandas<2.0,>=1.4->opvious) (2.8.2)\n",
      "Requirement already satisfied: pytz>=2020.1 in /Users/mtth/Code/opvious/examples/venv/lib/python3.11/site-packages (from pandas<2.0,>=1.4->opvious) (2023.3)\n",
      "Requirement already satisfied: six>=1.5 in /Users/mtth/Code/opvious/examples/venv/lib/python3.11/site-packages (from python-dateutil>=2.8.1->pandas<2.0,>=1.4->opvious) (1.16.0)\n",
      "\n",
      "\u001b[1m[\u001b[0m\u001b[34;49mnotice\u001b[0m\u001b[1;39;49m]\u001b[0m\u001b[39;49m A new release of pip available: \u001b[0m\u001b[31;49m22.3.1\u001b[0m\u001b[39;49m -> \u001b[0m\u001b[32;49m23.2\u001b[0m\n",
      "\u001b[1m[\u001b[0m\u001b[34;49mnotice\u001b[0m\u001b[1;39;49m]\u001b[0m\u001b[39;49m To update, run: \u001b[0m\u001b[32;49mpip install --upgrade pip\u001b[0m\n",
      "Note: you may need to restart the kernel to use updated packages.\n"
     ]
    }
   ],
   "source": [
    "%pip install opvious"
   ]
  },
  {
   "cell_type": "markdown",
   "id": "99c8d038",
   "metadata": {},
   "source": [
    "+ Platform components\n",
    "\n",
    "+ Install Python SDK\n",
    "+ Create an optimization model\n",
    "  + definitions\n",
    "  + annotations\n",
    "+ Show how to solve\n",
    "  + using client\n",
    "  + uploading formulation, then using cURL\n",
    "  + long-running solves, queue\n",
    "+ Local API server\n",
    "  + Starting one\n",
    "  + Configuring client"
   ]
  },
  {
   "cell_type": "code",
   "execution_count": null,
   "id": "87d57714",
   "metadata": {},
   "outputs": [],
   "source": []
  }
 ],
 "metadata": {
  "kernelspec": {
   "display_name": "Python 3 (ipykernel)",
   "language": "python",
   "name": "python3"
  },
  "language_info": {
   "codemirror_mode": {
    "name": "ipython",
    "version": 3
   },
   "file_extension": ".py",
   "mimetype": "text/x-python",
   "name": "python",
   "nbconvert_exporter": "python",
   "pygments_lexer": "ipython3",
   "version": "3.11.4"
  }
 },
 "nbformat": 4,
 "nbformat_minor": 5
}
