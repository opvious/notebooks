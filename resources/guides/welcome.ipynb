{
  "cells": [
    {
      "cell_type": "markdown",
      "id": "39078097",
      "metadata": {},
      "source": [
        "# Welcome!\n",
        "\n",
        "In this notebook..."
      ]
    },
    {
      "cell_type": "code",
      "execution_count": 1,
      "id": "d5a782a8",
      "metadata": {},
      "outputs": [],
      "source": [
        "%pip install opvious"
      ]
    },
    {
      "cell_type": "markdown",
      "id": "99c8d038",
      "metadata": {},
      "source": [
        "+ Platform components\n",
        "\n",
        "+ Install Python SDK\n",
        "+ Create an optimization model\n",
        "  + definitions\n",
        "  + annotations\n",
        "+ Show how to solve\n",
        "  + using client\n",
        "  + uploading formulation, then using cURL\n",
        "  + long-running solves, queue\n",
        "+ Local API server\n",
        "  + Starting one\n",
        "  + Configuring client"
      ]
    },
    {
      "cell_type": "code",
      "execution_count": 2,
      "id": "4ed1667e",
      "metadata": {},
      "outputs": [
        {
          "data": {
            "text/markdown": "<div style=\"margin-top: 1em; margin-bottom: 1em;\">\n<details open>\n<summary style=\"cursor: pointer; text-decoration: underline; text-decoration-style: dotted;\">BudgetAllocation</summary>\n<div style=\"margin-top: 1em;\">\n$$\n\\begin{align*}\n  \\S^d_\\mathrm{projects}&: P \\\\\n  \\S^p_\\mathrm{budget}&: b \\in \\mathbb{R}_+ \\\\\n  \\S^p_\\mathrm{cost}&: c \\in \\mathbb{R}_+^{P} \\\\\n  \\S^p_\\mathrm{value}&: v \\in \\mathbb{R}_+^{P} \\\\\n  \\S^v_\\mathrm{selected}&: \\sigma \\in \\{0, 1\\}^{P} \\\\\n  \\S^c_\\mathrm{withinBudget}&: \\sum_{p \\in P} \\sigma_{p} c_{p} \\leq b \\\\\n  \\S^o_\\mathrm{maximizeValue}&: \\max \\sum_{p \\in P} \\sigma_{p} v_{p} \\\\\n\\end{align*}\n$$\n</div>\n</details>\n</div>",
            "text/plain": "LocalSpecification(sources=[LocalSpecificationSource(text='$$\\n\\\\begin{align*}\\n  \\\\S^d_\\\\mathrm{projects}&: P \\\\\\\\\\n  \\\\S^p_\\\\mathrm{budget}&: b \\\\in \\\\mathbb{R}_+ \\\\\\\\\\n  \\\\S^p_\\\\mathrm{cost}&: c \\\\in \\\\mathbb{R}_+^{P} \\\\\\\\\\n  \\\\S^p_\\\\mathrm{value}&: v \\\\in \\\\mathbb{R}_+^{P} \\\\\\\\\\n  \\\\S^v_\\\\mathrm{selected}&: \\\\sigma \\\\in \\\\{0, 1\\\\}^{P} \\\\\\\\\\n  \\\\S^c_\\\\mathrm{withinBudget}&: \\\\sum_{p \\\\in P} \\\\sigma_{p} c_{p} \\\\leq b \\\\\\\\\\n  \\\\S^o_\\\\mathrm{maximizeValue}&: \\\\max \\\\sum_{p \\\\in P} \\\\sigma_{p} v_{p} \\\\\\\\\\n\\\\end{align*}\\n$$', title='BudgetAllocation')], description=None, annotation=None)"
          },
          "execution_count": 1,
          "metadata": {},
          "output_type": "execute_result"
        }
      ],
      "source": [
        "import opvious.modeling as om\n",
        "\n",
        "class BudgetAllocation(om.Model):\n",
        "    projects = om.Dimension()\n",
        "    budget = om.Parameter.non_negative()\n",
        "    cost = om.Parameter.non_negative(projects)\n",
        "    value = om.Parameter.non_negative(projects)\n",
        "    selected = om.Variable.indicator(projects)\n",
        "\n",
        "    @om.constraint\n",
        "    def within_budget(self):\n",
        "        yield om.total(self.selected(p) * self.cost(p) for p in self.projects) <= self.budget()\n",
        "\n",
        "    @om.objective\n",
        "    def maximize_value(self):\n",
        "        return om.total(self.selected(p) * self.value(p) for p in self.projects)\n",
        "    \n",
        "model = BudgetAllocation()\n",
        "model.specification()"
      ]
    },
    {
      "cell_type": "code",
      "execution_count": 3,
      "id": "4e935b9b",
      "metadata": {},
      "outputs": [],
      "source": []
    }
  ],
  "metadata": {
    "kernelspec": {
      "display_name": "Python 3 (ipykernel)",
      "language": "python",
      "name": "python3"
    },
    "language_info": {
      "codemirror_mode": {
        "name": "ipython",
        "version": 3
      },
      "file_extension": ".py",
      "mimetype": "text/x-python",
      "name": "python",
      "nbconvert_exporter": "python",
      "pygments_lexer": "ipython3",
      "version": "3.11.4"
    }
  },
  "nbformat": 4,
  "nbformat_minor": 5
}