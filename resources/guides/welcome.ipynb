{
  "cells": [
    {
      "cell_type": "markdown",
      "id": "39078097",
      "metadata": {},
      "source": [
        "# Welcome!\n",
        "\n",
        "In this notebook we introduce the [Opvious](https://www.opvious.io) optimization platform, give an overview of its main features, and walk through an end-to-end example.\n",
        "\n",
        "\n",
        "## What is Opvious?\n",
        "\n",
        "Opvious is a _batteries-included optimization platform_. It __empowers engineers and data scientists to solve mathematical optimization problems__.\n",
        "\n",
        "Breaking it down:\n",
        "\n",
        "+ _Optimization_: Opvious supports linear, mixed-integer, and quadratic [mathematical programming](https://en.wikipedia.org/wiki/Mathematical_optimization).\n",
        "+ _Platform_: Opvious is much more than a library. Underneath the SDKs and integrations is a [modern API](https://api.cloud.opvious.io/openapi.yaml) powered by distributed infrastructure.\n",
        "+ _Batteries-included_: Opvious has everything you need to start optimizing - no separate solver license or installation required.\n",
        "\n",
        "Opvious is available both as a managed cloud service (free on small datasets) and self-hosted (free for non-commercial projects). See our [pricing page](https://www.opvious.io/pricing) for more information.\n",
        "\n",
        "\n",
        "## How is Opvious different?\n",
        "\n",
        "### Transparency\n",
        "\n",
        "Opvious' model representation is _just math_. You can be confident that your model's implementation is consistent with its mathematical specification since the specification itself is the source of truth.\n",
        "\n",
        "\n",
        "### Portability\n",
        "\n",
        "All Opvious models can be created and solved with API calls. You can create a model once (for example from a Python notebook or a CI pipeline) then immediately use it from another environment: another notebook, a backend service, Google Sheets\u2122, ...\n",
        "\n",
        "\n",
        "### Simplicity\n",
        "\n",
        "Opvious comes with all the tools needed to build, productionize, and maintain optimization models. Installing a single SDK gives you access to a high-performance solver, extensive model validations, powerful debugging features, and much more.\n",
        "\n",
        "\n",
        "## Let's see it in practice\n",
        "\n",
        "To give you a taste of the platform, we'll implement a sample optimization model using the [Python SDK](https://opvious.readthedocs.io).\n",
        "\n",
        "<div class=\"alert alert-block alert-info\">\n",
        "    &#9432; This example can be run directly from your browser when accessed via its <a href=\"https://www.opvious.io/notebooks/retro/notebooks/?path=guides/welcome.ipynb\">opvious.io/notebooks</a> URL.\n",
        "</div>\n",
        "\n",
        "Let's imagine that we are tasked with allocating a budget between various projects. We are also given an expected cost and value for each project. Our goal is to __pick projects__ which __maximize total value__ while keeping __total cost within the budget__.\n",
        "\n",
        "It turns out that our task can be formulated naturally as an [integer programming problem](https://en.wikipedia.org/wiki/Integer_programming) (it is actually an instance of the [knapsack problem](https://en.wikipedia.org/wiki/Knapsack_problem)) which--unlike heuristics--will be guaranteed to give us an optimal allocation. Conveniently, this is just one of the types of problems that Opvious was built to solve!\n",
        "\n",
        "To get started, we install the Python SDK."
      ]
    },
    {
      "cell_type": "code",
      "execution_count": 1,
      "id": "d5a782a8",
      "metadata": {},
      "outputs": [],
      "source": [
        "%pip install opvious"
      ]
    },
    {
      "cell_type": "markdown",
      "id": "99c8d038",
      "metadata": {},
      "source": [
        "### Formulation\n",
        "\n",
        "We start by defining our model using the SDK's [declarative modeling API](https://opvious.readthedocs.io/en/stable/modeling.html) which generates mathematical specifications from readable Python code. At a high level, each model contains four types of components:\n",
        "\n",
        "* _Dimensions and parameters_, capturing the problem's inputs. Here, we have a single dimension (the list of available projects) and three parameters (the total budget, the cost of each project, and the value of each project).\n",
        "* _Variables_, representing its outputs. We have a single output here, whether a project is selected or not (modeled as an indicator--0 or 1--variable).\n",
        "* _Constraints_, enforcing invariants. Here we need to make sure that the sum of the selected projects' cost does not exceed the budget.\n",
        "* _Objectives_, evaluating the quality of a solution. We have a single objective here: maximizing the sum of the selected projects' value.\n",
        "\n",
        "Models are always _abstract_: they exist independently of data and can be reused with different input values. This separation allows them to be easily validated, exported, and version-controlled."
      ]
    },
    {
      "cell_type": "code",
      "execution_count": 2,
      "id": "4ed1667e",
      "metadata": {},
      "outputs": [],
      "source": [
        "import opvious.modeling as om\n",
        "\n",
        "class BudgetAllocation(om.Model):\n",
        "    \"\"\"A simple model allocating a budget between various projects\"\"\"\n",
        "    \n",
        "    # Inputs\n",
        "    projects = om.Dimension()  # Set of available projects\n",
        "    budget = om.Parameter.non_negative()  # Total budget value\n",
        "    cost = om.Parameter.non_negative(projects)  # Cost per project\n",
        "    value = om.Parameter.continuous(projects)  # Value of each project\n",
        "    \n",
        "    # Output\n",
        "    selected = om.Variable.indicator(projects)  # Whether a project is selected (1) or not (0)\n",
        "    \n",
        "    @om.constraint\n",
        "    def within_budget(self):\n",
        "        \"\"\"Ensure that the total (summed) cost of selected projects is less or equal to the budget\"\"\"\n",
        "        yield om.total(self.selected(p) * self.cost(p) for p in self.projects) <= self.budget()\n",
        "        \n",
        "    @om.objective\n",
        "    def maximize_value(self):\n",
        "        \"\"\"Maximize the total (summed) value of selected projects\"\"\"\n",
        "        return om.total(self.selected(p) * self.value(p) for p in self.projects)\n",
        "        \n",
        "model = BudgetAllocation()"
      ]
    },
    {
      "cell_type": "markdown",
      "id": "7e68b370",
      "metadata": {},
      "source": [
        "[`Model`](https://opvious.readthedocs.io/en/stable/api-reference.html#opvious.modeling.Model) instances expose various built-in methods. The most important one is `specification`, which automatically validates and exports its mathematical representation. This specification is integrated with IPython\u2019s rich display capabilities, making it easy to review:"
      ]
    },
    {
      "cell_type": "code",
      "execution_count": 3,
      "id": "06d04aff",
      "metadata": {},
      "outputs": [
        {
          "data": {
            "text/markdown": "<div style=\"margin-top: 1em; margin-bottom: 1em;\">\n<details open>\n<summary style=\"cursor: pointer; text-decoration: underline; text-decoration-style: dotted;\">BudgetAllocation</summary>\n<div style=\"margin-top: 1em;\">\n$$\n\\begin{align*}\n  \\S^d_\\mathrm{projects}&: P \\\\\n  \\S^p_\\mathrm{budget}&: b \\in \\mathbb{R}_+ \\\\\n  \\S^p_\\mathrm{cost}&: c \\in \\mathbb{R}_+^{P} \\\\\n  \\S^p_\\mathrm{value}&: v \\in \\mathbb{R}^{P} \\\\\n  \\S^v_\\mathrm{selected}&: \\sigma \\in \\{0, 1\\}^{P} \\\\\n  \\S^c_\\mathrm{withinBudget}&: \\sum_{p \\in P} \\sigma_{p} c_{p} \\leq b \\\\\n  \\S^o_\\mathrm{maximizeValue}&: \\max \\sum_{p \\in P} \\sigma_{p} v_{p} \\\\\n\\end{align*}\n$$\n</div>\n</details>\n</div>",
            "text/plain": "LocalSpecification(sources=[LocalSpecificationSource(text='$$\\n\\\\begin{align*}\\n  \\\\S^d_\\\\mathrm{projects}&: P \\\\\\\\\\n  \\\\S^p_\\\\mathrm{budget}&: b \\\\in \\\\mathbb{R}_+ \\\\\\\\\\n  \\\\S^p_\\\\mathrm{cost}&: c \\\\in \\\\mathbb{R}_+^{P} \\\\\\\\\\n  \\\\S^p_\\\\mathrm{value}&: v \\\\in \\\\mathbb{R}^{P} \\\\\\\\\\n  \\\\S^v_\\\\mathrm{selected}&: \\\\sigma \\\\in \\\\{0, 1\\\\}^{P} \\\\\\\\\\n  \\\\S^c_\\\\mathrm{withinBudget}&: \\\\sum_{p \\\\in P} \\\\sigma_{p} c_{p} \\\\leq b \\\\\\\\\\n  \\\\S^o_\\\\mathrm{maximizeValue}&: \\\\max \\\\sum_{p \\\\in P} \\\\sigma_{p} v_{p} \\\\\\\\\\n\\\\end{align*}\\n$$', title='BudgetAllocation')], description='A simple model allocating a budget between various projects', annotation=None)"
          },
          "execution_count": 3,
          "metadata": {},
          "output_type": "execute_result"
        }
      ],
      "source": [
        "model.specification()"
      ]
    },
    {
      "cell_type": "markdown",
      "id": "dd0f7cff",
      "metadata": {},
      "source": [
        "### Application\n",
        "\n",
        "Once our model is instantiated, we are ready to add data and solve it!\n",
        "\n",
        "Combining a model with data is straightforward: we just provide a value for each parameter. In this simple example we provide them as a number (budget) and dictionaries (project cost and value) but many other formats are accepted, including `pandas` series."
      ]
    },
    {
      "cell_type": "code",
      "execution_count": 4,
      "id": "ad50096f",
      "metadata": {},
      "outputs": [],
      "source": [
        "import opvious\n",
        "\n",
        "problem = opvious.Problem(  # Sample problem instance with 3 projects\n",
        "    model.specification(),\n",
        "    parameters={\n",
        "        \"budget\": 100,\n",
        "        \"cost\": {\"p1\": 50, \"p2\": 45, \"p3\": 60},\n",
        "        \"value\": {\"p1\": 5, \"p2\": 6, \"p3\": 10},\n",
        "    },\n",
        ")"
      ]
    },
    {
      "cell_type": "markdown",
      "id": "0b21b08c",
      "metadata": {},
      "source": [
        "Solves are handled remotely via [`Client`](https://opvious.readthedocs.io/en/stable/api-reference.html#opvious.Client) instances. Since our sample problem is small it can be solved without authentication, otherwise we would need to [configure our client accordingly](https://opvious.readthedocs.io/en/stable/overview.html#creating-a-client)."
      ]
    },
    {
      "cell_type": "code",
      "execution_count": 5,
      "id": "c1dd5859",
      "metadata": {},
      "outputs": [
        {
          "data": {
            "text/plain": "{'p1', 'p2'}"
          },
          "execution_count": 5,
          "metadata": {},
          "output_type": "execute_result"
        }
      ],
      "source": [
        "client = opvious.Client.default()\n",
        "\n",
        "async def solve_problem(problem):\n",
        "    \"\"\"Returns an optimal set of projects for the provided budget allocation problem\"\"\"\n",
        "    solution = await client.solve(problem)\n",
        "    selected = solution.outputs.variable(\"selected\")  # `pandas` dataframe containing optimal variable values\n",
        "    return set(selected.index)  # Names of the selected projects\n",
        "\n",
        "# Let's try it!\n",
        "await solve_problem(problem)"
      ]
    },
    {
      "cell_type": "markdown",
      "id": "7f674034",
      "metadata": {},
      "source": [
        "The solution is what we expect: selecting `p1` and `p2` yields a total value of 11 (greater than `p3`'s 10), with a total cost of 95 (less than the budget of 100).\n",
        "\n",
        "This is just one of the many useful methods available on client instances. For example `inspect_instructions` will return the problem\u2019s fully annotated representation in [LP format](https://web.mit.edu/lpsolve/doc/CPLEX-format.htm):"
      ]
    },
    {
      "cell_type": "code",
      "execution_count": 6,
      "id": "71e1ca5d",
      "metadata": {},
      "outputs": [
        {
          "name": "stdout",
          "output_type": "stream",
          "text": "maximize\n  +5 selected$1 \\ [projects=p1]\n  +6 selected$2 \\ [projects=p2]\n  +10 selected$3 \\ [projects=p3]\nsubject to\n withinBudget$1:\n  +50 selected$1 \\ [projects=p1]\n  +45 selected$2 \\ [projects=p2]\n  +60 selected$3 \\ [projects=p3]\n  <= +100\ngeneral\n  selected$1 \\ [projects=p1]\n  selected$2 \\ [projects=p2]\n  selected$3 \\ [projects=p3]\nend\n\n"
        }
      ],
      "source": [
        "print(await client.inspect_instructions(problem))"
      ]
    },
    {
      "cell_type": "markdown",
      "id": "9c30a9c8",
      "metadata": {},
      "source": [
        "## Next steps\n",
        "\n",
        "+ Browse our other interactive [guides and examples](https://www.opvious.io/notebooks/retro)\n",
        "+ Create a (free) account via the [Optimization Hub](https://hub.cloud.opvious.io) to solve larger problems\n",
        "+ Try the platform out locally via the [self-hosted API server](https://hub.docker.com/r/opvious/api-server)"
      ]
    },
    {
      "cell_type": "code",
      "execution_count": 7,
      "id": "69697ecc",
      "metadata": {},
      "outputs": [],
      "source": []
    }
  ],
  "metadata": {
    "kernelspec": {
      "display_name": "Python 3 (ipykernel)",
      "language": "python",
      "name": "python3"
    },
    "language_info": {
      "codemirror_mode": {
        "name": "ipython",
        "version": 3
      },
      "file_extension": ".py",
      "mimetype": "text/x-python",
      "name": "python",
      "nbconvert_exporter": "python",
      "pygments_lexer": "ipython3",
      "version": "3.11.4"
    }
  },
  "nbformat": 4,
  "nbformat_minor": 5
}