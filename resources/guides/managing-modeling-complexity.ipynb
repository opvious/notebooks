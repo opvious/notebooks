{
 "cells": [
  {
   "cell_type": "markdown",
   "id": "001ead62",
   "metadata": {},
   "source": [
    "# Managing modeling complexity\n",
    "\n",
    "In this notebook we highlight a few features of `opvious`'s [declarative modeling API](https://opvious.readthedocs.io/en/stable/modeling.html) which help build and maintain large models."
   ]
  },
  {
   "cell_type": "code",
   "execution_count": 1,
   "id": "531c55c1",
   "metadata": {},
   "outputs": [],
   "source": [
    "%pip install opvious"
   ]
  },
  {
   "cell_type": "markdown",
   "id": "802d4cb9",
   "metadata": {},
   "source": [
    "## Dependencies\n",
    "\n",
    "It's good practice to split up large blocks of code into smaller meaningful units. This also holds for modeling code. To enable this, `Model` constructors accept an array of model dependencies. Each of these dependencies will automatically be included in the dependent's specification."
   ]
  },
  {
   "cell_type": "code",
   "execution_count": 2,
   "id": "b3116ff9",
   "metadata": {},
   "outputs": [],
   "source": [
    "import opvious.modeling as om\n",
    "\n",
    "class Environment(om.Model):\n",
    "    \"\"\"Parent model\"\"\"\n",
    "    epochs = om.Dimension()\n",
    "    active = om.Variable.indicator(epochs)\n",
    "    \n",
    "class Activity(om.Model):\n",
    "    \"\"\"Child model\"\"\"\n",
    "    \n",
    "    def __init__(self, environment):\n",
    "        super().__init__(dependencies=[environment])  # Note the dependency\n",
    "        self._environment = environment\n",
    "        \n",
    "    @om.objective\n",
    "    def maximize_active_duration(self):\n",
    "        return self._environment.active.total()\n",
    "\n",
    "activity = Activity(Environment())"
   ]
  },
  {
   "cell_type": "markdown",
   "id": "b55b99a7",
   "metadata": {},
   "source": [
    "The child's specification will include all of its (potentially transitive) dependencies, organized by model:\n",
    "\n",
    "<div class=\"alert alert-block alert-info\">\n",
    "    &#9432; In Jupyter notebooks, individual model specifications can be collapsed by clicking on the model's name.\n",
    "</div>"
   ]
  },
  {
   "cell_type": "code",
   "execution_count": 3,
   "id": "544a9af5",
   "metadata": {},
   "outputs": [
    {
     "data": {
      "text/markdown": [
       "<div style=\"margin-top: 1em; margin-bottom: 1em;\">\n",
       "<details open>\n",
       "<summary style=\"cursor: pointer; text-decoration: underline; text-decoration-style: dotted;\">Activity</summary>\n",
       "<div style=\"margin-top: 1em;\">\n",
       "$$\n",
       "\\begin{align*}\n",
       "  \\S^o_\\mathrm{maximizeActiveDuration}&: \\max \\sum_{e \\in E} \\alpha_{e} \\\\\n",
       "\\end{align*}\n",
       "$$\n",
       "</div>\n",
       "</details>\n",
       "\n",
       "---\n",
       "\n",
       "<details>\n",
       "<summary style=\"cursor: pointer; text-decoration: underline; text-decoration-style: dotted;\">Environment</summary>\n",
       "<div style=\"margin-top: 1em;\">\n",
       "$$\n",
       "\\begin{align*}\n",
       "  \\S^d_\\mathrm{epochs}&: E \\\\\n",
       "  \\S^v_\\mathrm{active}&: \\alpha \\in \\{0, 1\\}^{E} \\\\\n",
       "\\end{align*}\n",
       "$$\n",
       "</div>\n",
       "</details>\n",
       "</div>"
      ],
      "text/plain": [
       "LocalSpecification(sources=[LocalSpecificationSource(text='$$\\n\\\\begin{align*}\\n  \\\\S^o_\\\\mathrm{maximizeActiveDuration}&: \\\\max \\\\sum_{e \\\\in E} \\\\alpha_{e} \\\\\\\\\\n\\\\end{align*}\\n$$', title='Activity'), LocalSpecificationSource(text='$$\\n\\\\begin{align*}\\n  \\\\S^d_\\\\mathrm{epochs}&: E \\\\\\\\\\n  \\\\S^v_\\\\mathrm{active}&: \\\\alpha \\\\in \\\\{0, 1\\\\}^{E} \\\\\\\\\\n\\\\end{align*}\\n$$', title='Environment')], description='Child model', annotation=None)"
      ]
     },
     "execution_count": 3,
     "metadata": {},
     "output_type": "execute_result"
    }
   ],
   "source": [
    "activity.specification()"
   ]
  },
  {
   "cell_type": "markdown",
   "id": "9f488256",
   "metadata": {},
   "source": [
    "`definition_counts` will also break down the definitions by model:"
   ]
  },
  {
   "cell_type": "code",
   "execution_count": 4,
   "id": "08f3fc80",
   "metadata": {},
   "outputs": [
    {
     "data": {
      "text/html": [
       "<div>\n",
       "<style scoped>\n",
       "    .dataframe tbody tr th:only-of-type {\n",
       "        vertical-align: middle;\n",
       "    }\n",
       "\n",
       "    .dataframe tbody tr th {\n",
       "        vertical-align: top;\n",
       "    }\n",
       "\n",
       "    .dataframe thead th {\n",
       "        text-align: right;\n",
       "    }\n",
       "</style>\n",
       "<table border=\"1\" class=\"dataframe\">\n",
       "  <thead>\n",
       "    <tr style=\"text-align: right;\">\n",
       "      <th>category</th>\n",
       "      <th>DIMENSION</th>\n",
       "      <th>OBJECTIVE</th>\n",
       "      <th>VARIABLE</th>\n",
       "    </tr>\n",
       "    <tr>\n",
       "      <th>title</th>\n",
       "      <th></th>\n",
       "      <th></th>\n",
       "      <th></th>\n",
       "    </tr>\n",
       "  </thead>\n",
       "  <tbody>\n",
       "    <tr>\n",
       "      <th>Activity</th>\n",
       "      <td>0</td>\n",
       "      <td>1</td>\n",
       "      <td>0</td>\n",
       "    </tr>\n",
       "    <tr>\n",
       "      <th>Environment</th>\n",
       "      <td>1</td>\n",
       "      <td>0</td>\n",
       "      <td>1</td>\n",
       "    </tr>\n",
       "  </tbody>\n",
       "</table>\n",
       "</div>"
      ],
      "text/plain": [
       "category     DIMENSION  OBJECTIVE  VARIABLE\n",
       "title                                      \n",
       "Activity             0          1         0\n",
       "Environment          1          0         1"
      ]
     },
     "execution_count": 4,
     "metadata": {},
     "output_type": "execute_result"
    }
   ],
   "source": [
    "activity.definition_counts()"
   ]
  },
  {
   "cell_type": "markdown",
   "id": "3857d53d",
   "metadata": {},
   "source": [
    "## Annotations\n",
    "\n",
    "Calling a model's `specification` method performs basic validation when generating its output. Not all errors are detected however, for example mismatched indices would not be caught here but raise an exception later when solving.\n",
    "\n",
    "Can you swap the error(s) in the model below?"
   ]
  },
  {
   "cell_type": "code",
   "execution_count": 5,
   "id": "f85c3b19",
   "metadata": {},
   "outputs": [
    {
     "data": {
      "text/markdown": [
       "<div style=\"margin-top: 1em; margin-bottom: 1em;\">\n",
       "<details open>\n",
       "<summary style=\"cursor: pointer; text-decoration: underline; text-decoration-style: dotted;\">Invalid</summary>\n",
       "<div style=\"margin-top: 1em;\">\n",
       "$$\n",
       "\\begin{align*}\n",
       "  \\S^d_\\mathrm{products}&: P \\\\\n",
       "  \\S^d_\\mathrm{stores}&: S \\\\\n",
       "  \\S^p_\\mathrm{inventory}&: i \\in \\mathbb{R}_+^{P} \\\\\n",
       "  \\S^v_\\mathrm{shipment}&: \\sigma \\in \\mathbb{N}^{P \\times S} \\\\\n",
       "  \\S^c_\\mathrm{shipmentsWithinInventory}&: \\forall p \\in P, \\sum_{s \\in S} \\sigma_{s,p} \\leq i \\\\\n",
       "\\end{align*}\n",
       "$$\n",
       "</div>\n",
       "</details>\n",
       "</div>"
      ],
      "text/plain": [
       "LocalSpecification(sources=[LocalSpecificationSource(text='$$\\n\\\\begin{align*}\\n  \\\\S^d_\\\\mathrm{products}&: P \\\\\\\\\\n  \\\\S^d_\\\\mathrm{stores}&: S \\\\\\\\\\n  \\\\S^p_\\\\mathrm{inventory}&: i \\\\in \\\\mathbb{R}_+^{P} \\\\\\\\\\n  \\\\S^v_\\\\mathrm{shipment}&: \\\\sigma \\\\in \\\\mathbb{N}^{P \\\\times S} \\\\\\\\\\n  \\\\S^c_\\\\mathrm{shipmentsWithinInventory}&: \\\\forall p \\\\in P, \\\\sum_{s \\\\in S} \\\\sigma_{s,p} \\\\leq i \\\\\\\\\\n\\\\end{align*}\\n$$', title='Invalid')], description=None, annotation=None)"
      ]
     },
     "execution_count": 5,
     "metadata": {},
     "output_type": "execute_result"
    }
   ],
   "source": [
    "class Invalid(om.Model):\n",
    "    products = om.Dimension()\n",
    "    stores = om.Dimension()\n",
    "    inventory = om.Parameter.non_negative(products)\n",
    "    shipment = om.Variable.natural(products, stores)\n",
    "    \n",
    "    @om.constraint\n",
    "    def shipments_within_inventory(self):\n",
    "        for p in self.products:\n",
    "            yield om.total(self.shipment(s, p) for s in self.stores) <= self.inventory()\n",
    "\n",
    "Invalid().specification()"
   ]
  },
  {
   "cell_type": "markdown",
   "id": "60a9ca2c",
   "metadata": {},
   "source": [
    "Fortunately we can always use a client's [`annotate_specification`](https://opvious.readthedocs.io/en/stable/api-reference.html#opvious.Client.annotate_specification) method to discover all inconsistencies within a specification: mismatched indices, unexpected degree (e.g. quadratic expressions within a constraint), numeric operations on non-numeric terms, and much more. Any errors will be highlighted in orange in the specification and indicated by a warning symbol next to the model's name.\n",
    "\n",
    "Let's try it on the specification above."
   ]
  },
  {
   "cell_type": "code",
   "execution_count": 6,
   "id": "ffd407bd",
   "metadata": {},
   "outputs": [
    {
     "data": {
      "text/markdown": [
       "<div style=\"margin-top: 1em; margin-bottom: 1em;\">\n",
       "<details open>\n",
       "<summary style=\"cursor: pointer; text-decoration: underline; text-decoration-style: dotted;\">Invalid &#9888;</summary>\n",
       "<div style=\"margin-top: 1em;\">\n",
       "$$\n",
       "\\begin{align*}\n",
       "  \\S^d_\\mathrm{products}&: P \\\\\n",
       "  \\S^d_\\mathrm{stores}&: S \\\\\n",
       "  \\S^p_\\mathrm{inventory}&: i \\in \\mathbb{R}_+^{P} \\\\\n",
       "  \\S^v_\\mathrm{shipment}&: \\sigma \\in \\mathbb{N}^{P \\times S} \\\\\n",
       "  \\S^c_\\mathrm{shipmentsWithinInventory}&: \\forall p \\in P, \\sum_{s \\in S} \\sigma_{\\color{orange}{s},\\color{orange}{p}} \\leq \\color{orange}{i} \\\\\n",
       "\\end{align*}\n",
       "$$\n",
       "</div>\n",
       "</details>\n",
       "</div>"
      ],
      "text/plain": [
       "LocalSpecification(sources=[LocalSpecificationSource(text='$$\\n\\\\begin{align*}\\n  \\\\S^d_\\\\mathrm{products}&: P \\\\\\\\\\n  \\\\S^d_\\\\mathrm{stores}&: S \\\\\\\\\\n  \\\\S^p_\\\\mathrm{inventory}&: i \\\\in \\\\mathbb{R}_+^{P} \\\\\\\\\\n  \\\\S^v_\\\\mathrm{shipment}&: \\\\sigma \\\\in \\\\mathbb{N}^{P \\\\times S} \\\\\\\\\\n  \\\\S^c_\\\\mathrm{shipmentsWithinInventory}&: \\\\forall p \\\\in P, \\\\sum_{s \\\\in S} \\\\sigma_{s,p} \\\\leq i \\\\\\\\\\n\\\\end{align*}\\n$$', title='Invalid')], description=None, annotation=LocalSpecificationAnnotation(issue_count=3, issues={0: [LocalSpecificationIssue(source_index=0, start_offset=282, end_offset=282, message='This expression is not compatible with its context; please check that dimensions and numericity match', code='ERR_INCOMPATIBLE_VALUE'), LocalSpecificationIssue(source_index=0, start_offset=284, end_offset=284, message='This expression is not compatible with its context; please check that dimensions and numericity match', code='ERR_INCOMPATIBLE_VALUE'), LocalSpecificationIssue(source_index=0, start_offset=292, end_offset=292, message='This subscript has size 0 which does not match the underlying space (of rank 1)', code='ERR_INCOMPATIBLE_SUBSCRIPT')]}))"
      ]
     },
     "execution_count": 6,
     "metadata": {},
     "output_type": "execute_result"
    }
   ],
   "source": [
    "import opvious\n",
    "\n",
    "client = opvious.Client.from_environment(default_endpoint=opvious.DEMO_ENDPOINT)\n",
    "\n",
    "annotated = await client.annotate_specification(Invalid().specification())\n",
    "annotated"
   ]
  },
  {
   "cell_type": "markdown",
   "id": "8d0e6a6e",
   "metadata": {},
   "source": [
    "The 3 errors were correctly identified, all in the `shipmentsWithinInventory` constraint:\n",
    "\n",
    "* $\\sigma$'s indices both have incorrect types (they are swapped);\n",
    "* $i$ is missing an index.\n",
    "\n",
    "Any errors are also available for programmatic use via the specification's `annotation` property:"
   ]
  },
  {
   "cell_type": "code",
   "execution_count": 7,
   "id": "592dc3df",
   "metadata": {},
   "outputs": [
    {
     "data": {
      "text/plain": [
       "{0: [LocalSpecificationIssue(source_index=0, start_offset=282, end_offset=282, message='This expression is not compatible with its context; please check that dimensions and numericity match', code='ERR_INCOMPATIBLE_VALUE'),\n",
       "  LocalSpecificationIssue(source_index=0, start_offset=284, end_offset=284, message='This expression is not compatible with its context; please check that dimensions and numericity match', code='ERR_INCOMPATIBLE_VALUE'),\n",
       "  LocalSpecificationIssue(source_index=0, start_offset=292, end_offset=292, message='This subscript has size 0 which does not match the underlying space (of rank 1)', code='ERR_INCOMPATIBLE_SUBSCRIPT')]}"
      ]
     },
     "execution_count": 7,
     "metadata": {},
     "output_type": "execute_result"
    }
   ],
   "source": [
    "annotated.annotation.issues"
   ]
  },
  {
   "cell_type": "markdown",
   "id": "bebd2cc4",
   "metadata": {},
   "source": [
    "## Fragments\n",
    "\n",
    "Coming soon."
   ]
  },
  {
   "cell_type": "code",
   "execution_count": 8,
   "id": "6b2e7b2b",
   "metadata": {},
   "outputs": [],
   "source": []
  }
 ],
 "metadata": {
  "kernelspec": {
   "display_name": "Python 3 (ipykernel)",
   "language": "python",
   "name": "python3"
  },
  "language_info": {
   "codemirror_mode": {
    "name": "ipython",
    "version": 3
   },
   "file_extension": ".py",
   "mimetype": "text/x-python",
   "name": "python",
   "nbconvert_exporter": "python",
   "pygments_lexer": "ipython3",
   "version": "3.12.5"
  }
 },
 "nbformat": 4,
 "nbformat_minor": 5
}
