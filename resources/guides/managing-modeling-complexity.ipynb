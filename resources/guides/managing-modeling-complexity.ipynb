{
 "cells": [
  {
   "cell_type": "markdown",
   "id": "001ead62",
   "metadata": {},
   "source": [
    "# Managing modeling complexity\n",
    "\n",
    "In this notebook we highlight `opvious` features which help build and maintain large models."
   ]
  },
  {
   "cell_type": "markdown",
   "id": "802d4cb9",
   "metadata": {},
   "source": [
    "## Dependencies"
   ]
  },
  {
   "cell_type": "markdown",
   "id": "3857d53d",
   "metadata": {},
   "source": [
    "## Annotations"
   ]
  },
  {
   "cell_type": "markdown",
   "id": "bebd2cc4",
   "metadata": {},
   "source": [
    "## Fragments"
   ]
  },
  {
   "cell_type": "code",
   "execution_count": null,
   "id": "6b2e7b2b",
   "metadata": {},
   "outputs": [],
   "source": []
  }
 ],
 "metadata": {
  "kernelspec": {
   "display_name": "Python 3 (ipykernel)",
   "language": "python",
   "name": "python3"
  },
  "language_info": {
   "codemirror_mode": {
    "name": "ipython",
    "version": 3
   },
   "file_extension": ".py",
   "mimetype": "text/x-python",
   "name": "python",
   "nbconvert_exporter": "python",
   "pygments_lexer": "ipython3",
   "version": "3.11.4"
  }
 },
 "nbformat": 4,
 "nbformat_minor": 5
}
