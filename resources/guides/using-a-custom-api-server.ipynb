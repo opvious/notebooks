{
  "cells": [
    {
      "cell_type": "markdown",
      "id": "ae17559e",
      "metadata": {},
      "source": [
        "# Using a custom API server\n",
        "\n",
        "In this notebook we go over the steps required to set up and connect to a self-hosted [API server](https://hub.docker.com/r/opvious/api-server).\n",
        "\n",
        "\n",
        "## Installation\n",
        "\n",
        "\n",
        "The simplest way is via the [Opvious CLI](https://www.npmjs.com/package/opvious-cli#starting-an-api-server):\n",
        "\n",
        "```sh\n",
        "npm install -g opvious-cli\n",
        "opvious api start\n",
        "```\n",
        "\n",
        "You can stop the server at any point:\n",
        "\n",
        "```sh\n",
        "opvious api stop\n",
        "```\n",
        "\n",
        "\n",
        "## Connection\n",
        "\n",
        "\n",
        "You can use any API server's endpoint instead of the default Opvious cloud for all SDKs by setting the `OPVIOUS_ENDPOINT` environment variable accordingly, here http://localhost:8080. Consider also creating an [alternate configuration profile](https://www.npmjs.com/package/opvious-cli#configuration-profiles) pointing to it.\n",
        "\n",
        "\n",
        "\n",
        "## Authentication\n",
        "\n",
        "The server's `STATIC_TOKENS` environment variable is used to specify a comma-separated list of static API tokens for authenticating API requests. Each entry's format is `<email>=<token>`, where `<email>` is the associated account's email. These tokens can then be used as regular API tokens in SDKs by prefixing them with `static:`. For example requests to a server configured with `STATIC_TOKENS=admin@example.com=secret` can be authenticated as `admin@example.com` by setting `OPVIOUS_TOKEN=static:secret`."
      ]
    },
    {
      "cell_type": "code",
      "execution_count": 1,
      "id": "75b0bdbb",
      "metadata": {},
      "outputs": [],
      "source": []
    }
  ],
  "metadata": {
    "kernelspec": {
      "display_name": "Python 3 (ipykernel)",
      "language": "python",
      "name": "python3"
    },
    "language_info": {
      "codemirror_mode": {
        "name": "ipython",
        "version": 3
      },
      "file_extension": ".py",
      "mimetype": "text/x-python",
      "name": "python",
      "nbconvert_exporter": "python",
      "pygments_lexer": "ipython3",
      "version": "3.11.4"
    }
  },
  "nbformat": 4,
  "nbformat_minor": 5
}