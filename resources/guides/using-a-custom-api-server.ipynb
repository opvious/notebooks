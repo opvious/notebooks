{
  "cells": [
    {
      "cell_type": "markdown",
      "id": "ae17559e",
      "metadata": {},
      "source": [
        "# Using a custom API server\n",
        "\n",
        "In this notebook we go over the steps required to set up and connect to a self-hosted [API server](https://hub.docker.com/r/opvious/api-server), allowing you to host your own Opvious platform.\n",
        "\n",
        "<div class=\"alert alert-block alert-warning\">\n",
        "    &#9888; The API server's image is subject to the <a href=\"https://www.opvious.io/end-user-license-agreements/api-image\">Opvious API image EULA</a>. Commercial use requires a separate license which can be requested <a href=\"https://forms.gle/8ZP2zr91TY9TPcp66\">here</a>.\n",
        "</div>\n",
        "\n",
        "\n",
        "## Running the server\n",
        "\n",
        "The simplest way to download and run the API server is with the [Opvious CLI](https://www.npmjs.com/package/opvious-cli#starting-an-api-server):\n",
        "\n",
        "```sh\n",
        "npm install -g opvious-cli # Install the CLI\n",
        "opvious api start # Download and start the API server\n",
        "```\n",
        "\n",
        "Refer to the CLI's README or run `opvious api --help` to view the list of available commands. You may also be interested in the server's telemetry configuration options described [here](https://hub.docker.com/r/opvious/api-server).\n",
        "\n",
        "\n",
        "## Connecting to the server\n",
        "\n",
        "Once the API server is running, the next step is to use it from the SDKs. To do so, simply set the `OPVIOUS_ENDPOINT` environment variable to the server's endpoint (http://localhost:8080 if started via the CLI with default options).\n",
        "\n",
        "You may also find it useful to create an [alternate configuration profile](https://www.npmjs.com/package/opvious-cli#configuration-profiles) pointing to it.\n",
        "\n",
        "\n",
        "\n",
        "## Authenticating requests\n",
        "\n",
        "The server's `STATIC_TOKENS` environment variable is used to specify a comma-separated list of static API tokens for authenticating API requests. Each entry's format is `<email>=<token>`, where `<email>` is the associated account's email. When using the CLI, this variable is set with the `-t` option:\n",
        "\n",
        "```sh\n",
        "opvious api start -t user@example.com=secret-token\n",
        "```\n",
        "\n",
        "These tokens can then be used as regular API tokens in SDKs by prefixing them with `static:`. For example requests to the server started with the command just above can be authenticated as `user@example.com` by setting `OPVIOUS_TOKEN=static:secret-token`."
      ]
    },
    {
      "cell_type": "code",
      "execution_count": 1,
      "id": "75b0bdbb",
      "metadata": {},
      "outputs": [],
      "source": []
    }
  ],
  "metadata": {
    "kernelspec": {
      "display_name": "Python 3 (ipykernel)",
      "language": "python",
      "name": "python3"
    },
    "language_info": {
      "codemirror_mode": {
        "name": "ipython",
        "version": 3
      },
      "file_extension": ".py",
      "mimetype": "text/x-python",
      "name": "python",
      "nbconvert_exporter": "python",
      "pygments_lexer": "ipython3",
      "version": "3.11.5"
    }
  },
  "nbformat": 4,
  "nbformat_minor": 5
}