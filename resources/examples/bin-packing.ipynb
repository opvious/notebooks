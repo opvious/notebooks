{
  "cells": [
    {
      "cell_type": "markdown",
      "id": "b684e857",
      "metadata": {},
      "source": [
        "# Bin packing\n",
        "\n",
        "<div class=\"alert alert-block alert-info\">\n",
        "    &#9432; The code in this notebook can be executed <a href=\"https://www.opvious.io/notebooks/retro/notebooks/?path=examples/bin-packing.ipynb\">directly from your browser</a>.\n",
        "</div>\n",
        "\n",
        "This notebook contains a mixed-integer program implementation of the canonical [bin packing problem](https://en.wikipedia.org/wiki/Bin_packing_problem)."
      ]
    },
    {
      "cell_type": "code",
      "execution_count": 1,
      "id": "4de08d3a",
      "metadata": {},
      "outputs": [],
      "source": [
        "%pip install opvious"
      ]
    },
    {
      "cell_type": "markdown",
      "id": "943d9b31",
      "metadata": {},
      "source": [
        "## Formulation\n",
        "\n",
        "The first step is to formulate the problem problem using `opvious`' [declarative modeling API](https://opvious.readthedocs.io/en/stable/modeling.html)."
      ]
    },
    {
      "cell_type": "code",
      "execution_count": 2,
      "id": "ce1a5f1a-f6eb-499a-98b7-bd3aefe5687a",
      "metadata": {},
      "outputs": [],
      "source": [
        "import opvious.modeling as om\n",
        "\n",
        "class BinPacking(om.Model):\n",
        "    \"\"\"Bin-packing MIP formulation\"\"\"\n",
        "    \n",
        "    items = om.Dimension() # Set of items to be put into bins\n",
        "    weight = om.Parameter.non_negative(items) # Weight of each item\n",
        "    bins = om.interval(1, om.size(items), name=\"B\") # Set of bins\n",
        "    max_weight = om.Parameter.non_negative() # Maximum weight allowed in a bin\n",
        "    assigned = om.Variable.indicator(bins, items, qualifiers=['bins']) # 1 if an item is assigned to a given bin, 0 otherwise\n",
        "    used = om.Variable.indicator(bins) # 1 if a bin is used, 0 otherwise\n",
        "\n",
        "    @om.constraint\n",
        "    def each_item_is_assigned_once(self):\n",
        "        \"\"\"Constrains each item to be assigned to exactly one bin\"\"\"\n",
        "        for i in self.items:\n",
        "            yield om.total(self.assigned(b, i) for b in self.bins) == 1\n",
        "\n",
        "    @om.constraint\n",
        "    def bin_weights_are_below_max(self):\n",
        "        \"\"\"Constrains each bin's total weight to be below the maximum allowed\"\"\"\n",
        "        for b in self.bins:\n",
        "            bin_weight = om.total(self.weight(i) * self.assigned(b, i) for i in self.items)\n",
        "            yield bin_weight <= self.used(b) * self.max_weight()\n",
        "\n",
        "    @om.objective\n",
        "    def minimize_bins_used(self):\n",
        "        \"\"\"Minimizes the total number of bins with at least one item\"\"\"\n",
        "        return om.total(self.used(b) for b in self.bins)\n",
        "\n",
        "model = BinPacking()"
      ]
    },
    {
      "cell_type": "markdown",
      "id": "836c8e75-c502-4602-bfab-c1be4441b2f7",
      "metadata": {},
      "source": [
        "We can view its mathematical definitions by printing its `specification`."
      ]
    },
    {
      "cell_type": "code",
      "execution_count": 3,
      "id": "dc546583-d65d-474d-b84b-e654e7135234",
      "metadata": {},
      "outputs": [
        {
          "data": {
            "text/markdown": "<div style=\"margin-top: 1em; margin-bottom: 1em;\">\n<details open>\n<summary style=\"cursor: pointer; text-decoration: underline; text-decoration-style: dotted;\">BinPacking</summary>\n<div style=\"margin-top: 1em;\">\n$$\n\\begin{align*}\n  \\S^d_\\mathrm{items}&: I \\\\\n  \\S^p_\\mathrm{weight}&: w \\in \\mathbb{R}_+^{I} \\\\\n  \\S^a&: B \\doteq \\{ 1 \\ldots \\# I \\} \\\\\n  \\S^p_\\mathrm{maxWeight}&: w^\\mathrm{max} \\in \\mathbb{R}_+ \\\\\n  \\S^v_\\mathrm{assigned[bins]}&: \\alpha \\in \\{0, 1\\}^{B \\times I} \\\\\n  \\S^v_\\mathrm{used}&: \\psi \\in \\{0, 1\\}^{B} \\\\\n  \\S^c_\\mathrm{eachItemIsAssignedOnce}&: \\forall i \\in I, \\sum_{b \\in B} \\alpha_{b,i} = 1 \\\\\n  \\S^c_\\mathrm{binWeightsAreBelowMax}&: \\forall b \\in B, \\sum_{i \\in I} w_{i} \\alpha_{b,i} \\leq \\psi_{b} w^\\mathrm{max} \\\\\n  \\S^o_\\mathrm{minimizeBinsUsed}&: \\min \\sum_{b \\in B} \\psi_{b} \\\\\n\\end{align*}\n$$\n</div>\n</details>\n</div>",
            "text/plain": "LocalSpecification(sources=[LocalSpecificationSource(text='$$\\n\\\\begin{align*}\\n  \\\\S^d_\\\\mathrm{items}&: I \\\\\\\\\\n  \\\\S^p_\\\\mathrm{weight}&: w \\\\in \\\\mathbb{R}_+^{I} \\\\\\\\\\n  \\\\S^a&: B \\\\doteq \\\\{ 1 \\\\ldots \\\\# I \\\\} \\\\\\\\\\n  \\\\S^p_\\\\mathrm{maxWeight}&: w^\\\\mathrm{max} \\\\in \\\\mathbb{R}_+ \\\\\\\\\\n  \\\\S^v_\\\\mathrm{assigned[bins]}&: \\\\alpha \\\\in \\\\{0, 1\\\\}^{B \\\\times I} \\\\\\\\\\n  \\\\S^v_\\\\mathrm{used}&: \\\\psi \\\\in \\\\{0, 1\\\\}^{B} \\\\\\\\\\n  \\\\S^c_\\\\mathrm{eachItemIsAssignedOnce}&: \\\\forall i \\\\in I, \\\\sum_{b \\\\in B} \\\\alpha_{b,i} = 1 \\\\\\\\\\n  \\\\S^c_\\\\mathrm{binWeightsAreBelowMax}&: \\\\forall b \\\\in B, \\\\sum_{i \\\\in I} w_{i} \\\\alpha_{b,i} \\\\leq \\\\psi_{b} w^\\\\mathrm{max} \\\\\\\\\\n  \\\\S^o_\\\\mathrm{minimizeBinsUsed}&: \\\\min \\\\sum_{b \\\\in B} \\\\psi_{b} \\\\\\\\\\n\\\\end{align*}\\n$$', title='BinPacking')], description='Bin-packing MIP formulation', annotation=None)"
          },
          "execution_count": 29,
          "metadata": {},
          "output_type": "execute_result"
        }
      ],
      "source": [
        "model.specification()"
      ]
    },
    {
      "cell_type": "markdown",
      "id": "7e1a8819",
      "metadata": {},
      "source": [
        "## Application\n",
        "\n",
        "Now that we have formulated the problem, it takes just a few lines to get solutions. Since all solves run remotely--no local solver installation required--we can run it from any browser."
      ]
    },
    {
      "cell_type": "code",
      "execution_count": 4,
      "id": "adad2341",
      "metadata": {},
      "outputs": [],
      "source": [
        "import opvious\n",
        "\n",
        "async def optimal_assignment(bin_max_weight, item_weights):\n",
        "    \"\"\"Returns a grouping of items which minimizes the number of bins used\n",
        "    \n",
        "    Args:\n",
        "        bin_max_weight: The maximum allowable total weight for all items assigned to a given bin\n",
        "        item_weights: Mapping from item name to its (non-negative) weight\n",
        "    \"\"\"\n",
        "    problem = opvious.Problem(\n",
        "        specification=model.specification(),\n",
        "        parameters={'weight': item_weights, 'maxWeight': bin_max_weight},\n",
        "    )\n",
        "    client = opvious.Client.from_environment(default_endpoint=opvious.DEMO_ENDPOINT)\n",
        "    solution = await client.solve(problem)\n",
        "    assignment = solution.outputs.variable('assigned')\n",
        "    return list(assignment.reset_index().groupby('bins')['items'].agg(tuple))"
      ]
    },
    {
      "cell_type": "markdown",
      "id": "8a316944",
      "metadata": {},
      "source": [
        "Let's try our implementation on a simple example with 3 items."
      ]
    },
    {
      "cell_type": "code",
      "execution_count": 5,
      "id": "337b269c",
      "metadata": {},
      "outputs": [
        {
          "data": {
            "text/plain": "[('heavy',), ('light', 'medium')]"
          },
          "execution_count": 57,
          "metadata": {},
          "output_type": "execute_result"
        }
      ],
      "source": [
        "await optimal_assignment(15, {\n",
        "    'light': 5,\n",
        "    'medium': 10,\n",
        "    'heavy': 15,\n",
        "})"
      ]
    },
    {
      "cell_type": "markdown",
      "id": "def23c1b-ed9a-4f60-a751-6468d620138a",
      "metadata": {},
      "source": [
        "That's it for this example! From here, you might be interested in browsing our [other notebooks](https://www.opvious.io/notebooks/retro)."
      ]
    },
    {
      "cell_type": "code",
      "execution_count": 6,
      "id": "eb97d7f7-66f4-4904-aba9-169e1fa26ad6",
      "metadata": {},
      "outputs": [],
      "source": []
    }
  ],
  "metadata": {
    "kernelspec": {
      "display_name": "Python 3 (ipykernel)",
      "language": "python",
      "name": "python3"
    },
    "language_info": {
      "codemirror_mode": {
        "name": "ipython",
        "version": 3
      },
      "file_extension": ".py",
      "mimetype": "text/x-python",
      "name": "python",
      "nbconvert_exporter": "python",
      "pygments_lexer": "ipython3",
      "version": "3.12.7"
    }
  },
  "nbformat": 4,
  "nbformat_minor": 5
}