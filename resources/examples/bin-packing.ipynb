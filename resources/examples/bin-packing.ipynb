{
  "cells": [
    {
      "cell_type": "markdown",
      "id": "b684e857",
      "metadata": {},
      "source": [
        "# Bin packing"
      ]
    },
    {
      "cell_type": "code",
      "execution_count": 1,
      "id": "4de08d3a",
      "metadata": {},
      "outputs": [],
      "source": [
        "%pip install opvious"
      ]
    },
    {
      "cell_type": "markdown",
      "id": "943d9b31",
      "metadata": {},
      "source": [
        "## Formulation"
      ]
    },
    {
      "cell_type": "code",
      "execution_count": 2,
      "id": "e7d077c8",
      "metadata": {},
      "outputs": [
        {
          "data": {
            "text/markdown": "<div style=\"margin-top: 1em; margin-bottom: 1em;\">\n<details open>\n<summary style=\"cursor: pointer; text-decoration: underline; text-decoration-style: dotted;\">BinPacking</summary>\n<div style=\"margin-top: 1em;\">\n$$\n\\begin{align*}\n  \\S^d_\\mathrm{items}&: I \\\\\n  \\S^p_\\mathrm{weight}&: w \\in \\mathbb{R}_+^{I} \\\\\n  \\S^a&: B \\doteq \\{ 1 \\ldots \\# I \\} \\\\\n  \\S^p_\\mathrm{maxWeight}&: w^\\mathrm{max} \\in \\mathbb{R}_+ \\\\\n  \\S^v_\\mathrm{assigned[bins]}&: \\alpha \\in \\{0, 1\\}^{B \\times I} \\\\\n  \\S^v_\\mathrm{used}&: \\psi \\in \\{0, 1\\}^{B} \\\\\n  \\S^c_\\mathrm{usedActivates}&: \\forall b \\in B, i \\in I, \\psi_{b} \\geq \\alpha_{b,i} \\\\\n  \\S^c_\\mathrm{eachItemIsAssignedOnce}&: \\forall i \\in I, \\sum_{b \\in B} \\alpha_{b,i} = 1 \\\\\n  \\S^c_\\mathrm{binWeightsAreBelowMax}&: \\forall b \\in B, \\sum_{i \\in I} w_{i} \\alpha_{b,i} \\leq w^\\mathrm{max} \\\\\n  \\S^o_\\mathrm{minimizeBinsUsed}&: \\min \\sum_{b \\in B} \\psi_{b} \\\\\n\\end{align*}\n$$\n</div>\n</details>\n</div>",
            "text/plain": "LocalSpecification(sources=[LocalSpecificationSource(text='$$\\n\\\\begin{align*}\\n  \\\\S^d_\\\\mathrm{items}&: I \\\\\\\\\\n  \\\\S^p_\\\\mathrm{weight}&: w \\\\in \\\\mathbb{R}_+^{I} \\\\\\\\\\n  \\\\S^a&: B \\\\doteq \\\\{ 1 \\\\ldots \\\\# I \\\\} \\\\\\\\\\n  \\\\S^p_\\\\mathrm{maxWeight}&: w^\\\\mathrm{max} \\\\in \\\\mathbb{R}_+ \\\\\\\\\\n  \\\\S^v_\\\\mathrm{assigned[bins]}&: \\\\alpha \\\\in \\\\{0, 1\\\\}^{B \\\\times I} \\\\\\\\\\n  \\\\S^v_\\\\mathrm{used}&: \\\\psi \\\\in \\\\{0, 1\\\\}^{B} \\\\\\\\\\n  \\\\S^c_\\\\mathrm{usedActivates}&: \\\\forall b \\\\in B, i \\\\in I, \\\\psi_{b} \\\\geq \\\\alpha_{b,i} \\\\\\\\\\n  \\\\S^c_\\\\mathrm{eachItemIsAssignedOnce}&: \\\\forall i \\\\in I, \\\\sum_{b \\\\in B} \\\\alpha_{b,i} = 1 \\\\\\\\\\n  \\\\S^c_\\\\mathrm{binWeightsAreBelowMax}&: \\\\forall b \\\\in B, \\\\sum_{i \\\\in I} w_{i} \\\\alpha_{b,i} \\\\leq w^\\\\mathrm{max} \\\\\\\\\\n  \\\\S^o_\\\\mathrm{minimizeBinsUsed}&: \\\\min \\\\sum_{b \\\\in B} \\\\psi_{b} \\\\\\\\\\n\\\\end{align*}\\n$$', title='BinPacking')], description='Bin-packing MIP formulation', annotation=None)"
          },
          "execution_count": 2,
          "metadata": {},
          "output_type": "execute_result"
        }
      ],
      "source": [
        "import opvious.modeling as om\n",
        "\n",
        "class BinPacking(om.Model):\n",
        "    \"\"\"Bin-packing MIP formulation\"\"\"\n",
        "    \n",
        "    items = om.Dimension()\n",
        "    weight = om.Parameter.non_negative(items)\n",
        "    bins = om.interval(1, om.size(items), name=\"B\")\n",
        "    max_weight = om.Parameter.non_negative()\n",
        "\n",
        "    assigned = om.Variable.indicator(bins, items, qualifiers=['bins'])\n",
        "    used = om.fragments.ActivationVariable(assigned, projection=1)\n",
        "\n",
        "    @om.constraint\n",
        "    def each_item_is_assigned_once(self):\n",
        "        for i in self.items:\n",
        "            yield om.total(self.assigned(b, i) for b in self.bins) == 1\n",
        "\n",
        "    @om.constraint\n",
        "    def bin_weights_are_below_max(self):\n",
        "        for b in self.bins:\n",
        "            bin_weight = om.total(self.weight(i) * self.assigned(b, i) for i in self.items)\n",
        "            yield bin_weight <= self.max_weight()\n",
        "\n",
        "    @om.objective\n",
        "    def minimize_bins_used(self):\n",
        "        return om.total(self.used(b) for b in self.bins)\n",
        "\n",
        "model = BinPacking()\n",
        "model.specification()"
      ]
    },
    {
      "cell_type": "markdown",
      "id": "7e1a8819",
      "metadata": {},
      "source": [
        "## Application"
      ]
    },
    {
      "cell_type": "code",
      "execution_count": 3,
      "id": "adad2341",
      "metadata": {},
      "outputs": [],
      "source": [
        "import opvious\n",
        "\n",
        "async def optimal_assignment(bin_max_weight, item_weights):\n",
        "    \"\"\"Returns a grouping of items which minimizes the number of bins used\n",
        "    \n",
        "    Args:\n",
        "        bin_max_weight: The maximum allowable total weight for all items assigned to a given bin\n",
        "        item_weights: Mapping from item name to its (non-negative) weight\n",
        "    \"\"\"\n",
        "    problem = opvious.Problem(\n",
        "        specification=model.specification(),\n",
        "        parameters={'weight': item_weights, 'maxWeight': bin_max_weight},\n",
        "    )\n",
        "    solution = await opvious.Client.default().solve(problem)\n",
        "    assignment = solution.outputs.variable('assigned')\n",
        "    return list(assignment.reset_index().groupby('bins')['items'].agg(tuple))"
      ]
    },
    {
      "cell_type": "markdown",
      "id": "8a316944",
      "metadata": {},
      "source": [
        "## Example"
      ]
    },
    {
      "cell_type": "code",
      "execution_count": 4,
      "id": "337b269c",
      "metadata": {},
      "outputs": [
        {
          "data": {
            "text/plain": "[('light', 'medium'), ('heavy',)]"
          },
          "execution_count": 4,
          "metadata": {},
          "output_type": "execute_result"
        }
      ],
      "source": [
        "await optimal_assignment(15, {\n",
        "    'light': 5,\n",
        "    'medium': 10,\n",
        "    'heavy': 15,\n",
        "})"
      ]
    },
    {
      "cell_type": "code",
      "execution_count": 5,
      "id": "2a705492",
      "metadata": {},
      "outputs": [],
      "source": []
    }
  ],
  "metadata": {
    "kernelspec": {
      "display_name": "Python 3 (ipykernel)",
      "language": "python",
      "name": "python3"
    },
    "language_info": {
      "codemirror_mode": {
        "name": "ipython",
        "version": 3
      },
      "file_extension": ".py",
      "mimetype": "text/x-python",
      "name": "python",
      "nbconvert_exporter": "python",
      "pygments_lexer": "ipython3",
      "version": "3.11.5"
    }
  },
  "nbformat": 4,
  "nbformat_minor": 5
}