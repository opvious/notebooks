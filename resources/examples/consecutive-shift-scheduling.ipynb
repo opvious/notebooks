{
  "cells": [
    {
      "cell_type": "markdown",
      "id": "4070080c",
      "metadata": {},
      "source": [
        "# Consecutive shift scheduling\n",
        "\n",
        "<div class=\"alert alert-block alert-info\">\n",
        "    &#9432; The code in this notebook requires a valid Opvious API token. You may execute it from your browser <a href=\"https://www.opvious.io/examples/retro/notebooks/?path=sudoku.ipynb\">here</a> if you update the client's creation below to use an explicit API token.\n",
        "</div>"
      ]
    },
    {
      "cell_type": "code",
      "execution_count": 1,
      "id": "8810afaa",
      "metadata": {},
      "outputs": [],
      "source": [
        "%pip install 'opvious>=0.16.8'"
      ]
    },
    {
      "cell_type": "markdown",
      "id": "b51d0bcf",
      "metadata": {},
      "source": [
        "## Formulation"
      ]
    },
    {
      "cell_type": "code",
      "execution_count": 2,
      "id": "b4314a0c",
      "metadata": {},
      "outputs": [
        {
          "data": {
            "text/markdown": "<div style=\"margin-top: 1em; margin-bottom: 1em;\">\n<details open>\n<summary style=\"cursor: pointer; text-decoration: underline; text-decoration-style: dotted;\">ConsecutiveShiftScheduling</summary>\n<div style=\"margin-top: 1em;\">\n$$\n\\begin{align*}\n  \\S^d_\\mathrm{employees}&: E \\\\\n  \\S^d_\\mathrm{shifts}&: S \\\\\n  \\S^p_\\mathrm{level}&: l \\in \\mathbb{N}^{E} \\\\\n  \\S^p_\\mathrm{resource}&: r \\in \\mathbb{N}^{S} \\\\\n  \\S^p_\\mathrm{horizon}&: h \\in \\mathbb{N} \\\\\n  \\S^a&: D \\doteq \\{ 1 \\ldots h \\} \\\\\n  \\S^v_\\mathrm{schedule[days]}&: \\sigma \\in \\{0, 1\\}^{D \\times E \\times S} \\\\\n  \\S^o_\\mathrm{maximizeTotalLevel}&: \\max \\sum_{d \\in D, e \\in E, s \\in S} l_{e} \\sigma_{d,e,s} \\\\\n  \\S^c_\\mathrm{atMostOneShift}&: \\forall d \\in D, e \\in E, \\sum_{s \\in S} \\sigma_{d,e,s} \\leq 1 \\\\\n  \\S^c_\\mathrm{enoughResource}&: \\forall d \\in D, s \\in S, \\sum_{e \\in E} \\sigma_{d,e,s} \\geq r_{s} \\\\\n  \\S^c_\\mathrm{sameConsecutiveShift}&: \\forall d \\in D, e \\in E, s \\in S \\mid d < h, \\sigma_{d,e,s} + \\sum_{s' \\in S \\mid s' \\neq s} \\sigma_{d + 1,e,s'} \\leq 1 \\\\\n  \\S^c_\\mathrm{rotatingShift}&: \\forall d \\in D, e \\in E, s \\in S \\mid d < h - 13, \\sigma_{d,e,s} + \\sigma_{d + 7,e,s} + \\sigma_{d + 14,e,s} \\leq 2 \\\\\n  \\S^c_\\mathrm{atMostFiveShiftsPerWeek}&: \\forall d \\in D, e \\in E \\mid d < h - 5, \\sum_{x \\in \\{ d \\ldots d + 6 \\}} \\lambda_{x,e} \\geq 2 \\\\\n  \\S^c_\\mathrm{consecutiveTimeOff}&: \\forall d \\in D, e \\in E \\mid d < h - 1, \\lambda_{d,e} - \\lambda_{d + 1,e} + \\lambda_{d + 2,e} \\geq 0 \\\\\n  \\S^a&: \\forall d \\in D, e \\in E, \\lambda_{d,e} \\doteq 1 - \\sum_{s \\in S} \\sigma_{d,e,s} \\\\\n\\end{align*}\n$$\n</div>\n</details>\n</div>",
            "text/plain": "LocalSpecification(sources=[LocalSpecificationSource(text=\"$$\\n\\\\begin{align*}\\n  \\\\S^d_\\\\mathrm{employees}&: E \\\\\\\\\\n  \\\\S^d_\\\\mathrm{shifts}&: S \\\\\\\\\\n  \\\\S^p_\\\\mathrm{level}&: l \\\\in \\\\mathbb{N}^{E} \\\\\\\\\\n  \\\\S^p_\\\\mathrm{resource}&: r \\\\in \\\\mathbb{N}^{S} \\\\\\\\\\n  \\\\S^p_\\\\mathrm{horizon}&: h \\\\in \\\\mathbb{N} \\\\\\\\\\n  \\\\S^a&: D \\\\doteq \\\\{ 1 \\\\ldots h \\\\} \\\\\\\\\\n  \\\\S^v_\\\\mathrm{schedule[days]}&: \\\\sigma \\\\in \\\\{0, 1\\\\}^{D \\\\times E \\\\times S} \\\\\\\\\\n  \\\\S^o_\\\\mathrm{maximizeTotalLevel}&: \\\\max \\\\sum_{d \\\\in D, e \\\\in E, s \\\\in S} l_{e} \\\\sigma_{d,e,s} \\\\\\\\\\n  \\\\S^c_\\\\mathrm{atMostOneShift}&: \\\\forall d \\\\in D, e \\\\in E, \\\\sum_{s \\\\in S} \\\\sigma_{d,e,s} \\\\leq 1 \\\\\\\\\\n  \\\\S^c_\\\\mathrm{enoughResource}&: \\\\forall d \\\\in D, s \\\\in S, \\\\sum_{e \\\\in E} \\\\sigma_{d,e,s} \\\\geq r_{s} \\\\\\\\\\n  \\\\S^c_\\\\mathrm{sameConsecutiveShift}&: \\\\forall d \\\\in D, e \\\\in E, s \\\\in S \\\\mid d < h, \\\\sigma_{d,e,s} + \\\\sum_{s' \\\\in S \\\\mid s' \\\\neq s} \\\\sigma_{d + 1,e,s'} \\\\leq 1 \\\\\\\\\\n  \\\\S^c_\\\\mathrm{rotatingShift}&: \\\\forall d \\\\in D, e \\\\in E, s \\\\in S \\\\mid d < h - 13, \\\\sigma_{d,e,s} + \\\\sigma_{d + 7,e,s} + \\\\sigma_{d + 14,e,s} \\\\leq 2 \\\\\\\\\\n  \\\\S^c_\\\\mathrm{atMostFiveShiftsPerWeek}&: \\\\forall d \\\\in D, e \\\\in E \\\\mid d < h - 5, \\\\sum_{x \\\\in \\\\{ d \\\\ldots d + 6 \\\\}} \\\\lambda_{x,e} \\\\geq 2 \\\\\\\\\\n  \\\\S^c_\\\\mathrm{consecutiveTimeOff}&: \\\\forall d \\\\in D, e \\\\in E \\\\mid d < h - 1, \\\\lambda_{d,e} - \\\\lambda_{d + 1,e} + \\\\lambda_{d + 2,e} \\\\geq 0 \\\\\\\\\\n  \\\\S^a&: \\\\forall d \\\\in D, e \\\\in E, \\\\lambda_{d,e} \\\\doteq 1 - \\\\sum_{s \\\\in S} \\\\sigma_{d,e,s} \\\\\\\\\\n\\\\end{align*}\\n$$\", title='ConsecutiveShiftScheduling')], description='MIP model to match employees to shifts', annotation=None)"
          },
          "execution_count": 2,
          "metadata": {},
          "output_type": "execute_result"
        }
      ],
      "source": [
        "import opvious.modeling as om\n",
        "\n",
        "class ConsecutiveShiftScheduling(om.Model):\n",
        "    \"\"\"MIP model to match employees to shifts\"\"\"\n",
        "    \n",
        "    employees = om.Dimension()\n",
        "    shifts = om.Dimension()\n",
        "    level = om.Parameter.natural(employees)  # Employee level\n",
        "    resource = om.Parameter.natural(shifts)  # Minimum number of employees per shift\n",
        "    horizon = om.Parameter.natural()  # Number of days to schedule\n",
        "    days = om.interval(1, horizon(), name=\"D\")\n",
        "    schedule = om.Variable.indicator(days, employees, shifts, qualifiers=[\"days\"])\n",
        "\n",
        "    @om.objective\n",
        "    def maximize_total_level(self):\n",
        "        return om.total(\n",
        "            self.level(e) * self.schedule(d, e, s)\n",
        "            for d, e, s in self.days * self.employees * self.shifts\n",
        "        )\n",
        "    \n",
        "    @om.constraint\n",
        "    def at_most_one_shift(self):\n",
        "        \"\"\"Each employee works at most one shift per day\"\"\"\n",
        "        for d, e in self.days * self.employees:\n",
        "            yield om.total(self.schedule(d, e, s) <= 1 for s in self.shifts)\n",
        "            \n",
        "    @om.constraint\n",
        "    def enough_resource(self):\n",
        "        \"\"\"We have enough employees for each shift\"\"\"\n",
        "        for d, s in self.days * self.shifts:\n",
        "            yield om.total(self.schedule(d, e, s) >= self.resource(s) for e in self.employees)\n",
        "            \n",
        "    @om.constraint\n",
        "    def same_consecutive_shift(self):\n",
        "        \"\"\"Employees keep the same shift on consecutive work days\"\"\"\n",
        "        for d, e, s in self.days * self.employees * self.shifts:\n",
        "            if d < self.horizon():\n",
        "                yield self.schedule(d, e, s) + om.total(self.schedule(d+1, e, t) for t in self.shifts if t != s) <= 1\n",
        "\n",
        "    @om.constraint\n",
        "    def rotating_shift(self):\n",
        "        \"\"\"Employees rotate shifts at least once every two weeks\"\"\"\n",
        "        for d, e, s in self.days * self.employees * self.shifts:\n",
        "            if d < self.horizon() - 13:\n",
        "                yield self.schedule(d, e, s) + self.schedule(d+7, e, s) + self.schedule(d+14, e, s) <= 2\n",
        "\n",
        "    @om.alias(r\"\\lambda\", days, employees)\n",
        "    def unscheduled(self, d, e):\n",
        "        \"\"\"Convenience expression indicating whether an employee is off on a given day\"\"\"\n",
        "        return 1 - om.total(self.schedule(d, e, s) for s in self.shifts)\n",
        "                \n",
        "    @om.constraint\n",
        "    def at_most_five_shifts_per_week(self):\n",
        "        \"\"\"Each employee works at most 5 days per week\"\"\"\n",
        "        for d, e in self.days * self.employees:\n",
        "            if d < self.horizon() - 5:\n",
        "                yield om.total(self.unscheduled(f, e) for f in om.interval(d, d+6)) >= 2\n",
        "                \n",
        "    @om.constraint\n",
        "    def consecutive_time_off(self):\n",
        "        \"\"\"Employees have at least two days off at a time\"\"\"\n",
        "        for d, e in self.days * self.employees:\n",
        "            if d < self.horizon() - 1:\n",
        "                yield self.unscheduled(d, e) - self.unscheduled(d+1, e) + self.unscheduled(d+2,e) >= 0\n",
        "\n",
        "                \n",
        "model = ConsecutiveShiftScheduling()\n",
        "model.specification()"
      ]
    },
    {
      "cell_type": "markdown",
      "id": "dd8abe2d",
      "metadata": {},
      "source": [
        "## Application"
      ]
    },
    {
      "cell_type": "code",
      "execution_count": 3,
      "id": "08513f87",
      "metadata": {},
      "outputs": [
        {
          "name": "stderr",
          "output_type": "stream",
          "text": "INFO:opvious.client.handlers:Validated inputs. [parameters=10]\nINFO:opvious.client.handlers:Attempt is queued... [elapsed=155 milliseconds]\nINFO:opvious.client.handlers:Attempt is running... [elapsed=970 milliseconds, gap=inf, cuts=0, iterations=588]\nINFO:opvious.client.handlers:Attempt is running... [elapsed=a second, gap=inf, cuts=0, iterations=588]\nINFO:opvious.client.handlers:Attempt is running... [elapsed=3 seconds, gap=inf, cuts=0, iterations=588]\nINFO:opvious.client.handlers:Attempt is running... [elapsed=4 seconds, gap=inf, cuts=0, iterations=588]\nINFO:opvious.client.handlers:Attempt is running... [elapsed=7 seconds, gap=inf, cuts=0, iterations=588]\nINFO:opvious.client.handlers:Attempt completed with status OPTIMAL. [objective=315.00000000000006]\n"
        }
      ],
      "source": [
        "import logging\n",
        "import opvious\n",
        "\n",
        "logging.basicConfig(level=logging.INFO)\n",
        "\n",
        "client = opvious.Client.default()  # Add a token argument here to run this from the browser\n",
        "\n",
        "# Store the formulation on the server to be able to queue a solve below\n",
        "specification = await client.register_specification(model.specification(), \"consecutive-shift-scheduling\")\n",
        "\n",
        "# Queue a solve attempt\n",
        "problem = opvious.Problem(\n",
        "    specification,\n",
        "    parameters={\n",
        "        \"horizon\": 21,\n",
        "        \"resource\": {\"open\": 3, \"close\": 2},\n",
        "        \"level\": {chr(65+i): i for i in range(7)}, # A, B, C, ...\n",
        "    },\n",
        ")\n",
        "attempt = await client.queue(problem)\n",
        "\n",
        "# Wait for the solve to complete\n",
        "await client.wait_for_attempt_outcome(attempt)\n",
        "outputs = await client.fetch_attempt_outputs(attempt)"
      ]
    },
    {
      "cell_type": "code",
      "execution_count": 4,
      "id": "08003201",
      "metadata": {},
      "outputs": [],
      "source": [
        "schedule = outputs.variable(\"schedule\")\n",
        "schedule.reset_index().pivot(index=[\"days\"], columns=[\"employees\"], values=[\"shifts\"]).fillna(\"\")"
      ]
    },
    {
      "cell_type": "code",
      "execution_count": 5,
      "id": "766f3086",
      "metadata": {},
      "outputs": [],
      "source": []
    }
  ],
  "metadata": {
    "kernelspec": {
      "display_name": "Python 3 (ipykernel)",
      "language": "python",
      "name": "python3"
    },
    "language_info": {
      "codemirror_mode": {
        "name": "ipython",
        "version": 3
      },
      "file_extension": ".py",
      "mimetype": "text/x-python",
      "name": "python",
      "nbconvert_exporter": "python",
      "pygments_lexer": "ipython3",
      "version": "3.11.4"
    }
  },
  "nbformat": 4,
  "nbformat_minor": 5
}