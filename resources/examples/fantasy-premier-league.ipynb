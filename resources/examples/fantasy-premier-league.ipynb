{
  "cells": [
    {
      "cell_type": "markdown",
      "id": "6a7471e2",
      "metadata": {},
      "source": [
        "# Fantasy Premier League team selection\n",
        "\n",
        "Let's find an optimal team for the [Fantasy Premier League](https://fantasy.premierleague.com/) using [Opvious](https://www.opvious.io)!\n",
        "\n",
        "<div class=\"alert alert-block alert-info\">\n",
        "    &#9432; The code in this notebook can be executed directly from your browser when accessed via <a href=\"https://www.opvious.io/notebooks/retro/notebooks/?path=examples/fantasy-premier-league.ipynb\">https://www.opvious.io/notebooks</a>.\n",
        "</div>\n",
        "\n",
        "## Setup\n",
        "\n",
        "We start by gathering player statistics (team, cost, total points, etc.). The data is available in table format [here](https://gist.github.com/mtth/f59bdde8694223c06f77089b71b48d17)."
      ]
    },
    {
      "cell_type": "code",
      "execution_count": 1,
      "id": "8fc47213",
      "metadata": {
        "scrolled": true
      },
      "outputs": [],
      "source": [
        "%pip install opvious"
      ]
    },
    {
      "cell_type": "code",
      "execution_count": 2,
      "id": "37c8ff1c",
      "metadata": {},
      "outputs": [
        {
          "data": {
            "text/html": "<div>\n<style scoped>\n    .dataframe tbody tr th:only-of-type {\n        vertical-align: middle;\n    }\n\n    .dataframe tbody tr th {\n        vertical-align: top;\n    }\n\n    .dataframe thead th {\n        text-align: right;\n    }\n</style>\n<table border=\"1\" class=\"dataframe\">\n  <thead>\n    <tr style=\"text-align: right;\">\n      <th></th>\n      <th>name</th>\n      <th>team</th>\n      <th>position</th>\n      <th>cost</th>\n      <th>status</th>\n      <th>minutes</th>\n      <th>total_points</th>\n      <th>bonus</th>\n      <th>points_per_game</th>\n      <th>selected_by_percent</th>\n    </tr>\n    <tr>\n      <th>id</th>\n      <th></th>\n      <th></th>\n      <th></th>\n      <th></th>\n      <th></th>\n      <th></th>\n      <th></th>\n      <th></th>\n      <th></th>\n      <th></th>\n    </tr>\n  </thead>\n  <tbody>\n    <tr>\n      <th>Balogun-ARS</th>\n      <td>Balogun</td>\n      <td>ARS</td>\n      <td>FWD</td>\n      <td>4.5</td>\n      <td>Available</td>\n      <td>0</td>\n      <td>0</td>\n      <td>0</td>\n      <td>0.0</td>\n      <td>1.5</td>\n    </tr>\n    <tr>\n      <th>C\u00e9dric-ARS</th>\n      <td>C\u00e9dric</td>\n      <td>ARS</td>\n      <td>DEF</td>\n      <td>4.0</td>\n      <td>Available</td>\n      <td>223</td>\n      <td>10</td>\n      <td>0</td>\n      <td>1.2</td>\n      <td>0.4</td>\n    </tr>\n    <tr>\n      <th>M.Elneny-ARS</th>\n      <td>M.Elneny</td>\n      <td>ARS</td>\n      <td>MID</td>\n      <td>4.5</td>\n      <td>Available</td>\n      <td>111</td>\n      <td>6</td>\n      <td>0</td>\n      <td>1.2</td>\n      <td>0.2</td>\n    </tr>\n    <tr>\n      <th>F\u00e1bio Vieira-ARS</th>\n      <td>F\u00e1bio Vieira</td>\n      <td>ARS</td>\n      <td>MID</td>\n      <td>5.5</td>\n      <td>Available</td>\n      <td>500</td>\n      <td>40</td>\n      <td>2</td>\n      <td>1.8</td>\n      <td>0.1</td>\n    </tr>\n    <tr>\n      <th>Gabriel-ARS</th>\n      <td>Gabriel</td>\n      <td>ARS</td>\n      <td>DEF</td>\n      <td>5.0</td>\n      <td>Available</td>\n      <td>3409</td>\n      <td>146</td>\n      <td>15</td>\n      <td>3.8</td>\n      <td>19.2</td>\n    </tr>\n    <tr>\n      <th>...</th>\n      <td>...</td>\n      <td>...</td>\n      <td>...</td>\n      <td>...</td>\n      <td>...</td>\n      <td>...</td>\n      <td>...</td>\n      <td>...</td>\n      <td>...</td>\n      <td>...</td>\n    </tr>\n    <tr>\n      <th>N.Semedo-WOL</th>\n      <td>N.Semedo</td>\n      <td>WOL</td>\n      <td>DEF</td>\n      <td>4.5</td>\n      <td>Available</td>\n      <td>2633</td>\n      <td>75</td>\n      <td>5</td>\n      <td>2.1</td>\n      <td>0.3</td>\n    </tr>\n    <tr>\n      <th>Toti-WOL</th>\n      <td>Toti</td>\n      <td>WOL</td>\n      <td>DEF</td>\n      <td>4.5</td>\n      <td>Available</td>\n      <td>978</td>\n      <td>43</td>\n      <td>4</td>\n      <td>2.5</td>\n      <td>0.2</td>\n    </tr>\n    <tr>\n      <th>Boubacar Traore-WOL</th>\n      <td>Boubacar Traore</td>\n      <td>WOL</td>\n      <td>MID</td>\n      <td>4.5</td>\n      <td>Available</td>\n      <td>405</td>\n      <td>14</td>\n      <td>0</td>\n      <td>1.4</td>\n      <td>0.6</td>\n    </tr>\n    <tr>\n      <th>Cunha-WOL</th>\n      <td>Cunha</td>\n      <td>WOL</td>\n      <td>FWD</td>\n      <td>5.5</td>\n      <td>Available</td>\n      <td>961</td>\n      <td>39</td>\n      <td>6</td>\n      <td>2.3</td>\n      <td>0.1</td>\n    </tr>\n    <tr>\n      <th>Doherty-WOL</th>\n      <td>Doherty</td>\n      <td>WOL</td>\n      <td>DEF</td>\n      <td>4.5</td>\n      <td>Available</td>\n      <td>663</td>\n      <td>35</td>\n      <td>2</td>\n      <td>2.9</td>\n      <td>0.3</td>\n    </tr>\n  </tbody>\n</table>\n<p>605 rows \u00d7 10 columns</p>\n</div>",
            "text/plain": "                                name team position  cost     status  minutes  \\\nid                                                                             \nBalogun-ARS                  Balogun  ARS      FWD   4.5  Available        0   \nC\u00e9dric-ARS                    C\u00e9dric  ARS      DEF   4.0  Available      223   \nM.Elneny-ARS                M.Elneny  ARS      MID   4.5  Available      111   \nF\u00e1bio Vieira-ARS        F\u00e1bio Vieira  ARS      MID   5.5  Available      500   \nGabriel-ARS                  Gabriel  ARS      DEF   5.0  Available     3409   \n...                              ...  ...      ...   ...        ...      ...   \nN.Semedo-WOL                N.Semedo  WOL      DEF   4.5  Available     2633   \nToti-WOL                        Toti  WOL      DEF   4.5  Available      978   \nBoubacar Traore-WOL  Boubacar Traore  WOL      MID   4.5  Available      405   \nCunha-WOL                      Cunha  WOL      FWD   5.5  Available      961   \nDoherty-WOL                  Doherty  WOL      DEF   4.5  Available      663   \n\n                     total_points  bonus  points_per_game  selected_by_percent  \nid                                                                              \nBalogun-ARS                     0      0              0.0                  1.5  \nC\u00e9dric-ARS                     10      0              1.2                  0.4  \nM.Elneny-ARS                    6      0              1.2                  0.2  \nF\u00e1bio Vieira-ARS               40      2              1.8                  0.1  \nGabriel-ARS                   146     15              3.8                 19.2  \n...                           ...    ...              ...                  ...  \nN.Semedo-WOL                   75      5              2.1                  0.3  \nToti-WOL                       43      4              2.5                  0.2  \nBoubacar Traore-WOL            14      0              1.4                  0.6  \nCunha-WOL                      39      6              2.3                  0.1  \nDoherty-WOL                    35      2              2.9                  0.3  \n\n[605 rows x 10 columns]"
          },
          "execution_count": 1,
          "metadata": {},
          "output_type": "execute_result"
        }
      ],
      "source": [
        "import opvious\n",
        "\n",
        "_PLAYER_DATA_URL = \"https://gist.githubusercontent.com/mtth/f59bdde8694223c06f77089b71b48d17/raw/6f1568cb2ff69450f06e3b8045d504af74bb701f/fpl-2023-07-26.csv\"\n",
        "\n",
        "async def _download_player_data():\n",
        "    \"\"\"Downloads a dataframe of player statistics\"\"\"\n",
        "    df = await opvious.executors.fetch_csv(_PLAYER_DATA_URL)\n",
        "    # Some player names are not unique, we disambiguate by suffixing with the team's name\n",
        "    df[\"id\"] = df.apply(lambda r: f\"{r['name']}-{r['team']}\", axis=1)\n",
        "    return df.set_index(\"id\", verify_integrity=True)\n",
        "\n",
        "player_data = await _download_player_data()\n",
        "player_data"
      ]
    },
    {
      "cell_type": "markdown",
      "id": "05a5cd48",
      "metadata": {},
      "source": [
        "## Formulation\n",
        "\n",
        "The next step is to formulate team selection as an [integer program](https://en.wikipedia.org/wiki/Integer_programming) using `opvious`' [declarative modeling API](https://opvious.readthedocs.io/en/stable/modeling.html). For simplicity we omit transfers and use a multiplication factor to estimate the value of substitute players."
      ]
    },
    {
      "cell_type": "code",
      "execution_count": 3,
      "id": "bba831ab",
      "metadata": {},
      "outputs": [],
      "source": [
        "import opvious.modeling as om\n",
        "\n",
        "class TeamSelection(om.Model):    \n",
        "    players = om.Dimension()\n",
        "    positions = om.Dimension()\n",
        "    teams = om.Dimension()\n",
        "    \n",
        "    # Player data\n",
        "    player_cost = om.Parameter.non_negative(players)\n",
        "    player_value = om.Parameter.non_negative(players)\n",
        "    player_team = om.Parameter.indicator(players, teams)\n",
        "    player_position = om.Parameter.indicator(players, positions)\n",
        "    \n",
        "    # Number of players per position\n",
        "    squad_formation = om.Parameter.natural(positions)\n",
        "    starter_formation = om.Parameter.natural(positions)\n",
        "    \n",
        "    # Model outputs\n",
        "    selected = om.Variable.indicator(players)\n",
        "    is_starter = om.Variable.indicator(players)\n",
        "    is_captain = om.Variable.indicator(players)\n",
        "    is_vice_captain = om.Variable.indicator(players)\n",
        "    \n",
        "    def __init__(self, substitution_factor):\n",
        "        self.substitution_factor = substitution_factor\n",
        "        \n",
        "    @om.constraint\n",
        "    def within_budget(self):\n",
        "        yield om.total(self.selected(p) * self.player_cost(p) for p in self.players) <= 100\n",
        "        \n",
        "    @om.constraint\n",
        "    def at_most_3_per_team(self):\n",
        "        for t in self.teams:\n",
        "            count = om.total(self.selected(p) * self.player_team(p, t) for p in self.players)\n",
        "            yield count <= 3\n",
        "\n",
        "    @om.constraint\n",
        "    def exactly_11_selected_starters(self):\n",
        "        yield self.is_starter.total() == 11\n",
        "        \n",
        "    @om.constraint\n",
        "    def starters_are_selected(self):\n",
        "        for p in self.players:\n",
        "            yield self.is_starter(p) <= self.selected(p)\n",
        "            \n",
        "    @om.constraint\n",
        "    def captain_is_selected_starter(self):\n",
        "        for p in self.players:\n",
        "            yield self.is_captain(p) <= self.is_starter(p)\n",
        "            \n",
        "    @om.constraint\n",
        "    def vice_captain_is_selected_starter(self):\n",
        "        for p in self.players:\n",
        "            yield self.is_vice_captain(p) <= self.is_starter(p)\n",
        "        \n",
        "    @om.constraint\n",
        "    def exactly_one_captain(self):\n",
        "        yield self.is_captain.total() == 1\n",
        "        \n",
        "    @om.constraint\n",
        "    def exactly_one_vice_captain(self):\n",
        "        yield self.is_vice_captain.total() == 1\n",
        "        \n",
        "    @om.constraint\n",
        "    def captain_is_not_vice_captain(self):\n",
        "        for p in self.players:\n",
        "            yield self.is_captain(p) + self.is_vice_captain(p) <= 1\n",
        "    \n",
        "    @om.constraint\n",
        "    def selected_positions_match_formation(self):\n",
        "        for q in self.positions:\n",
        "            count = om.total(self.selected(p) * self.player_position(p, q) for p in self.players)\n",
        "            yield count == self.squad_formation(q)\n",
        "            \n",
        "    @om.constraint\n",
        "    def starter_positions_match_formation(self):\n",
        "        for q in self.positions:\n",
        "            count = om.total(self.is_starter(p) * self.player_position(p, q) for p in self.players)\n",
        "            yield count >= self.starter_formation(q)\n",
        "\n",
        "    def selected_player_value(self, p):\n",
        "        return (\n",
        "            self.substitution_factor * (self.selected(p) + self.is_vice_captain(p)) +\n",
        "            (1 - self.substitution_factor) * self.is_starter(p) + self.is_captain(p)\n",
        "        ) * self.player_value(p)\n",
        "\n",
        "    @om.objective\n",
        "    def maximize_selected_player_value(self):\n",
        "        return om.total(self.selected_player_value(p) for p in self.players)"
      ]
    },
    {
      "cell_type": "markdown",
      "id": "10063da7",
      "metadata": {},
      "source": [
        "## Application\n",
        "\n",
        "We are now ready to combine the above model with the player statistics to find an optimal squad!\n",
        "    \n",
        "_Optimal_ is defined as maximizing the team's value, computed as:\n",
        "\n",
        "* the sum of its starter players' values, plus\n",
        "* the sum of its substitute player's values multiplied by a `substitution_factor` (0.1 by default), plus\n",
        "* the captain's value (achieving the bonus effect since the captain is always a starter), plus\n",
        "* the vice-captain's value multiplied by the `substitution_factor`.\n",
        "\n",
        "Each individual player's value is computed as a weighted average of their total points and points per\n",
        "game (see data table). The weight is controlled by `total_vs_per_game_ratio`: setting this to 1 will\n",
        "only consider total points, setting it to 0 will only consider points per game, 0.5 will use the mean.\n",
        "It's also possible to change players' values by specifying individual value multipliers. Setting a high\n",
        "value for a player will make them more likely to be selected, while setting a 0 multiplier will prevent\n",
        "them from being selected.\n",
        "\n",
        "<div class=\"alert alert-block alert-warning\">\n",
        "    &#9888; You will need an <a href=\"https://hub.cloud.opvious.io/authorizations\">API access token</a> to run the function below since the problem's size exceeds the limit for anonymous requests. To use one, simply insert it in the cell below where indicated.\n",
        "</div>"
      ]
    },
    {
      "cell_type": "code",
      "execution_count": 4,
      "id": "4e0e4842",
      "metadata": {},
      "outputs": [],
      "source": [
        "import opvious\n",
        "import pandas as pd\n",
        "\n",
        "_client = opvious.Client.default(token=None)  # Replace `None` with your API access token\n",
        "\n",
        "async def find_optimal_squad(\n",
        "    substitution_factor=0.1,\n",
        "    total_vs_per_game_ratio=1,\n",
        "    player_multipliers=None,\n",
        "):\n",
        "    \"\"\"Returns a squad which maximizes team value (see above) while respecting FPL rules\"\"\"\n",
        "    players = player_data[player_data['status'] == 'Available'].drop(\"status\", axis=1)\n",
        "    multipliers = player_multipliers or {}\n",
        "    solution = await _client.solve(\n",
        "        opvious.Problem(\n",
        "            TeamSelection(substitution_factor).specification(),\n",
        "            parameters={\n",
        "                \"playerCost\": players[\"cost\"],\n",
        "                \"playerValue\": players.apply(\n",
        "                    lambda r: (\n",
        "                        total_vs_per_game_ratio * r[\"total_points\"] +\n",
        "                        (1 - total_vs_per_game_ratio) * r[\"points_per_game\"]\n",
        "                    ) * multipliers.get(r.name, 1),\n",
        "                    axis=1,\n",
        "                ),\n",
        "                \"playerTeam\": players[\"team\"],\n",
        "                \"playerPosition\": players[\"position\"],\n",
        "                \"squadFormation\": {\"GKP\": 2, \"DEF\": 5, \"MID\": 5, \"FWD\": 3},\n",
        "                \"starterFormation\": {\"GKP\": 1, \"DEF\": 3, \"FWD\": 1},\n",
        "            }\n",
        "        )\n",
        "    )\n",
        "    selected = pd.concat({\n",
        "        key: solution.outputs.variable(key)[\"value\"]\n",
        "        for key in [\"selected\", \"isStarter\", \"isCaptain\", \"isViceCaptain\"]\n",
        "    }, axis=1).fillna(0).astype(int)\n",
        "    return pd.concat([players, selected], axis=1, join=\"inner\").drop([\"selected\", \"name\", \"team\"], axis=1)"
      ]
    },
    {
      "cell_type": "markdown",
      "id": "764a70a6",
      "metadata": {},
      "source": [
        "Let's see what we get when solving with the default parameters (note the three columns on the right which indicate whether a player is on the starting roster, is captain, and is vice-captain)."
      ]
    },
    {
      "cell_type": "code",
      "execution_count": 5,
      "id": "1d92be00",
      "metadata": {},
      "outputs": [
        {
          "data": {
            "text/html": "<div>\n<style scoped>\n    .dataframe tbody tr th:only-of-type {\n        vertical-align: middle;\n    }\n\n    .dataframe tbody tr th {\n        vertical-align: top;\n    }\n\n    .dataframe thead th {\n        text-align: right;\n    }\n</style>\n<table border=\"1\" class=\"dataframe\">\n  <thead>\n    <tr style=\"text-align: right;\">\n      <th></th>\n      <th>position</th>\n      <th>cost</th>\n      <th>minutes</th>\n      <th>total_points</th>\n      <th>bonus</th>\n      <th>points_per_game</th>\n      <th>selected_by_percent</th>\n      <th>isStarter</th>\n      <th>isCaptain</th>\n      <th>isViceCaptain</th>\n    </tr>\n  </thead>\n  <tbody>\n    <tr>\n      <th>Gabriel-ARS</th>\n      <td>DEF</td>\n      <td>5.0</td>\n      <td>3409</td>\n      <td>146</td>\n      <td>15</td>\n      <td>3.8</td>\n      <td>19.2</td>\n      <td>1</td>\n      <td>0</td>\n      <td>0</td>\n    </tr>\n    <tr>\n      <th>Martinelli-ARS</th>\n      <td>MID</td>\n      <td>8.0</td>\n      <td>2789</td>\n      <td>198</td>\n      <td>18</td>\n      <td>5.5</td>\n      <td>14.3</td>\n      <td>1</td>\n      <td>0</td>\n      <td>0</td>\n    </tr>\n    <tr>\n      <th>\u00d8degaard-ARS</th>\n      <td>MID</td>\n      <td>8.5</td>\n      <td>3132</td>\n      <td>212</td>\n      <td>30</td>\n      <td>5.7</td>\n      <td>20.2</td>\n      <td>1</td>\n      <td>0</td>\n      <td>0</td>\n    </tr>\n    <tr>\n      <th>Douglas Luiz-AVL</th>\n      <td>MID</td>\n      <td>5.5</td>\n      <td>2922</td>\n      <td>142</td>\n      <td>17</td>\n      <td>3.8</td>\n      <td>2.9</td>\n      <td>1</td>\n      <td>0</td>\n      <td>0</td>\n    </tr>\n    <tr>\n      <th>Mings-AVL</th>\n      <td>DEF</td>\n      <td>4.5</td>\n      <td>3150</td>\n      <td>130</td>\n      <td>17</td>\n      <td>3.7</td>\n      <td>15.4</td>\n      <td>0</td>\n      <td>0</td>\n      <td>0</td>\n    </tr>\n    <tr>\n      <th>Semenyo-BOU</th>\n      <td>FWD</td>\n      <td>4.5</td>\n      <td>250</td>\n      <td>18</td>\n      <td>1</td>\n      <td>1.6</td>\n      <td>1.7</td>\n      <td>0</td>\n      <td>0</td>\n      <td>0</td>\n    </tr>\n    <tr>\n      <th>Mee-BRE</th>\n      <td>DEF</td>\n      <td>5.0</td>\n      <td>3269</td>\n      <td>143</td>\n      <td>11</td>\n      <td>3.9</td>\n      <td>7.5</td>\n      <td>1</td>\n      <td>0</td>\n      <td>0</td>\n    </tr>\n    <tr>\n      <th>Raya-BRE</th>\n      <td>GKP</td>\n      <td>5.0</td>\n      <td>3420</td>\n      <td>166</td>\n      <td>20</td>\n      <td>4.4</td>\n      <td>9.6</td>\n      <td>1</td>\n      <td>0</td>\n      <td>0</td>\n    </tr>\n    <tr>\n      <th>Gross-BHA</th>\n      <td>MID</td>\n      <td>6.5</td>\n      <td>3240</td>\n      <td>159</td>\n      <td>14</td>\n      <td>4.3</td>\n      <td>4.7</td>\n      <td>1</td>\n      <td>0</td>\n      <td>0</td>\n    </tr>\n    <tr>\n      <th>Alisson-LIV</th>\n      <td>GKP</td>\n      <td>5.5</td>\n      <td>3330</td>\n      <td>162</td>\n      <td>15</td>\n      <td>4.4</td>\n      <td>9.5</td>\n      <td>1</td>\n      <td>0</td>\n      <td>0</td>\n    </tr>\n    <tr>\n      <th>Haaland-MCI</th>\n      <td>FWD</td>\n      <td>14.0</td>\n      <td>2767</td>\n      <td>272</td>\n      <td>40</td>\n      <td>7.8</td>\n      <td>86.2</td>\n      <td>1</td>\n      <td>1</td>\n      <td>0</td>\n    </tr>\n    <tr>\n      <th>Anderson-NEW</th>\n      <td>MID</td>\n      <td>4.5</td>\n      <td>395</td>\n      <td>30</td>\n      <td>2</td>\n      <td>1.4</td>\n      <td>2.7</td>\n      <td>0</td>\n      <td>0</td>\n      <td>0</td>\n    </tr>\n    <tr>\n      <th>Botman-NEW</th>\n      <td>DEF</td>\n      <td>4.5</td>\n      <td>3127</td>\n      <td>129</td>\n      <td>8</td>\n      <td>3.6</td>\n      <td>25.9</td>\n      <td>0</td>\n      <td>0</td>\n      <td>0</td>\n    </tr>\n    <tr>\n      <th>Trippier-NEW</th>\n      <td>DEF</td>\n      <td>6.5</td>\n      <td>3342</td>\n      <td>198</td>\n      <td>39</td>\n      <td>5.2</td>\n      <td>34.6</td>\n      <td>1</td>\n      <td>0</td>\n      <td>0</td>\n    </tr>\n    <tr>\n      <th>Kane-TOT</th>\n      <td>FWD</td>\n      <td>12.5</td>\n      <td>3406</td>\n      <td>263</td>\n      <td>48</td>\n      <td>6.9</td>\n      <td>13.9</td>\n      <td>1</td>\n      <td>0</td>\n      <td>1</td>\n    </tr>\n  </tbody>\n</table>\n</div>",
            "text/plain": "                 position  cost  minutes  total_points  bonus  \\\nGabriel-ARS           DEF   5.0     3409           146     15   \nMartinelli-ARS        MID   8.0     2789           198     18   \n\u00d8degaard-ARS          MID   8.5     3132           212     30   \nDouglas Luiz-AVL      MID   5.5     2922           142     17   \nMings-AVL             DEF   4.5     3150           130     17   \nSemenyo-BOU           FWD   4.5      250            18      1   \nMee-BRE               DEF   5.0     3269           143     11   \nRaya-BRE              GKP   5.0     3420           166     20   \nGross-BHA             MID   6.5     3240           159     14   \nAlisson-LIV           GKP   5.5     3330           162     15   \nHaaland-MCI           FWD  14.0     2767           272     40   \nAnderson-NEW          MID   4.5      395            30      2   \nBotman-NEW            DEF   4.5     3127           129      8   \nTrippier-NEW          DEF   6.5     3342           198     39   \nKane-TOT              FWD  12.5     3406           263     48   \n\n                  points_per_game  selected_by_percent  isStarter  isCaptain  \\\nGabriel-ARS                   3.8                 19.2          1          0   \nMartinelli-ARS                5.5                 14.3          1          0   \n\u00d8degaard-ARS                  5.7                 20.2          1          0   \nDouglas Luiz-AVL              3.8                  2.9          1          0   \nMings-AVL                     3.7                 15.4          0          0   \nSemenyo-BOU                   1.6                  1.7          0          0   \nMee-BRE                       3.9                  7.5          1          0   \nRaya-BRE                      4.4                  9.6          1          0   \nGross-BHA                     4.3                  4.7          1          0   \nAlisson-LIV                   4.4                  9.5          1          0   \nHaaland-MCI                   7.8                 86.2          1          1   \nAnderson-NEW                  1.4                  2.7          0          0   \nBotman-NEW                    3.6                 25.9          0          0   \nTrippier-NEW                  5.2                 34.6          1          0   \nKane-TOT                      6.9                 13.9          1          0   \n\n                  isViceCaptain  \nGabriel-ARS                   0  \nMartinelli-ARS                0  \n\u00d8degaard-ARS                  0  \nDouglas Luiz-AVL              0  \nMings-AVL                     0  \nSemenyo-BOU                   0  \nMee-BRE                       0  \nRaya-BRE                      0  \nGross-BHA                     0  \nAlisson-LIV                   0  \nHaaland-MCI                   0  \nAnderson-NEW                  0  \nBotman-NEW                    0  \nTrippier-NEW                  0  \nKane-TOT                      1  "
          },
          "execution_count": 9,
          "metadata": {},
          "output_type": "execute_result"
        }
      ],
      "source": [
        "await find_optimal_squad()"
      ]
    },
    {
      "cell_type": "markdown",
      "id": "7e941f4a",
      "metadata": {},
      "source": [
        "We also tweak the parameters to get a different team. For example if we:\n",
        "\n",
        "* think that Mohamed Salah is undervalued in the current statistics, and\n",
        "* want to also consider points per game (instead of only total points),\n",
        "\n",
        "we would run it with the following arguments:"
      ]
    },
    {
      "cell_type": "code",
      "execution_count": 6,
      "id": "5451a58d",
      "metadata": {},
      "outputs": [
        {
          "data": {
            "text/html": "<div>\n<style scoped>\n    .dataframe tbody tr th:only-of-type {\n        vertical-align: middle;\n    }\n\n    .dataframe tbody tr th {\n        vertical-align: top;\n    }\n\n    .dataframe thead th {\n        text-align: right;\n    }\n</style>\n<table border=\"1\" class=\"dataframe\">\n  <thead>\n    <tr style=\"text-align: right;\">\n      <th></th>\n      <th>position</th>\n      <th>cost</th>\n      <th>minutes</th>\n      <th>total_points</th>\n      <th>bonus</th>\n      <th>points_per_game</th>\n      <th>selected_by_percent</th>\n      <th>isStarter</th>\n      <th>isCaptain</th>\n      <th>isViceCaptain</th>\n    </tr>\n  </thead>\n  <tbody>\n    <tr>\n      <th>Martinelli-ARS</th>\n      <td>MID</td>\n      <td>8.0</td>\n      <td>2789</td>\n      <td>198</td>\n      <td>18</td>\n      <td>5.5</td>\n      <td>14.3</td>\n      <td>1</td>\n      <td>0</td>\n      <td>0</td>\n    </tr>\n    <tr>\n      <th>\u00d8degaard-ARS</th>\n      <td>MID</td>\n      <td>8.5</td>\n      <td>3132</td>\n      <td>212</td>\n      <td>30</td>\n      <td>5.7</td>\n      <td>20.2</td>\n      <td>1</td>\n      <td>0</td>\n      <td>0</td>\n    </tr>\n    <tr>\n      <th>Saka-ARS</th>\n      <td>MID</td>\n      <td>8.5</td>\n      <td>3183</td>\n      <td>202</td>\n      <td>19</td>\n      <td>5.3</td>\n      <td>53.0</td>\n      <td>1</td>\n      <td>0</td>\n      <td>0</td>\n    </tr>\n    <tr>\n      <th>Archer-AVL</th>\n      <td>FWD</td>\n      <td>4.5</td>\n      <td>43</td>\n      <td>6</td>\n      <td>0</td>\n      <td>1.0</td>\n      <td>6.9</td>\n      <td>0</td>\n      <td>0</td>\n      <td>0</td>\n    </tr>\n    <tr>\n      <th>Douglas Luiz-AVL</th>\n      <td>MID</td>\n      <td>5.5</td>\n      <td>2922</td>\n      <td>142</td>\n      <td>17</td>\n      <td>3.8</td>\n      <td>2.9</td>\n      <td>1</td>\n      <td>0</td>\n      <td>0</td>\n    </tr>\n    <tr>\n      <th>Mings-AVL</th>\n      <td>DEF</td>\n      <td>4.5</td>\n      <td>3150</td>\n      <td>130</td>\n      <td>17</td>\n      <td>3.7</td>\n      <td>15.4</td>\n      <td>1</td>\n      <td>0</td>\n      <td>0</td>\n    </tr>\n    <tr>\n      <th>Semenyo-BOU</th>\n      <td>FWD</td>\n      <td>4.5</td>\n      <td>250</td>\n      <td>18</td>\n      <td>1</td>\n      <td>1.6</td>\n      <td>1.7</td>\n      <td>0</td>\n      <td>0</td>\n      <td>0</td>\n    </tr>\n    <tr>\n      <th>Mee-BRE</th>\n      <td>DEF</td>\n      <td>5.0</td>\n      <td>3269</td>\n      <td>143</td>\n      <td>11</td>\n      <td>3.9</td>\n      <td>7.5</td>\n      <td>1</td>\n      <td>0</td>\n      <td>0</td>\n    </tr>\n    <tr>\n      <th>Raya-BRE</th>\n      <td>GKP</td>\n      <td>5.0</td>\n      <td>3420</td>\n      <td>166</td>\n      <td>20</td>\n      <td>4.4</td>\n      <td>9.6</td>\n      <td>1</td>\n      <td>0</td>\n      <td>0</td>\n    </tr>\n    <tr>\n      <th>Alisson-LIV</th>\n      <td>GKP</td>\n      <td>5.5</td>\n      <td>3330</td>\n      <td>162</td>\n      <td>15</td>\n      <td>4.4</td>\n      <td>9.5</td>\n      <td>1</td>\n      <td>0</td>\n      <td>0</td>\n    </tr>\n    <tr>\n      <th>Salah-LIV</th>\n      <td>MID</td>\n      <td>12.5</td>\n      <td>3290</td>\n      <td>239</td>\n      <td>23</td>\n      <td>6.3</td>\n      <td>24.5</td>\n      <td>1</td>\n      <td>1</td>\n      <td>0</td>\n    </tr>\n    <tr>\n      <th>Botman-NEW</th>\n      <td>DEF</td>\n      <td>4.5</td>\n      <td>3127</td>\n      <td>129</td>\n      <td>8</td>\n      <td>3.6</td>\n      <td>25.9</td>\n      <td>0</td>\n      <td>0</td>\n      <td>0</td>\n    </tr>\n    <tr>\n      <th>Burn-NEW</th>\n      <td>DEF</td>\n      <td>4.5</td>\n      <td>3109</td>\n      <td>129</td>\n      <td>6</td>\n      <td>3.4</td>\n      <td>3.3</td>\n      <td>0</td>\n      <td>0</td>\n      <td>0</td>\n    </tr>\n    <tr>\n      <th>Trippier-NEW</th>\n      <td>DEF</td>\n      <td>6.5</td>\n      <td>3342</td>\n      <td>198</td>\n      <td>39</td>\n      <td>5.2</td>\n      <td>34.6</td>\n      <td>1</td>\n      <td>0</td>\n      <td>0</td>\n    </tr>\n    <tr>\n      <th>Kane-TOT</th>\n      <td>FWD</td>\n      <td>12.5</td>\n      <td>3406</td>\n      <td>263</td>\n      <td>48</td>\n      <td>6.9</td>\n      <td>13.9</td>\n      <td>1</td>\n      <td>0</td>\n      <td>1</td>\n    </tr>\n  </tbody>\n</table>\n</div>",
            "text/plain": "                 position  cost  minutes  total_points  bonus  \\\nMartinelli-ARS        MID   8.0     2789           198     18   \n\u00d8degaard-ARS          MID   8.5     3132           212     30   \nSaka-ARS              MID   8.5     3183           202     19   \nArcher-AVL            FWD   4.5       43             6      0   \nDouglas Luiz-AVL      MID   5.5     2922           142     17   \nMings-AVL             DEF   4.5     3150           130     17   \nSemenyo-BOU           FWD   4.5      250            18      1   \nMee-BRE               DEF   5.0     3269           143     11   \nRaya-BRE              GKP   5.0     3420           166     20   \nAlisson-LIV           GKP   5.5     3330           162     15   \nSalah-LIV             MID  12.5     3290           239     23   \nBotman-NEW            DEF   4.5     3127           129      8   \nBurn-NEW              DEF   4.5     3109           129      6   \nTrippier-NEW          DEF   6.5     3342           198     39   \nKane-TOT              FWD  12.5     3406           263     48   \n\n                  points_per_game  selected_by_percent  isStarter  isCaptain  \\\nMartinelli-ARS                5.5                 14.3          1          0   \n\u00d8degaard-ARS                  5.7                 20.2          1          0   \nSaka-ARS                      5.3                 53.0          1          0   \nArcher-AVL                    1.0                  6.9          0          0   \nDouglas Luiz-AVL              3.8                  2.9          1          0   \nMings-AVL                     3.7                 15.4          1          0   \nSemenyo-BOU                   1.6                  1.7          0          0   \nMee-BRE                       3.9                  7.5          1          0   \nRaya-BRE                      4.4                  9.6          1          0   \nAlisson-LIV                   4.4                  9.5          1          0   \nSalah-LIV                     6.3                 24.5          1          1   \nBotman-NEW                    3.6                 25.9          0          0   \nBurn-NEW                      3.4                  3.3          0          0   \nTrippier-NEW                  5.2                 34.6          1          0   \nKane-TOT                      6.9                 13.9          1          0   \n\n                  isViceCaptain  \nMartinelli-ARS                0  \n\u00d8degaard-ARS                  0  \nSaka-ARS                      0  \nArcher-AVL                    0  \nDouglas Luiz-AVL              0  \nMings-AVL                     0  \nSemenyo-BOU                   0  \nMee-BRE                       0  \nRaya-BRE                      0  \nAlisson-LIV                   0  \nSalah-LIV                     0  \nBotman-NEW                    0  \nBurn-NEW                      0  \nTrippier-NEW                  0  \nKane-TOT                      1  "
          },
          "execution_count": 10,
          "metadata": {},
          "output_type": "execute_result"
        }
      ],
      "source": [
        "await find_optimal_squad(\n",
        "    player_multipliers={\"Salah-LIV\": 1.5}, # 50% value boost\n",
        "    total_vs_per_game_ratio=0.5, # Evaluate players on average of total points and per-game points\n",
        ")"
      ]
    },
    {
      "cell_type": "markdown",
      "id": "46bc2ac4",
      "metadata": {},
      "source": [
        "Up to you to try it out with different parameters and see if you can find your squad!"
      ]
    },
    {
      "cell_type": "code",
      "execution_count": 7,
      "id": "9414b155",
      "metadata": {},
      "outputs": [],
      "source": []
    }
  ],
  "metadata": {
    "kernelspec": {
      "display_name": "Python 3 (ipykernel)",
      "language": "python",
      "name": "python3"
    },
    "language_info": {
      "codemirror_mode": {
        "name": "ipython",
        "version": 3
      },
      "file_extension": ".py",
      "mimetype": "text/x-python",
      "name": "python",
      "nbconvert_exporter": "python",
      "pygments_lexer": "ipython3",
      "version": "3.11.4"
    }
  },
  "nbformat": 4,
  "nbformat_minor": 5
}