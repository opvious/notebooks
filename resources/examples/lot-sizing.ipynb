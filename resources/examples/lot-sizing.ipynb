{
  "cells": [
    {
      "cell_type": "markdown",
      "id": "735d30f4",
      "metadata": {},
      "source": [
        "# Lot sizing\n",
        "\n",
        "<div class=\"alert alert-block alert-info\">\n",
        "    &#9432; The code in this notebook can be executed <a href=\"https://www.opvious.io/examples/retro/notebooks/?path=lot-sizing.ipynb\">directly from your browser</a>.\n",
        "</div>\n",
        "\n",
        "This notebook implements a dynamic lot sizing model, as described in [this blog post](\n",
        "https://towardsdatascience.com/the-dynamic-lot-size-model-a-mixed-integer-programming-approach-4a9440ba124e)."
      ]
    },
    {
      "cell_type": "code",
      "execution_count": 1,
      "id": "27a1bd37",
      "metadata": {},
      "outputs": [],
      "source": [
        "%pip install 'opvious>=0.16.8'"
      ]
    },
    {
      "cell_type": "markdown",
      "id": "55799e99",
      "metadata": {},
      "source": [
        "## Model\n",
        "\n",
        "We start by defining our MIP model using `opvious`' [declarative modeling API](https://opvious.readthedocs.io/en/stable/modeling.html)."
      ]
    },
    {
      "cell_type": "code",
      "execution_count": 2,
      "id": "d1b57ab5",
      "metadata": {},
      "outputs": [
        {
          "data": {
            "text/markdown": "<div style=\"margin-top: 1em; margin-bottom: 1em;\">\n<details open>\n<summary style=\"cursor: pointer; text-decoration: underline; text-decoration-style: dotted;\">LotSizing</summary>\n<div style=\"margin-top: 1em;\">\n$$\n\\begin{align*}\n  \\S^p_\\mathrm{horizon}&: h \\in \\mathbb{N} \\\\\n  \\S^a&: T \\doteq \\{ 0 \\ldots h - 1 \\} \\\\\n  \\S^p_\\mathrm{holdingCost}&: c^\\mathrm{holding} \\in \\mathbb{R}_+^{T} \\\\\n  \\S^p_\\mathrm{setupCost}&: c^\\mathrm{setup} \\in \\mathbb{R}_+^{T} \\\\\n  \\S^p_\\mathrm{demand}&: d \\in \\mathbb{R}_+^{T} \\\\\n  \\S^v_\\mathrm{production}&: \\pi \\in [0, \\sum_{t \\in T} d_{t}]^{T} \\\\\n  \\S^v_\\mathrm{isProducing}&: \\pi^\\mathrm{is} \\in \\{0, 1\\}^{T} \\\\\n  \\S^c_\\mathrm{isProducingActivates}&: \\forall t \\in T, \\sum_{t' \\in T} d_{t'} \\pi^\\mathrm{is}_{t} \\geq \\pi_{t} \\\\\n  \\S^v_\\mathrm{inventory}&: \\iota \\in \\mathbb{R}_+^{T} \\\\\n  \\S^o_\\mathrm{minimizeCost}&: \\min \\sum_{t \\in T} \\left(c^\\mathrm{holding}_{t} \\iota_{t} + c^\\mathrm{setup}_{t} \\pi^\\mathrm{is}_{t}\\right) \\\\\n  \\S^c_\\mathrm{inventoryPropagation}&: \\forall t \\in T, \\iota_{t} = \\pi_{t} - d_{t} + \\begin{cases} \\iota_{t - 1} \\mid t > 0, \\\\ 0 \\end{cases} \\\\\n\\end{align*}\n$$\n</div>\n</details>\n</div>",
            "text/plain": "LocalSpecification(sources=[LocalSpecificationSource(text=\"$$\\n\\\\begin{align*}\\n  \\\\S^p_\\\\mathrm{horizon}&: h \\\\in \\\\mathbb{N} \\\\\\\\\\n  \\\\S^a&: T \\\\doteq \\\\{ 0 \\\\ldots h - 1 \\\\} \\\\\\\\\\n  \\\\S^p_\\\\mathrm{holdingCost}&: c^\\\\mathrm{holding} \\\\in \\\\mathbb{R}_+^{T} \\\\\\\\\\n  \\\\S^p_\\\\mathrm{setupCost}&: c^\\\\mathrm{setup} \\\\in \\\\mathbb{R}_+^{T} \\\\\\\\\\n  \\\\S^p_\\\\mathrm{demand}&: d \\\\in \\\\mathbb{R}_+^{T} \\\\\\\\\\n  \\\\S^v_\\\\mathrm{production}&: \\\\pi \\\\in [0, \\\\sum_{t \\\\in T} d_{t}]^{T} \\\\\\\\\\n  \\\\S^v_\\\\mathrm{isProducing}&: \\\\pi^\\\\mathrm{is} \\\\in \\\\{0, 1\\\\}^{T} \\\\\\\\\\n  \\\\S^c_\\\\mathrm{isProducingActivates}&: \\\\forall t \\\\in T, \\\\sum_{t' \\\\in T} d_{t'} \\\\pi^\\\\mathrm{is}_{t} \\\\geq \\\\pi_{t} \\\\\\\\\\n  \\\\S^v_\\\\mathrm{inventory}&: \\\\iota \\\\in \\\\mathbb{R}_+^{T} \\\\\\\\\\n  \\\\S^o_\\\\mathrm{minimizeCost}&: \\\\min \\\\sum_{t \\\\in T} \\\\left(c^\\\\mathrm{holding}_{t} \\\\iota_{t} + c^\\\\mathrm{setup}_{t} \\\\pi^\\\\mathrm{is}_{t}\\\\right) \\\\\\\\\\n  \\\\S^c_\\\\mathrm{inventoryPropagation}&: \\\\forall t \\\\in T, \\\\iota_{t} = \\\\pi_{t} - d_{t} + \\\\begin{cases} \\\\iota_{t - 1} \\\\mid t > 0, \\\\\\\\ 0 \\\\end{cases} \\\\\\\\\\n\\\\end{align*}\\n$$\", title='LotSizing')], description='Lot sizing MIP model', annotation=None)"
          },
          "execution_count": 2,
          "metadata": {},
          "output_type": "execute_result"
        }
      ],
      "source": [
        "import opvious.modeling as om\n",
        "\n",
        "class LotSizing(om.Model):\n",
        "    \"\"\"Lot sizing MIP model\"\"\"\n",
        "    \n",
        "    # Inputs\n",
        "    horizon = om.Parameter.natural()  # Number of days in schedule\n",
        "    days = om.interval(0, horizon()-1, name=\"T\")\n",
        "    holding_cost = om.Parameter.non_negative(days)  # Marginal cost of storing inventory\n",
        "    setup_cost = om.Parameter.non_negative(days)  # Fixed cost of producing in a given day\n",
        "    demand = om.Parameter.non_negative(days)  # Demand per day\n",
        "    \n",
        "    # Outputs\n",
        "    production = om.Variable.non_negative(days, upper_bound=demand.total())  # Production per day\n",
        "    is_producing = om.fragments.ActivationVariable(production)  # 1 if production > 0\n",
        "    inventory = om.Variable.non_negative(days)  # Stored inventory per day\n",
        "    \n",
        "    @om.objective\n",
        "    def minimize_cost(self):\n",
        "        return om.total(\n",
        "            self.holding_cost(d) * self.inventory(d) + self.setup_cost(d) * self.is_producing(d)\n",
        "            for d in self.days\n",
        "        )\n",
        "    \n",
        "    @om.constraint\n",
        "    def inventory_propagation(self):\n",
        "        for d in self.days:\n",
        "            base = om.switch((d > 0, self.inventory(d-1)), 0)  # Previous day inventory (0 initially)\n",
        "            delta = self.production(d) - self.demand(d)\n",
        "            yield self.inventory(d) == delta + base\n",
        "\n",
        "\n",
        "model = LotSizing()\n",
        "model.specification()"
      ]
    },
    {
      "cell_type": "markdown",
      "id": "c86040e2",
      "metadata": {},
      "source": [
        "## Application\n",
        "\n",
        "We use the above model to write a function which will return an optimal schedule."
      ]
    },
    {
      "cell_type": "code",
      "execution_count": 3,
      "id": "7372d503",
      "metadata": {},
      "outputs": [],
      "source": [
        "import logging\n",
        "import opvious\n",
        "\n",
        "logging.basicConfig(level=logging.INFO)  # Display live progress notifications\n",
        "\n",
        "async def optimal_production(inputs):\n",
        "    \"\"\"Computes an optimal production schedule for the given inputs\"\"\"\n",
        "    problem = opvious.Problem(\n",
        "        specification=model.specification(),\n",
        "        parameters={\n",
        "            'demand': inputs_df['demand'],\n",
        "            'holdingCost': inputs_df['inventory_cost'],\n",
        "            'setupCost': inputs_df['setup_cost'],\n",
        "            'horizon': len(inputs_df),\n",
        "        },\n",
        "    )\n",
        "    solution = await opvious.Client.default().solve(problem)\n",
        "    return solution.outputs.variable('production').sort_index()"
      ]
    },
    {
      "cell_type": "markdown",
      "id": "0c0f4dfc",
      "metadata": {},
      "source": [
        "## Example\n",
        "\n",
        "Let's now introduce some sample data, identical to the [original example's](https://raw.githubusercontent.com/bruscalia/optimization-demo-files/main/mip/dynamic_lot_size/data/input_wagner.csv). "
      ]
    },
    {
      "cell_type": "code",
      "execution_count": 4,
      "id": "50937038",
      "metadata": {},
      "outputs": [
        {
          "data": {
            "text/html": "<div>\n<style scoped>\n    .dataframe tbody tr th:only-of-type {\n        vertical-align: middle;\n    }\n\n    .dataframe tbody tr th {\n        vertical-align: top;\n    }\n\n    .dataframe thead th {\n        text-align: right;\n    }\n</style>\n<table border=\"1\" class=\"dataframe\">\n  <thead>\n    <tr style=\"text-align: right;\">\n      <th></th>\n      <th>setup_cost</th>\n      <th>inventory_cost</th>\n      <th>demand</th>\n    </tr>\n    <tr>\n      <th>id</th>\n      <th></th>\n      <th></th>\n      <th></th>\n    </tr>\n  </thead>\n  <tbody>\n    <tr>\n      <th>1</th>\n      <td>85</td>\n      <td>1.0</td>\n      <td>69</td>\n    </tr>\n    <tr>\n      <th>2</th>\n      <td>102</td>\n      <td>1.0</td>\n      <td>29</td>\n    </tr>\n    <tr>\n      <th>3</th>\n      <td>102</td>\n      <td>1.0</td>\n      <td>36</td>\n    </tr>\n    <tr>\n      <th>4</th>\n      <td>101</td>\n      <td>1.0</td>\n      <td>61</td>\n    </tr>\n    <tr>\n      <th>5</th>\n      <td>98</td>\n      <td>1.0</td>\n      <td>61</td>\n    </tr>\n    <tr>\n      <th>6</th>\n      <td>114</td>\n      <td>1.0</td>\n      <td>26</td>\n    </tr>\n    <tr>\n      <th>7</th>\n      <td>105</td>\n      <td>1.0</td>\n      <td>34</td>\n    </tr>\n    <tr>\n      <th>8</th>\n      <td>86</td>\n      <td>1.0</td>\n      <td>67</td>\n    </tr>\n    <tr>\n      <th>9</th>\n      <td>119</td>\n      <td>1.0</td>\n      <td>45</td>\n    </tr>\n    <tr>\n      <th>10</th>\n      <td>110</td>\n      <td>1.0</td>\n      <td>67</td>\n    </tr>\n    <tr>\n      <th>11</th>\n      <td>98</td>\n      <td>1.0</td>\n      <td>79</td>\n    </tr>\n    <tr>\n      <th>12</th>\n      <td>114</td>\n      <td>1.0</td>\n      <td>56</td>\n    </tr>\n  </tbody>\n</table>\n</div>",
            "text/plain": "    setup_cost  inventory_cost  demand\nid                                    \n1           85             1.0      69\n2          102             1.0      29\n3          102             1.0      36\n4          101             1.0      61\n5           98             1.0      61\n6          114             1.0      26\n7          105             1.0      34\n8           86             1.0      67\n9          119             1.0      45\n10         110             1.0      67\n11          98             1.0      79\n12         114             1.0      56"
          },
          "execution_count": 4,
          "metadata": {},
          "output_type": "execute_result"
        }
      ],
      "source": [
        "import io\n",
        "import pandas as pd\n",
        "\n",
        "inputs_df = pd.read_csv(io.StringIO(\"\"\"\n",
        "id,setup_cost,inventory_cost,demand\n",
        "1,85,1.0,69\n",
        "2,102,1.0,29\n",
        "3,102,1.0,36\n",
        "4,101,1.0,61\n",
        "5,98,1.0,61\n",
        "6,114,1.0,26\n",
        "7,105,1.0,34\n",
        "8,86,1.0,67\n",
        "9,119,1.0,45\n",
        "10,110,1.0,67\n",
        "11,98,1.0,79\n",
        "12,114,1.0,56\n",
        "\"\"\")).set_index('id')\n",
        "\n",
        "inputs_df"
      ]
    },
    {
      "cell_type": "code",
      "execution_count": 5,
      "id": "12494df6",
      "metadata": {},
      "outputs": [
        {
          "name": "stderr",
          "output_type": "stream",
          "text": "INFO:opvious.client.handlers:Validated inputs. [parameters=37]\nINFO:opvious.client.handlers:Solving problem... [columns=39, rows=26]\nINFO:opvious.client.handlers:Solve in progress... [iterations=0, gap=inf]\nINFO:opvious.client.handlers:Solve in progress... [iterations=0, gap=100.0%]\nINFO:opvious.client.handlers:Solve in progress... [iterations=12, gap=92.0%]\nINFO:opvious.client.handlers:Solve in progress... [iterations=23, gap=38.93%]\nINFO:opvious.client.handlers:Solve in progress... [iterations=27, gap=25.94%]\nINFO:opvious.client.handlers:Solve completed with status OPTIMAL. [objective=779]\n"
        },
        {
          "data": {
            "text/html": "<div>\n<style scoped>\n    .dataframe tbody tr th:only-of-type {\n        vertical-align: middle;\n    }\n\n    .dataframe tbody tr th {\n        vertical-align: top;\n    }\n\n    .dataframe thead th {\n        text-align: right;\n    }\n</style>\n<table border=\"1\" class=\"dataframe\">\n  <thead>\n    <tr style=\"text-align: right;\">\n      <th></th>\n      <th>value</th>\n    </tr>\n  </thead>\n  <tbody>\n    <tr>\n      <th>0</th>\n      <td>98</td>\n    </tr>\n    <tr>\n      <th>3</th>\n      <td>97</td>\n    </tr>\n    <tr>\n      <th>5</th>\n      <td>121</td>\n    </tr>\n    <tr>\n      <th>8</th>\n      <td>112</td>\n    </tr>\n    <tr>\n      <th>10</th>\n      <td>67</td>\n    </tr>\n    <tr>\n      <th>11</th>\n      <td>135</td>\n    </tr>\n  </tbody>\n</table>\n</div>",
            "text/plain": "    value\n0      98\n3      97\n5     121\n8     112\n10     67\n11    135"
          },
          "execution_count": 5,
          "metadata": {},
          "output_type": "execute_result"
        }
      ],
      "source": [
        "await optimal_production(inputs_df)"
      ]
    },
    {
      "cell_type": "code",
      "execution_count": 6,
      "id": "fa40c678",
      "metadata": {},
      "outputs": [],
      "source": []
    }
  ],
  "metadata": {
    "kernelspec": {
      "display_name": "Python 3 (ipykernel)",
      "language": "python",
      "name": "python3"
    },
    "language_info": {
      "codemirror_mode": {
        "name": "ipython",
        "version": 3
      },
      "file_extension": ".py",
      "mimetype": "text/x-python",
      "name": "python",
      "nbconvert_exporter": "python",
      "pygments_lexer": "ipython3",
      "version": "3.11.4"
    }
  },
  "nbformat": 4,
  "nbformat_minor": 5
}