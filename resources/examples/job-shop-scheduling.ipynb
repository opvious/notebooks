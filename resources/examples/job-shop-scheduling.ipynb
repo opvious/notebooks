{
 "cells": [
  {
   "cell_type": "markdown",
   "id": "1a5917f2-027e-47bd-b0cd-19e785e5c455",
   "metadata": {},
   "source": [
    "# Job shop scheduling\n",
    "\n",
    "<div class=\"alert alert-block alert-info\">\n",
    "    &#9432; The code in this notebook can be executed <a href=\"https://www.opvious.io/notebooks/retro/notebooks/?path=examples/job-shop-scheduling.ipynb\">directly from your browser</a>.\n",
    "</div>\n",
    "\n",
    "In this notebook we implement the job shop scheduling problem described in https://jckantor.github.io/ND-Pyomo-Cookbook/notebooks/04.03-Job-Shop-Scheduling.html. We show in particular how [activation variable fragments](https://opvious.readthedocs.io/en/stable/api-reference.html#opvious.modeling.fragments.ActivationVariable) can be used to implement disjunctive constraints."
   ]
  },
  {
   "cell_type": "code",
   "execution_count": 1,
   "id": "9b75dc93-8b84-4dbe-b6fc-a81b45f6b8fb",
   "metadata": {},
   "outputs": [],
   "source": [
    "%pip install opvious"
   ]
  },
  {
   "cell_type": "markdown",
   "id": "0187a406-d58f-4f9a-badc-548315e7e23c",
   "metadata": {},
   "source": [
    "## Formulation\n",
    "\n",
    "The first step is to formulate the problem problem using `opvious`' [declarative modeling API](https://opvious.readthedocs.io/en/stable/modeling.html)."
   ]
  },
  {
   "cell_type": "code",
   "execution_count": 2,
   "id": "6803054a-6db7-4eee-aa39-8b4fec995836",
   "metadata": {},
   "outputs": [
    {
     "data": {
      "text/markdown": [
       "<div style=\"margin-top: 1em; margin-bottom: 1em;\">\n",
       "<details open>\n",
       "<summary style=\"cursor: pointer; text-decoration: underline; text-decoration-style: dotted;\">JobShopScheduling</summary>\n",
       "<div style=\"margin-top: 1em;\">\n",
       "$$\n",
       "\\begin{align*}\n",
       "  \\S^d_\\mathrm{tasks}&: T \\\\\n",
       "  \\S^p_\\mathrm{duration}&: d \\in \\mathbb{N}^{T} \\\\\n",
       "  \\S^p_\\mathrm{machine}&: m \\in \\mathbb{N}^{T} \\\\\n",
       "  \\S^p_\\mathrm{dependency[child,parent]}&: d' \\in \\{0, 1\\}^{T \\times T} \\\\\n",
       "  \\S^v_\\mathrm{taskStart}&: \\sigma^\\mathrm{task} \\in \\{1 \\ldots \\infty\\}^{T} \\\\\n",
       "  \\S^v_\\mathrm{horizon}&: \\eta \\in \\mathbb{N} \\\\\n",
       "  \\S^c_\\mathrm{allTasksEndWithinHorizon}&: \\forall t \\in T, \\sigma^\\mathrm{task}_{t} + d_{t} \\leq \\eta \\\\\n",
       "  \\S^c_\\mathrm{childStartsAfterParentEnds}&: \\forall t, t' \\in T \\mid d'_{t,t'} \\neq 0, \\sigma^\\mathrm{task}_{t} \\geq \\sigma^\\mathrm{task}_{t'} + d_{t'} \\\\\n",
       "  \\S^v_\\mathrm{mustStartAfter}&: \\alpha^\\mathrm{mustStart} \\in \\{0, 1\\}^{\\{ t, t' \\in T \\mid t \\neq t' \\land m_{t} = m_{t'} \\}} \\\\\n",
       "  \\S^c_\\mathrm{mustStartAfterActivates}&: \\forall t, t' \\in T \\mid t \\neq t' \\land m_{t} = m_{t'}, \\sum_{t'' \\in T} d_{t''} \\left(1 - \\alpha^\\mathrm{mustStart}_{t,t'}\\right) \\geq \\sigma^\\mathrm{task}_{t'} + d_{t'} - \\sigma^\\mathrm{task}_{t} \\\\\n",
       "  \\S^v_\\mathrm{mustEndBefore}&: \\beta^\\mathrm{mustEnd} \\in \\{0, 1\\}^{\\{ t, t' \\in T \\mid t \\neq t' \\land m_{t} = m_{t'} \\}} \\\\\n",
       "  \\S^c_\\mathrm{mustEndBeforeActivates}&: \\forall t, t' \\in T \\mid t \\neq t' \\land m_{t} = m_{t'}, \\sum_{t'' \\in T} d_{t''} \\left(1 - \\beta^\\mathrm{mustEnd}_{t,t'}\\right) \\geq \\sigma^\\mathrm{task}_{t} + d_{t} - \\sigma^\\mathrm{task}_{t'} \\\\\n",
       "  \\S^c_\\mathrm{oneActiveTaskPerMachine}&: \\forall t, t' \\in T \\mid t \\neq t' \\land m_{t} = m_{t'}, \\beta^\\mathrm{mustEnd}_{t,t'} + \\alpha^\\mathrm{mustStart}_{t,t'} \\geq 1 \\\\\n",
       "  \\S^o_\\mathrm{minimizeHorizon}&: \\min \\eta \\\\\n",
       "\\end{align*}\n",
       "$$\n",
       "</div>\n",
       "</details>\n",
       "</div>"
      ],
      "text/plain": [
       "LocalSpecification(sources=[LocalSpecificationSource(text=\"$$\\n\\\\begin{align*}\\n  \\\\S^d_\\\\mathrm{tasks}&: T \\\\\\\\\\n  \\\\S^p_\\\\mathrm{duration}&: d \\\\in \\\\mathbb{N}^{T} \\\\\\\\\\n  \\\\S^p_\\\\mathrm{machine}&: m \\\\in \\\\mathbb{N}^{T} \\\\\\\\\\n  \\\\S^p_\\\\mathrm{dependency[child,parent]}&: d' \\\\in \\\\{0, 1\\\\}^{T \\\\times T} \\\\\\\\\\n  \\\\S^v_\\\\mathrm{taskStart}&: \\\\sigma^\\\\mathrm{task} \\\\in \\\\{1 \\\\ldots \\\\infty\\\\}^{T} \\\\\\\\\\n  \\\\S^v_\\\\mathrm{horizon}&: \\\\eta \\\\in \\\\mathbb{N} \\\\\\\\\\n  \\\\S^c_\\\\mathrm{allTasksEndWithinHorizon}&: \\\\forall t \\\\in T, \\\\sigma^\\\\mathrm{task}_{t} + d_{t} \\\\leq \\\\eta \\\\\\\\\\n  \\\\S^c_\\\\mathrm{childStartsAfterParentEnds}&: \\\\forall t, t' \\\\in T \\\\mid d'_{t,t'} \\\\neq 0, \\\\sigma^\\\\mathrm{task}_{t} \\\\geq \\\\sigma^\\\\mathrm{task}_{t'} + d_{t'} \\\\\\\\\\n  \\\\S^v_\\\\mathrm{mustStartAfter}&: \\\\alpha^\\\\mathrm{mustStart} \\\\in \\\\{0, 1\\\\}^{\\\\{ t, t' \\\\in T \\\\mid t \\\\neq t' \\\\land m_{t} = m_{t'} \\\\}} \\\\\\\\\\n  \\\\S^c_\\\\mathrm{mustStartAfterActivates}&: \\\\forall t, t' \\\\in T \\\\mid t \\\\neq t' \\\\land m_{t} = m_{t'}, \\\\sum_{t'' \\\\in T} d_{t''} \\\\left(1 - \\\\alpha^\\\\mathrm{mustStart}_{t,t'}\\\\right) \\\\geq \\\\sigma^\\\\mathrm{task}_{t'} + d_{t'} - \\\\sigma^\\\\mathrm{task}_{t} \\\\\\\\\\n  \\\\S^v_\\\\mathrm{mustEndBefore}&: \\\\beta^\\\\mathrm{mustEnd} \\\\in \\\\{0, 1\\\\}^{\\\\{ t, t' \\\\in T \\\\mid t \\\\neq t' \\\\land m_{t} = m_{t'} \\\\}} \\\\\\\\\\n  \\\\S^c_\\\\mathrm{mustEndBeforeActivates}&: \\\\forall t, t' \\\\in T \\\\mid t \\\\neq t' \\\\land m_{t} = m_{t'}, \\\\sum_{t'' \\\\in T} d_{t''} \\\\left(1 - \\\\beta^\\\\mathrm{mustEnd}_{t,t'}\\\\right) \\\\geq \\\\sigma^\\\\mathrm{task}_{t} + d_{t} - \\\\sigma^\\\\mathrm{task}_{t'} \\\\\\\\\\n  \\\\S^c_\\\\mathrm{oneActiveTaskPerMachine}&: \\\\forall t, t' \\\\in T \\\\mid t \\\\neq t' \\\\land m_{t} = m_{t'}, \\\\beta^\\\\mathrm{mustEnd}_{t,t'} + \\\\alpha^\\\\mathrm{mustStart}_{t,t'} \\\\geq 1 \\\\\\\\\\n  \\\\S^o_\\\\mathrm{minimizeHorizon}&: \\\\min \\\\eta \\\\\\\\\\n\\\\end{align*}\\n$$\", title='JobShopScheduling')], description='MIP formulation for scheduling dependent tasks of various durations', annotation=None)"
      ]
     },
     "execution_count": 1,
     "metadata": {},
     "output_type": "execute_result"
    }
   ],
   "source": [
    "import opvious.modeling as om\n",
    "\n",
    "class JobShopScheduling(om.Model):\n",
    "    \"\"\"MIP formulation for scheduling dependent tasks of various durations\"\"\"\n",
    "    \n",
    "    tasks = om.Dimension()\n",
    "    duration = om.Parameter.natural(tasks)\n",
    "    machine = om.Parameter.natural(tasks)\n",
    "    dependency = om.Parameter.indicator(tasks, tasks, qualifiers=['child', 'parent'])\n",
    "    task_start = om.Variable.discrete(tasks, lower_bound=1)\n",
    "    horizon = om.Variable.natural()\n",
    "                                                  \n",
    "    def task_end(self, t):\n",
    "        return self.task_start(t) + self.duration(t)\n",
    "\n",
    "    @om.constraint\n",
    "    def all_tasks_end_within_horizon(self):\n",
    "        for t in self.tasks:\n",
    "            yield self.task_end(t) <= self.horizon()\n",
    "\n",
    "    @om.constraint\n",
    "    def child_starts_after_parent_ends(self):\n",
    "        for c, p in self.tasks * self.tasks:\n",
    "            if self.dependency(c, p):\n",
    "                yield self.task_start(c) >= self.task_end(p)\n",
    "\n",
    "    @property\n",
    "    def competing_tasks(self):\n",
    "        for t1, t2 in self.tasks * self.tasks:\n",
    "            if t1 != t2 and self.machine(t1) == self.machine(t2):\n",
    "                yield t1, t2\n",
    "\n",
    "    @om.fragments.activation_variable(lambda init, self: init(self.competing_tasks, negate=True, upper_bound=self.duration.total()))\n",
    "    def must_start_after(self, t1, t2):\n",
    "        return self.task_end(t2) - self.task_start(t1)\n",
    "\n",
    "    @om.fragments.activation_variable(lambda init, self: init(self.competing_tasks, negate=True, upper_bound=self.duration.total()))\n",
    "    def must_end_before(self, t1, t2):\n",
    "        return self.task_end(t1) - self.task_start(t2)\n",
    "\n",
    "    @om.constraint\n",
    "    def one_active_task_per_machine(self):\n",
    "        for t1, t2 in self.competing_tasks:\n",
    "            yield self.must_end_before(t1, t2) + self.must_start_after(t1, t2) >= 1\n",
    "\n",
    "    @om.objective\n",
    "    def minimize_horizon(self):\n",
    "        return self.horizon()\n",
    "\n",
    "model = JobShopScheduling()\n",
    "model.specification()"
   ]
  },
  {
   "cell_type": "markdown",
   "id": "16e84c56-9b24-4248-9d7d-e9f1b463e62a",
   "metadata": {},
   "source": [
    "## Application\n",
    "\n",
    "Let's try our formulation out on a simple example."
   ]
  },
  {
   "cell_type": "code",
   "execution_count": 3,
   "id": "652785de-f17f-4236-949e-cf2411f01080",
   "metadata": {},
   "outputs": [],
   "source": [
    "import opvious\n",
    "\n",
    "async def find_optimal_start_times(tasks):\n",
    "    \"\"\"Returns a dataframe of optimal task start times\"\"\"\n",
    "    problem = opvious.Problem(\n",
    "        specification=model.specification(),\n",
    "        parameters={\n",
    "            'machine': {str(k): k[1] for k in tasks.keys()},\n",
    "            'duration': {str(k): v['dur'] for k, v in tasks.items()},\n",
    "            'dependency': [(str(k), str(v['prec'])) for k, v in tasks.items() if v['prec']]\n",
    "        },\n",
    "    )\n",
    "    solution = await opvious.Client.default(\"https://try.opvious.io\").solve(problem)\n",
    "    return solution.outputs.variable('taskStart')"
   ]
  },
  {
   "cell_type": "code",
   "execution_count": 4,
   "id": "b8442ebb-e4ec-4285-84e0-04651ece25e8",
   "metadata": {},
   "outputs": [
    {
     "data": {
      "text/html": [
       "<div>\n",
       "<style scoped>\n",
       "    .dataframe tbody tr th:only-of-type {\n",
       "        vertical-align: middle;\n",
       "    }\n",
       "\n",
       "    .dataframe tbody tr th {\n",
       "        vertical-align: top;\n",
       "    }\n",
       "\n",
       "    .dataframe thead th {\n",
       "        text-align: right;\n",
       "    }\n",
       "</style>\n",
       "<table border=\"1\" class=\"dataframe\">\n",
       "  <thead>\n",
       "    <tr style=\"text-align: right;\">\n",
       "      <th></th>\n",
       "      <th>value</th>\n",
       "    </tr>\n",
       "    <tr>\n",
       "      <th>tasks</th>\n",
       "      <th></th>\n",
       "    </tr>\n",
       "  </thead>\n",
       "  <tbody>\n",
       "    <tr>\n",
       "      <th>('Paper_1', 1)</th>\n",
       "      <td>43</td>\n",
       "    </tr>\n",
       "    <tr>\n",
       "      <th>('Paper_1', 2)</th>\n",
       "      <td>88</td>\n",
       "    </tr>\n",
       "    <tr>\n",
       "      <th>('Paper_2', 1)</th>\n",
       "      <td>11</td>\n",
       "    </tr>\n",
       "    <tr>\n",
       "      <th>('Paper_2', 2)</th>\n",
       "      <td>31</td>\n",
       "    </tr>\n",
       "    <tr>\n",
       "      <th>('Paper_2', 3)</th>\n",
       "      <td>1</td>\n",
       "    </tr>\n",
       "    <tr>\n",
       "      <th>('Paper_3', 1)</th>\n",
       "      <td>31</td>\n",
       "    </tr>\n",
       "    <tr>\n",
       "      <th>('Paper_3', 2)</th>\n",
       "      <td>1</td>\n",
       "    </tr>\n",
       "    <tr>\n",
       "      <th>('Paper_3', 3)</th>\n",
       "      <td>43</td>\n",
       "    </tr>\n",
       "  </tbody>\n",
       "</table>\n",
       "</div>"
      ],
      "text/plain": [
       "                value\n",
       "tasks                \n",
       "('Paper_1', 1)     43\n",
       "('Paper_1', 2)     88\n",
       "('Paper_2', 1)     11\n",
       "('Paper_2', 2)     31\n",
       "('Paper_2', 3)      1\n",
       "('Paper_3', 1)     31\n",
       "('Paper_3', 2)      1\n",
       "('Paper_3', 3)     43"
      ]
     },
     "execution_count": 7,
     "metadata": {},
     "output_type": "execute_result"
    }
   ],
   "source": [
    "await find_optimal_start_times({\n",
    "    ('Paper_1',1)   : {'dur': 45, 'prec': None},\n",
    "    ('Paper_1',2) : {'dur': 10, 'prec': ('Paper_1',1)},\n",
    "    ('Paper_2',1)   : {'dur': 20, 'prec': ('Paper_2',3)},\n",
    "    ('Paper_2',3)  : {'dur': 10, 'prec': None},\n",
    "    ('Paper_2',2) : {'dur': 34, 'prec': ('Paper_2',1)},\n",
    "    ('Paper_3',1)   : {'dur': 12, 'prec': ('Paper_3',2)},\n",
    "    ('Paper_3',3)  : {'dur': 17, 'prec': ('Paper_3',1)},\n",
    "    ('Paper_3',2) : {'dur': 28, 'prec': None},   \n",
    "})"
   ]
  },
  {
   "cell_type": "code",
   "execution_count": 5,
   "id": "dff0bd86-30a0-4bad-acc5-b8b6f31bbd08",
   "metadata": {},
   "outputs": [],
   "source": []
  }
 ],
 "metadata": {
  "kernelspec": {
   "display_name": "Python 3 (ipykernel)",
   "language": "python",
   "name": "python3"
  },
  "language_info": {
   "codemirror_mode": {
    "name": "ipython",
    "version": 3
   },
   "file_extension": ".py",
   "mimetype": "text/x-python",
   "name": "python",
   "nbconvert_exporter": "python",
   "pygments_lexer": "ipython3",
   "version": "3.12.5"
  }
 },
 "nbformat": 4,
 "nbformat_minor": 5
}
