{
 "cells": [
  {
   "cell_type": "markdown",
   "id": "a27f1002-11a5-485a-b5ba-a86b8763ed0a",
   "metadata": {},
   "source": [
    "# Simple model template\n",
    "\n",
    "Use this notebook as starting point for implementing simple optimization models with the [Python SDK](https://opvious.readthedocs.io/en/stable/index.html)."
   ]
  },
  {
   "cell_type": "code",
   "execution_count": 1,
   "id": "206de643-14b8-45b9-91cb-0917ef42af85",
   "metadata": {},
   "outputs": [],
   "source": [
    "%pip install opvious"
   ]
  },
  {
   "cell_type": "markdown",
   "id": "e174fc54-7a58-4fa1-815d-d6ddb4fe715e",
   "metadata": {},
   "source": [
    "## Specification\n",
    "\n",
    "We first define the model using the [declarative API](https://opvious.readthedocs.io/en/stable/modeling.html)."
   ]
  },
  {
   "cell_type": "code",
   "execution_count": 2,
   "id": "598a2070-24da-47c0-babe-e88d5d201f63",
   "metadata": {},
   "outputs": [
    {
     "data": {
      "text/markdown": [
       "<div style=\"margin-top: 1em; margin-bottom: 1em;\"></div>"
      ],
      "text/plain": [
       "LocalSpecification(sources=[], description=None, annotation=None)"
      ]
     },
     "execution_count": 15,
     "metadata": {},
     "output_type": "execute_result"
    }
   ],
   "source": [
    "import opvious.modeling as om\n",
    "\n",
    "class Model(om.Model):\n",
    "    pass\n",
    "\n",
    "model = Model()\n",
    "model.specification()  # Renders the model's LaTeX definitions"
   ]
  },
  {
   "cell_type": "markdown",
   "id": "f02b2e0e-a300-4420-b283-65940b4a326c",
   "metadata": {},
   "source": [
    "## Validation\n",
    "\n",
    "We can now use the [API's capabilities](https://opvious.readthedocs.io/en/stable/overview.html) to validate the model and run it on sample data."
   ]
  },
  {
   "cell_type": "code",
   "execution_count": 3,
   "id": "fe74722e-d100-4052-b6d0-b04dcbc04a38",
   "metadata": {},
   "outputs": [],
   "source": [
    "import opvious\n",
    "\n",
    "client = opvious.Client.from_environment(default_endpoint=opvious.DEMO_ENDPOINT)\n",
    "\n",
    "def build_problem():  # Add model-specific arguments\n",
    "    \"\"\"Generates a problem instance from model-specific arguments\"\"\"\n",
    "    return opvious.Problem(\n",
    "        specification=model.specification(),\n",
    "        parameters={\n",
    "            # Add parameters from arguments\n",
    "        }\n",
    "    )"
   ]
  },
  {
   "cell_type": "code",
   "execution_count": 4,
   "id": "59461dca-f754-44dd-a2d2-a25c9bed0834",
   "metadata": {},
   "outputs": [],
   "source": []
  }
 ],
 "metadata": {
  "kernelspec": {
   "display_name": "Python 3 (ipykernel)",
   "language": "python",
   "name": "python3"
  },
  "language_info": {
   "codemirror_mode": {
    "name": "ipython",
    "version": 3
   },
   "file_extension": ".py",
   "mimetype": "text/x-python",
   "name": "python",
   "nbconvert_exporter": "python",
   "pygments_lexer": "ipython3",
   "version": "3.12.5"
  }
 },
 "nbformat": 4,
 "nbformat_minor": 5
}
